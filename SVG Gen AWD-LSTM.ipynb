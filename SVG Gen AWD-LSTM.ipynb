{
 "cells": [
  {
   "cell_type": "code",
   "execution_count": 1,
   "metadata": {},
   "outputs": [],
   "source": [
    "%reload_ext autoreload\n",
    "%autoreload 2\n",
    "%matplotlib inline"
   ]
  },
  {
   "cell_type": "code",
   "execution_count": 2,
   "metadata": {},
   "outputs": [],
   "source": [
    "from fastai.text import *\n",
    "from fastai.vision import *\n",
    "import fastai.distributed\n",
    "from pathlib import Path\n",
    "import pdb\n",
    "import re\n",
    "import seaborn as sns\n",
    "from IPython.display import SVG, display\n",
    "from wand.image import Image as WImage\n",
    "import wand\n",
    "import os\n",
    "# os.environ[\"CUDA_DEVICE_ORDER\"]=\"PCI_BUS_ID\"   # see issue #152\n",
    "# os.environ[\"CUDA_VISIBLE_DEVICES\"]=\"0\""
   ]
  },
  {
   "cell_type": "code",
   "execution_count": 3,
   "metadata": {},
   "outputs": [],
   "source": [
    "# enter your path here\n",
    "path = Path(\"../google-fonts-data\")"
   ]
  },
  {
   "cell_type": "code",
   "execution_count": 4,
   "metadata": {},
   "outputs": [
    {
     "data": {
      "text/html": [
       "\n",
       "    <div>\n",
       "        <style>\n",
       "            /* Turns off some styling */\n",
       "            progress {\n",
       "                /* gets rid of default border in Firefox and Opera. */\n",
       "                border: none;\n",
       "                /* Needs to be in here for Safari polyfill so background images work as expected. */\n",
       "                background-size: auto;\n",
       "            }\n",
       "            .progress-bar-interrupted, .progress-bar-interrupted::-webkit-progress-bar {\n",
       "                background: #F44336;\n",
       "            }\n",
       "        </style>\n",
       "      <progress value='113646' class='' max='113646', style='width:300px; height:20px; vertical-align: middle;'></progress>\n",
       "      100.00% [113646/113646 00:05<00:00]\n",
       "    </div>\n",
       "    "
      ],
      "text/plain": [
       "<IPython.core.display.HTML object>"
      ]
     },
     "metadata": {},
     "output_type": "display_data"
    }
   ],
   "source": [
    "out = []\n",
    "for file in progress_bar(path.glob(\"**/*.svg\"),total=113646):\n",
    "    try:\n",
    "        s = file.open().read()\n",
    "        match = re.match(\".*viewBox=\\\"0 0 (\\d+) (\\d+)\\\".*<path.*d=\\\"([^\\\"]*)\\\".*\",s,flags=re.DOTALL)\n",
    "        match2 = re.match(\".*<g transform=\\\"matrix\\(1 0 0 -1 0 (\\d+)\\)\\\">.*\",s,flags=re.DOTALL)\n",
    "        xform = 0\n",
    "        if match2:\n",
    "            xform = float(match2.group(1))\n",
    "        out.append({\"file\": file, \"path\": match.group(3), \"box_x\": float(match.group(1)), \"box_y\": float(match.group(2)),\"xform\": xform})\n",
    "    except:\n",
    "        pass"
   ]
  },
  {
   "cell_type": "code",
   "execution_count": 5,
   "metadata": {},
   "outputs": [
    {
     "data": {
      "text/html": [
       "<div>\n",
       "<style scoped>\n",
       "    .dataframe tbody tr th:only-of-type {\n",
       "        vertical-align: middle;\n",
       "    }\n",
       "\n",
       "    .dataframe tbody tr th {\n",
       "        vertical-align: top;\n",
       "    }\n",
       "\n",
       "    .dataframe thead th {\n",
       "        text-align: right;\n",
       "    }\n",
       "</style>\n",
       "<table border=\"1\" class=\"dataframe\">\n",
       "  <thead>\n",
       "    <tr style=\"text-align: right;\">\n",
       "      <th></th>\n",
       "      <th>box_x</th>\n",
       "      <th>box_y</th>\n",
       "      <th>file</th>\n",
       "      <th>path</th>\n",
       "      <th>xform</th>\n",
       "      <th>png</th>\n",
       "      <th>label</th>\n",
       "      <th>font</th>\n",
       "    </tr>\n",
       "  </thead>\n",
       "  <tbody>\n",
       "    <tr>\n",
       "      <th>0</th>\n",
       "      <td>535.0</td>\n",
       "      <td>1000.0</td>\n",
       "      <td>../google-fonts-data/italic/SANS_SERIF/asap/70...</td>\n",
       "      <td>M32 34q0 10 1 16l2 17q3 27 11.5 38.5t24.5 11.5...</td>\n",
       "      <td>800.0</td>\n",
       "      <td>../google-fonts-data/italic/SANS_SERIF/asap/70...</td>\n",
       "      <td>one</td>\n",
       "      <td>asap</td>\n",
       "    </tr>\n",
       "    <tr>\n",
       "      <th>1</th>\n",
       "      <td>843.0</td>\n",
       "      <td>1000.0</td>\n",
       "      <td>../google-fonts-data/italic/SANS_SERIF/asap/70...</td>\n",
       "      <td>M57 6.5q-13 8.5 -11 28.5l66 635q3 32 63 32h52q...</td>\n",
       "      <td>800.0</td>\n",
       "      <td>../google-fonts-data/italic/SANS_SERIF/asap/70...</td>\n",
       "      <td>$M</td>\n",
       "      <td>asap</td>\n",
       "    </tr>\n",
       "    <tr>\n",
       "      <th>2</th>\n",
       "      <td>489.0</td>\n",
       "      <td>1000.0</td>\n",
       "      <td>../google-fonts-data/italic/SANS_SERIF/asap/70...</td>\n",
       "      <td>M15.5 24.5q-8.5 24.5 -8.5 48.5q0 15 8 24l257 3...</td>\n",
       "      <td>800.0</td>\n",
       "      <td>../google-fonts-data/italic/SANS_SERIF/asap/70...</td>\n",
       "      <td>z</td>\n",
       "      <td>asap</td>\n",
       "    </tr>\n",
       "    <tr>\n",
       "      <th>3</th>\n",
       "      <td>731.0</td>\n",
       "      <td>1000.0</td>\n",
       "      <td>../google-fonts-data/italic/SANS_SERIF/asap/70...</td>\n",
       "      <td>M493.5 -105.5q-133.5 56.5 -258.5 112.5q-97 44 ...</td>\n",
       "      <td>800.0</td>\n",
       "      <td>../google-fonts-data/italic/SANS_SERIF/asap/70...</td>\n",
       "      <td>$Q</td>\n",
       "      <td>asap</td>\n",
       "    </tr>\n",
       "    <tr>\n",
       "      <th>4</th>\n",
       "      <td>549.0</td>\n",
       "      <td>1000.0</td>\n",
       "      <td>../google-fonts-data/italic/SANS_SERIF/asap/70...</td>\n",
       "      <td>M174 35l56 534h-158q-14 0 -20.5 9.5t-6.5 31.5q...</td>\n",
       "      <td>800.0</td>\n",
       "      <td>../google-fonts-data/italic/SANS_SERIF/asap/70...</td>\n",
       "      <td>$T</td>\n",
       "      <td>asap</td>\n",
       "    </tr>\n",
       "  </tbody>\n",
       "</table>\n",
       "</div>"
      ],
      "text/plain": [
       "   box_x   box_y                                               file  \\\n",
       "0  535.0  1000.0  ../google-fonts-data/italic/SANS_SERIF/asap/70...   \n",
       "1  843.0  1000.0  ../google-fonts-data/italic/SANS_SERIF/asap/70...   \n",
       "2  489.0  1000.0  ../google-fonts-data/italic/SANS_SERIF/asap/70...   \n",
       "3  731.0  1000.0  ../google-fonts-data/italic/SANS_SERIF/asap/70...   \n",
       "4  549.0  1000.0  ../google-fonts-data/italic/SANS_SERIF/asap/70...   \n",
       "\n",
       "                                                path  xform  \\\n",
       "0  M32 34q0 10 1 16l2 17q3 27 11.5 38.5t24.5 11.5...  800.0   \n",
       "1  M57 6.5q-13 8.5 -11 28.5l66 635q3 32 63 32h52q...  800.0   \n",
       "2  M15.5 24.5q-8.5 24.5 -8.5 48.5q0 15 8 24l257 3...  800.0   \n",
       "3  M493.5 -105.5q-133.5 56.5 -258.5 112.5q-97 44 ...  800.0   \n",
       "4  M174 35l56 534h-158q-14 0 -20.5 9.5t-6.5 31.5q...  800.0   \n",
       "\n",
       "                                                 png label  font  \n",
       "0  ../google-fonts-data/italic/SANS_SERIF/asap/70...   one  asap  \n",
       "1  ../google-fonts-data/italic/SANS_SERIF/asap/70...    $M  asap  \n",
       "2  ../google-fonts-data/italic/SANS_SERIF/asap/70...     z  asap  \n",
       "3  ../google-fonts-data/italic/SANS_SERIF/asap/70...    $Q  asap  \n",
       "4  ../google-fonts-data/italic/SANS_SERIF/asap/70...    $T  asap  "
      ]
     },
     "execution_count": 5,
     "metadata": {},
     "output_type": "execute_result"
    }
   ],
   "source": [
    "svgDF = pd.DataFrame(out)\n",
    "svgDF[\"png\"] = svgDF.file.apply(lambda f: \"/\".join(f.parts[:-2]) + \"/png/\" + f.name[:-3] + \"png\")\n",
    "exists = svgDF.png.apply(lambda f: Path(f).exists())\n",
    "svgDF[\"label\"] = svgDF.file.apply(lambda f: f.name[:-4])\n",
    "svgDF[\"font\"] = svgDF.file.apply(lambda f: f.parts[4])\n",
    "svgDF = svgDF[exists]\n",
    "svgDF.head()"
   ]
  },
  {
   "cell_type": "code",
   "execution_count": 6,
   "metadata": {},
   "outputs": [],
   "source": [
    "svgDF.to_pickle(\"svgdf.pkl\")"
   ]
  },
  {
   "cell_type": "code",
   "execution_count": 4,
   "metadata": {},
   "outputs": [],
   "source": [
    "svgDF = pickle.load(Path(\"svgdf.pkl\").open(\"rb\"))"
   ]
  },
  {
   "cell_type": "code",
   "execution_count": 5,
   "metadata": {},
   "outputs": [],
   "source": [
    "def render_path(path,bbox_x,bbox_y):\n",
    "    bbox_x,bbox_y = int(bbox_x),int(bbox_y)\n",
    "    st = f'<svg viewBox=\"0 0 {bbox_x} {bbox_y}\" xmlns=\"http://www.w3.org/2000/svg\"><path d=\"{path}\"/></svg>'\n",
    "#     img = WImage(blob=str.encode(st),format=\"svg\",width=128,height=128)\n",
    "    return st"
   ]
  },
  {
   "cell_type": "code",
   "execution_count": 6,
   "metadata": {},
   "outputs": [],
   "source": [
    "def render_path_wand(path,bbox_x,bbox_y):\n",
    "    bbox_x,bbox_y = int(bbox_x),int(bbox_y)\n",
    "    st = f'<svg viewBox=\"0 0 {bbox_x} {bbox_y}\" xmlns=\"http://www.w3.org/2000/svg\"><path d=\"{path}\"/></svg>'\n",
    "    img = WImage(blob=str.encode(st),format=\"svg\",width=64,height=64)\n",
    "    return img"
   ]
  },
  {
   "cell_type": "code",
   "execution_count": 7,
   "metadata": {},
   "outputs": [],
   "source": [
    "img = render_path_wand(svgDF.iloc[0].path,500,500)"
   ]
  },
  {
   "cell_type": "code",
   "execution_count": 8,
   "metadata": {},
   "outputs": [
    {
     "data": {
      "text/plain": [
       "(64, 64)"
      ]
     },
     "execution_count": 8,
     "metadata": {},
     "output_type": "execute_result"
    }
   ],
   "source": [
    "img.size"
   ]
  },
  {
   "cell_type": "code",
   "execution_count": 9,
   "metadata": {},
   "outputs": [],
   "source": [
    "def wand_to_tensor(wimage):\n",
    "    wimage.depth = 8\n",
    "    wimage.background_color = wand.color.Color(\"white\")\n",
    "    wimage.alpha_channel = \"remove\"\n",
    "    blob = wimage.make_blob(format=\"RGB\")\n",
    "    pixels = []\n",
    "    for cursor in range(0,64*64*3,3):\n",
    "        pixels.append((blob[cursor],\n",
    "                       blob[cursor + 1],\n",
    "                       blob[cursor + 2]))\n",
    "    return torch.tensor(pixels).view(64,64,3).float().permute(2,0,1)[0] / 255.0"
   ]
  },
  {
   "cell_type": "code",
   "execution_count": 10,
   "metadata": {},
   "outputs": [],
   "source": [
    "a = wand_to_tensor(render_path_wand(svgDF.iloc[0].path,500,500))"
   ]
  },
  {
   "cell_type": "code",
   "execution_count": 11,
   "metadata": {},
   "outputs": [
    {
     "data": {
      "text/plain": [
       "<matplotlib.image.AxesImage at 0x7f31e0365e48>"
      ]
     },
     "execution_count": 11,
     "metadata": {},
     "output_type": "execute_result"
    },
    {
     "data": {
      "image/png": "[encoded data removed]",
      "text/plain": [
       "<Figure size 432x288 with 1 Axes>"
      ]
     },
     "metadata": {
      "needs_background": "light"
     },
     "output_type": "display_data"
    }
   ],
   "source": [
    "plt.imshow(a)"
   ]
  },
  {
   "cell_type": "code",
   "execution_count": 12,
   "metadata": {},
   "outputs": [],
   "source": [
    "tool_dict = {\"P\": [], \"M\": [\"x\",\"y\"], \"m\": [\"x\",\"y\"], \"L\": [\"x\",\"y\"], \"l\": [\"x\",\"y\"], \"H\": [\"x\"], \"h\": [\"x\"], \n",
    "             \"V\": [\"y\"], \"v\": [\"y\"], \"C\": [\"x\",\"y\",\"x\",\"y\",\"x\",\"y\"], \"c\": [\"x\",\"y\",\"x\",\"y\",\"x\",\"y\"], \"S\": [\"x\",\"y\",\"x\",\"y\"], \n",
    "             \"s\": [\"x\",\"y\",\"x\",\"y\"], \"Q\": [\"x\",\"y\",\"x\",\"y\"], \"q\": [\"x\",\"y\",\"x\",\"y\"], \"T\": [\"x\",\"y\"], \"t\": [\"x\",\"y\"],\n",
    "             \"A\": [\"x\",\"y\",\"\",\"\",\"\",\"x\",\"y\"], \"a\": [\"x\",\"y\",\"\",\"\",\"\",\"x\",\"y\"], \"Z\": [], \"z\": [], \"START\": [], \"END\": [], \"PAD\": []}\n",
    "\n",
    "\n",
    "class TokenizeSVGProcessor(PreProcessor):\n",
    "    \n",
    "    def tokenize(self,path,box_x,box_y,xform,label):\n",
    "        out = []\n",
    "        for match in re.findall(\"([MmLlHhVvCcSsQqTtAaZz])([0-9\\.\\-\\s]*)\",path):\n",
    "            token, pen = match\n",
    "            td = tool_dict[token]\n",
    "            xs = []\n",
    "            for coord,x in zip(td,re.findall(\"((\\-{0,1}\\.[0-9]+)|(\\-{0,1}[0-9]+\\.{0,1}[0-9]*))\\s*\",pen)):\n",
    "                x = x[0]\n",
    "                if coord == \"x\" and token.isupper():\n",
    "                    xs.append((float(x) + (box_y - box_x) / 2.0)/float(box_y))\n",
    "                elif coord == \"x\":\n",
    "                    xs.append(float(x)/float(box_y))\n",
    "                elif coord == \"y\" and token.isupper():\n",
    "                    value = (float(xform)-float(x))/float(box_y)\n",
    "                    xs.append(value)\n",
    "                elif coord == \"y\" and xform > 0:\n",
    "                    value = -float(x)/float(box_y)\n",
    "                    xs.append(value)\n",
    "                else:\n",
    "                    xs.append(float(x))\n",
    "            assert len(td) == 0 or (len(xs) % len(td) == 0)\n",
    "            if len(td) == 0:\n",
    "                out.append((token,[-2.0]*4))\n",
    "            else:\n",
    "                for i in range(0,len(xs),len(td)):\n",
    "                    s = xs[i:i+len(td)]\n",
    "                    if token == \"h\":\n",
    "                        s = [s[0], 0]\n",
    "                        token = \"l\"\n",
    "                    elif token == \"v\":\n",
    "                        s = [0, s[0]]\n",
    "                        token = \"l\"\n",
    "                    if len(s) < 4: s += [-2.0] * (4-len(s))\n",
    "                    out.append((token,s))\n",
    "        return out,label\n",
    "    \n",
    "    def process(self, ds):\n",
    "        ds.items = array([self.process_one(item) for item in ds.items])\n",
    "\n",
    "    def process_one(self, item):\n",
    "        return self.tokenize(*item)\n",
    "    \n",
    "class NumericalizeSVGProcessor(PreProcessor):\n",
    "    def process_one(self,item):\n",
    "        item,label = item\n",
    "        return [(self.stoi[\"START\"],[-2.0]*4)\n",
    "               ] + [(self.stoi[t],n) for t,n in item] + [(self.stoi[\"END\"],[-2.0]*4)],label\n",
    "            \n",
    "    def process(self,ds):\n",
    "        if not hasattr(self,\"vocab\"):\n",
    "            vocab = [\"PAD\"] + list(\"Mqlthzv\") + [\"START\",\"END\"]\n",
    "            stoi = {s:i for i,s in enumerate(vocab)}\n",
    "            self.vocab = ds.vocab = vocab\n",
    "            self.stoi = ds.stoi = stoi\n",
    "        super().process(ds)"
   ]
  },
  {
   "cell_type": "code",
   "execution_count": 13,
   "metadata": {},
   "outputs": [],
   "source": [
    "class SVGList(ItemList):\n",
    "    _processor = [TokenizeSVGProcessor,NumericalizeSVGProcessor]\n",
    "    \n",
    "    def get(self, i):\n",
    "        item = self.items[i]\n",
    "        item,label = item\n",
    "        return [t[0] for t in item], np.stack([t[1] for t in item]), label"
   ]
  },
  {
   "cell_type": "code",
   "execution_count": 14,
   "metadata": {},
   "outputs": [],
   "source": [
    "def npad_collate(samples:BatchSamples, pad_idx:int=0) -> Tuple[LongTensor, LongTensor]:\n",
    "    samples = to_data(samples)\n",
    "    max_len = max([len(s[1][0]) for s in samples])\n",
    "    res_tokens = torch.zeros(len(samples), max_len).long() + pad_idx\n",
    "    res_numbers = torch.zeros(len(samples),max_len, 4) - 2.0\n",
    "    for i,s in enumerate(samples):\n",
    "        res_tokens[i,:len(s[1][0])] = LongTensor(s[1][0])\n",
    "        res_numbers[i,:len(s[1][0])] = FloatTensor(s[1][1])\n",
    "    return torch.stack([s[0] for s in samples]), (res_tokens,res_numbers,torch.tensor([s[1][2] for s in samples]))"
   ]
  },
  {
   "cell_type": "code",
   "execution_count": 15,
   "metadata": {},
   "outputs": [],
   "source": [
    "dataAE = (ImageList.from_df(svgDF,path=\"\",cols=\"png\",convert_mode=\"L\")\n",
    "          .split_none()\n",
    "          .label_from_df(cols=[\"label\"],label_cls=CategoryList)\n",
    "          .transform(size=64)\n",
    "          .databunch(bs=256))"
   ]
  },
  {
   "cell_type": "code",
   "execution_count": 57,
   "metadata": {
    "scrolled": false
   },
   "outputs": [],
   "source": [
    "bs = 64\n",
    "svgDF[\"label_codes\"] = svgDF.label.apply(lambda x: dataAE.train_ds.y.c2i[x])\n",
    "data = (ImageList.from_df(svgDF,path=\"\",cols=\"png\",convert_mode=\"L\")\n",
    "        #.filter_by_rand(0.02)\n",
    "        .split_none()\n",
    "        .label_from_df(cols=[\"path\",\"box_x\",\"box_y\",\"xform\",\"label_codes\"],label_cls=SVGList)\n",
    "        .transform(size=64)\n",
    "        .databunch(bs=bs,collate_fn=npad_collate))"
   ]
  },
  {
   "cell_type": "code",
   "execution_count": 59,
   "metadata": {},
   "outputs": [],
   "source": [
    "class UpBlock(nn.Module):\n",
    "    def __init__(self, up_in_c:int,final_div:bool=True, blur:bool=False, leaky:float=None,self_attention:bool=False, **kwargs):\n",
    "        super().__init__()\n",
    "        self.shuf = PixelShuffle_ICNR(up_in_c, up_in_c//2, blur=blur, leaky=leaky, **kwargs)\n",
    "        ni = up_in_c//2\n",
    "        nf = ni if final_div else ni//2\n",
    "        self.conv1 = conv_layer(ni, nf, leaky=leaky, **kwargs)\n",
    "        self.conv2 = conv_layer(nf, nf, leaky=leaky, self_attention=self_attention, **kwargs)\n",
    "        self.relu = relu(leaky=leaky)\n",
    "\n",
    "    def forward(self, up_in:Tensor) -> Tensor:\n",
    "        up_out = self.shuf(up_in)\n",
    "        return self.conv2(self.conv1(up_out))\n",
    "    \n",
    "class VAE(nn.Module):\n",
    "    def __init__(self):\n",
    "        super().__init__()\n",
    "        self.emb = nn.Embedding(62,16)\n",
    "        self.encoder = nn.Sequential(\n",
    "            conv2d(1,32,5,1,2),\n",
    "            nn.InstanceNorm2d(32,affine=True),\n",
    "            nn.ReLU(),\n",
    "            conv2d(32,32,5,2,2),\n",
    "            nn.InstanceNorm2d(32,affine=True),\n",
    "            nn.ReLU(),\n",
    "            conv2d(32,64,5,1,2),\n",
    "            nn.InstanceNorm2d(64,affine=True),\n",
    "            nn.ReLU(),\n",
    "            conv2d(64,64,5,2,2),\n",
    "            nn.InstanceNorm2d(64,affine=True),\n",
    "            nn.ReLU(),\n",
    "            conv2d(64,64,3,2,1),\n",
    "            nn.InstanceNorm2d(64,affine=True),\n",
    "            nn.ReLU(),\n",
    "            conv2d(64,64,3,2,1),\n",
    "            nn.InstanceNorm2d(64,affine=True),\n",
    "            nn.ReLU())\n",
    "        \n",
    "        self.z_mean = nn.Linear(64*16,32)\n",
    "        self.z_logvar = nn.Linear(64*16,32)\n",
    "        \n",
    "        self.z_to_dec = nn.Linear(32+16,128*16)\n",
    "        \n",
    "        nf = [128,64,32,16]\n",
    "        #nf = [2048,1024,512,256,128]\n",
    "        self.decoder = nn.Sequential(*[UpBlock(f, blur=(False if f != 32 else False)) for f in nf])\n",
    "        self.final_conv = conv_layer(8, 1, ks=1, use_activ=False)\n",
    "        \n",
    "    def get_z(self,x,char_class,stoc=True):\n",
    "        u = self.encoder(x)\n",
    "        u = u.view(x.shape[0],-1)\n",
    "        mean, logvar = self.z_mean(u), self.z_logvar(u)\n",
    "        \n",
    "        std = torch.exp(0.5*logvar)\n",
    "        eps = torch.randn_like(std)\n",
    "        z = mean\n",
    "        if stoc:\n",
    "            z = z + eps*std\n",
    "            \n",
    "        z = torch.cat([z,self.emb(char_class)],dim=1)\n",
    "        return z\n",
    "    \n",
    "    def forward(self,x,char_class):\n",
    "        u = self.encoder(x)\n",
    "        u = u.view(x.shape[0],-1)\n",
    "        mean, logvar = self.z_mean(u), self.z_logvar(u)\n",
    "        \n",
    "        std = torch.exp(0.5*logvar)\n",
    "        eps = torch.randn_like(std)\n",
    "        z = mean\n",
    "        #if self.training:\n",
    "        z = z + eps*std\n",
    "            \n",
    "        z = torch.cat([z,self.emb(char_class)],dim=1)\n",
    "        ls = z\n",
    "        \n",
    "        z = self.z_to_dec(z)\n",
    "        z = z.view(x.shape[0],128,4,4)\n",
    "        \n",
    "        return torch.sigmoid(self.final_conv(self.decoder(z))), mean, logvar, ls\n",
    "        \n",
    "class VAELoss(nn.Module):\n",
    "    def forward(self, preds, target):\n",
    "        rec, mean, logvar,_ = preds\n",
    "        KLD = -0.5 * torch.sum(1 + logvar - mean.pow(2) - logvar.exp())\n",
    "        self.kld = KLD / (rec.shape[0] * 64 * 64)\n",
    "        self.bce = F.binary_cross_entropy(rec.view(rec.shape[0],-1),target.view(target.shape[0],-1))\n",
    "        return self.bce + self.kld\n",
    "\n",
    "class VAETrainer(LearnerCallback):\n",
    "    _order=-20\n",
    "    def on_train_begin(self,**kwargs):\n",
    "        self.smoothBCE, self.smoothKLD = SmoothenValue(0.98), SmoothenValue(0.98)\n",
    "        self.learn.recorder.add_metric_names([\"bce\",\"kld\"])\n",
    "        \n",
    "    def on_batch_begin(self, last_input, last_target, **kwargs):\n",
    "        return {\"last_input\": (last_input,last_target), \"last_target\": last_input}\n",
    "    \n",
    "    def on_batch_end(self,**kwargs):\n",
    "        self.smoothBCE.add_value(self.learn.loss_func.bce.item())\n",
    "        self.smoothKLD.add_value(self.learn.loss_func.kld.item())\n",
    "        \n",
    "    def on_epoch_end(self, last_metrics, **kwargs):\n",
    "        return add_metrics(last_metrics,[self.smoothBCE.smooth,self.smoothKLD.smooth])"
   ]
  },
  {
   "cell_type": "code",
   "execution_count": 60,
   "metadata": {},
   "outputs": [],
   "source": [
    "learnAE = Learner(dataAE,VAE(),loss_func=VAELoss(),callback_fns=[VAETrainer])"
   ]
  },
  {
   "cell_type": "code",
   "execution_count": 316,
   "metadata": {},
   "outputs": [
    {
     "data": {
      "text/html": [
       "Total time: 08:26 <p><table style='width:450px; margin-bottom:10px'>\n",
       "  <tr>\n",
       "    <th>epoch</th>\n",
       "    <th>train_loss</th>\n",
       "    <th>valid_loss</th>\n",
       "    <th>bce</th>\n",
       "    <th>kld</th>\n",
       "    <th>time</th>\n",
       "  </tr>\n",
       "  <tr>\n",
       "    <th>0</th>\n",
       "    <th>0.579524</th>\n",
       "    <th>#na#</th>\n",
       "    <th>0.572824</th>\n",
       "    <th>0.006700</th>\n",
       "    <th>00:50</th>\n",
       "  </tr>\n",
       "  <tr>\n",
       "    <th>1</th>\n",
       "    <th>0.460622</th>\n",
       "    <th>#na#</th>\n",
       "    <th>0.452750</th>\n",
       "    <th>0.007871</th>\n",
       "    <th>00:50</th>\n",
       "  </tr>\n",
       "  <tr>\n",
       "    <th>2</th>\n",
       "    <th>0.408130</th>\n",
       "    <th>#na#</th>\n",
       "    <th>0.400676</th>\n",
       "    <th>0.007454</th>\n",
       "    <th>00:50</th>\n",
       "  </tr>\n",
       "  <tr>\n",
       "    <th>3</th>\n",
       "    <th>0.404144</th>\n",
       "    <th>#na#</th>\n",
       "    <th>0.396846</th>\n",
       "    <th>0.007298</th>\n",
       "    <th>00:50</th>\n",
       "  </tr>\n",
       "  <tr>\n",
       "    <th>4</th>\n",
       "    <th>0.402757</th>\n",
       "    <th>#na#</th>\n",
       "    <th>0.395628</th>\n",
       "    <th>0.007129</th>\n",
       "    <th>00:50</th>\n",
       "  </tr>\n",
       "  <tr>\n",
       "    <th>5</th>\n",
       "    <th>0.401554</th>\n",
       "    <th>#na#</th>\n",
       "    <th>0.394524</th>\n",
       "    <th>0.007030</th>\n",
       "    <th>00:50</th>\n",
       "  </tr>\n",
       "  <tr>\n",
       "    <th>6</th>\n",
       "    <th>0.400560</th>\n",
       "    <th>#na#</th>\n",
       "    <th>0.393602</th>\n",
       "    <th>0.006958</th>\n",
       "    <th>00:50</th>\n",
       "  </tr>\n",
       "  <tr>\n",
       "    <th>7</th>\n",
       "    <th>0.399875</th>\n",
       "    <th>#na#</th>\n",
       "    <th>0.392953</th>\n",
       "    <th>0.006921</th>\n",
       "    <th>00:50</th>\n",
       "  </tr>\n",
       "  <tr>\n",
       "    <th>8</th>\n",
       "    <th>0.399261</th>\n",
       "    <th>#na#</th>\n",
       "    <th>0.392345</th>\n",
       "    <th>0.006916</th>\n",
       "    <th>00:50</th>\n",
       "  </tr>\n",
       "  <tr>\n",
       "    <th>9</th>\n",
       "    <th>0.399036</th>\n",
       "    <th>#na#</th>\n",
       "    <th>0.392128</th>\n",
       "    <th>0.006908</th>\n",
       "    <th>00:50</th>\n",
       "  </tr>\n",
       "</table>\n"
      ],
      "text/plain": [
       "<IPython.core.display.HTML object>"
      ]
     },
     "metadata": {},
     "output_type": "display_data"
    }
   ],
   "source": [
    "learnAE.fit_one_cycle(10,3e-3)"
   ]
  },
  {
   "cell_type": "code",
   "execution_count": 317,
   "metadata": {},
   "outputs": [],
   "source": [
    "learnAE.save(\"ae\")"
   ]
  },
  {
   "cell_type": "code",
   "execution_count": 61,
   "metadata": {},
   "outputs": [
    {
     "name": "stderr",
     "output_type": "stream",
     "text": [
      "/opt/anaconda3/lib/python3.7/site-packages/torch/serialization.py:250: UserWarning: Couldn't retrieve source code for container of type VAELoss. It won't be checked for correctness upon loading.\n",
      "  \"type \" + obj.__name__ + \". It won't be checked \"\n",
      "/opt/anaconda3/lib/python3.7/site-packages/torch/serialization.py:250: UserWarning: Couldn't retrieve source code for container of type VAE. It won't be checked for correctness upon loading.\n",
      "  \"type \" + obj.__name__ + \". It won't be checked \"\n",
      "/opt/anaconda3/lib/python3.7/site-packages/torch/serialization.py:250: UserWarning: Couldn't retrieve source code for container of type UpBlock. It won't be checked for correctness upon loading.\n",
      "  \"type \" + obj.__name__ + \". It won't be checked \"\n"
     ]
    }
   ],
   "source": [
    "learnAE.load(\"ae\");"
   ]
  },
  {
   "cell_type": "code",
   "execution_count": 20,
   "metadata": {},
   "outputs": [],
   "source": [
    "x,y = next(iter(dataAE.train_dl))"
   ]
  },
  {
   "cell_type": "code",
   "execution_count": 21,
   "metadata": {},
   "outputs": [
    {
     "data": {
      "text/plain": [
       "<matplotlib.image.AxesImage at 0x7f31a0d7f3c8>"
      ]
     },
     "execution_count": 21,
     "metadata": {},
     "output_type": "execute_result"
    },
    {
     "data": {
      "image/png": "[encoded data removed]",
      "text/plain": [
       "<Figure size 432x288 with 2 Axes>"
      ]
     },
     "metadata": {
      "needs_background": "light"
     },
     "output_type": "display_data"
    }
   ],
   "source": [
    "fig, axes = plt.subplots(1,2)\n",
    "learnAE.model.eval()\n",
    "rec = learnAE.model(x,y)[0]\n",
    "axes[0].imshow(x[0].permute(1,2,0).squeeze())\n",
    "axes[1].imshow(rec[0].permute(1,2,0).squeeze())"
   ]
  },
  {
   "cell_type": "code",
   "execution_count": 22,
   "metadata": {},
   "outputs": [],
   "source": [
    "def dropout_mask(x:Tensor, sz:Collection[int], p:float):\n",
    "    \"Return a dropout mask of the same type as `x`, size `sz`, with probability `p` to cancel an element.\"\n",
    "    return x.new(*sz).bernoulli_(1-p).div_(1-p)\n",
    "\n",
    "class RNNDropout(nn.Module):\n",
    "    \"Dropout with probability `p` that is consistent on the seq_len dimension.\"\n",
    "\n",
    "    def __init__(self, p:float=0.5):\n",
    "        super().__init__()\n",
    "        self.p=p\n",
    "\n",
    "    def forward(self, x:Tensor)->Tensor:\n",
    "        if not self.training or self.p == 0.: return x\n",
    "        m = dropout_mask(x.data, (x.size(0), 1, x.size(2)), self.p)\n",
    "        return x * m\n",
    "\n",
    "class WeightDropout(nn.Module):\n",
    "    \"A module that warps another layer in which some weights will be replaced by 0 during training.\"\n",
    "\n",
    "    def __init__(self, module:nn.Module, weight_p:float, layer_names:Collection[str]=['weight_hh_l0']):\n",
    "        super().__init__()\n",
    "        self.module,self.weight_p,self.layer_names = module,weight_p,layer_names\n",
    "        for layer in self.layer_names:\n",
    "            #Makes a copy of the weights of the selected layers.\n",
    "            w = getattr(self.module, layer)\n",
    "            self.register_parameter(f'{layer}_raw', nn.Parameter(w.data))\n",
    "            self.module._parameters[layer] = F.dropout(w, p=self.weight_p, training=False)\n",
    "\n",
    "    def _setweights(self):\n",
    "        \"Apply dropout to the raw weights.\"\n",
    "        for layer in self.layer_names:\n",
    "            raw_w = getattr(self, f'{layer}_raw')\n",
    "            self.module._parameters[layer] = F.dropout(raw_w, p=self.weight_p, training=self.training)\n",
    "\n",
    "    def forward(self, *args:ArgStar):\n",
    "        self._setweights()\n",
    "        with warnings.catch_warnings():\n",
    "            #To avoid the warning that comes because the weights aren't flattened.\n",
    "            warnings.simplefilter(\"ignore\")\n",
    "            return self.module.forward(*args)\n",
    "\n",
    "    def reset(self):\n",
    "        for layer in self.layer_names:\n",
    "            raw_w = getattr(self, f'{layer}_raw')\n",
    "            self.module._parameters[layer] = F.dropout(raw_w, p=self.weight_p, training=False)\n",
    "        if hasattr(self.module, 'reset'): self.module.reset()\n",
    "\n",
    "class EmbeddingDropout(nn.Module):\n",
    "    \"Apply dropout with probabily `embed_p` to an embedding layer `emb`.\"\n",
    "\n",
    "    def __init__(self, emb:nn.Module, embed_p:float):\n",
    "        super().__init__()\n",
    "        self.emb,self.embed_p = emb,embed_p\n",
    "        self.pad_idx = self.emb.padding_idx\n",
    "        if self.pad_idx is None: self.pad_idx = -1\n",
    "\n",
    "    def forward(self, words:LongTensor, scale:Optional[float]=None)->Tensor:\n",
    "        if self.training and self.embed_p != 0:\n",
    "            size = (self.emb.weight.size(0),1)\n",
    "            mask = dropout_mask(self.emb.weight.data, size, self.embed_p)\n",
    "            masked_embed = self.emb.weight * mask\n",
    "        else: masked_embed = self.emb.weight\n",
    "        if scale: masked_embed.mul_(scale)\n",
    "        return F.embedding(words, masked_embed, self.pad_idx, self.emb.max_norm,\n",
    "                           self.emb.norm_type, self.emb.scale_grad_by_freq, self.emb.sparse)\n",
    "\n",
    "class AWD_LSTM(nn.Module):\n",
    "    \"AWD-LSTM/QRNN inspired by https://arxiv.org/abs/1708.02182.\"\n",
    "\n",
    "    initrange=0.1\n",
    "\n",
    "    def __init__(self, vocab_sz:int, emb_sz:int, n_hid:int, n_layers:int, pad_token:int=1, hidden_p:float=0.3,\n",
    "                 input_p:float=0.6, embed_p:float=0.1, weight_p:float=0.5, bidir:bool=False):\n",
    "        super().__init__()\n",
    "        self.bs,self.emb_sz,self.n_hid,self.n_layers = 1,emb_sz,n_hid,n_layers\n",
    "        self.n_dir = 2 if bidir else 1\n",
    "        self.encoder = nn.Embedding(vocab_sz, emb_sz, padding_idx=pad_token)\n",
    "        self.encoder_dp = EmbeddingDropout(self.encoder, embed_p)\n",
    "       \n",
    "        self.rnns = [nn.LSTM(emb_sz if l == 0 else n_hid, n_hid, 1,\n",
    "                             batch_first=True, bidirectional=bidir) for l in range(n_layers)]\n",
    "        self.rnns = [WeightDropout(rnn, weight_p) for rnn in self.rnns]\n",
    "        self.rnns = nn.ModuleList(self.rnns)\n",
    "        self.encoder.weight.data.uniform_(-self.initrange, self.initrange)\n",
    "        self.input_dp = RNNDropout(input_p)\n",
    "        self.hidden_dps = nn.ModuleList([RNNDropout(hidden_p) for l in range(n_layers)])\n",
    "\n",
    "    def forward(self, input:Tensor, hs, from_embeddings:bool=False)->Tuple[Tensor,Tensor]:\n",
    "        if from_embeddings: bs,sl,es = input.size()\n",
    "        else: bs,sl = input.size()\n",
    "        if bs!=self.bs:\n",
    "            self.bs=bs\n",
    "            self.reset()\n",
    "        raw_output = self.input_dp(input if from_embeddings else self.encoder_dp(input))\n",
    "        new_hidden,raw_outputs,outputs = [],[],[]\n",
    "        for l, (rnn,hid_dp) in enumerate(zip(self.rnns, self.hidden_dps)):\n",
    "            raw_output, new_h = rnn(raw_output, (hs[0][[l]],hs[1][[l]]))\n",
    "            new_hidden.append(new_h)\n",
    "            raw_outputs.append(raw_output)\n",
    "            if l != self.n_layers - 1: raw_output = hid_dp(raw_output)\n",
    "            outputs.append(raw_output)\n",
    "        #self.hidden = to_detach(new_hidden, cpu=False)\n",
    "        return outputs[-1], (torch.cat([x[0] for x in new_hidden]),torch.cat([x[1] for x in new_hidden]))\n",
    "\n",
    "    def _one_hidden(self, l:int)->Tensor:\n",
    "        \"Return one hidden state.\"\n",
    "        nh = (self.n_hid if l != self.n_layers - 1 else self.emb_sz) // self.n_dir\n",
    "        return one_param(self).new(self.n_dir, self.bs, nh).zero_()\n",
    "\n",
    "    def select_hidden(self, idxs):\n",
    "        self.hidden = [(h[0][:,idxs,:],h[1][:,idxs,:]) for h in self.hidden]\n",
    "        self.bs = len(idxs)\n",
    "\n",
    "    def reset(self):\n",
    "        \"Reset the hidden states.\"\n",
    "        [r.reset() for r in self.rnns if hasattr(r, 'reset')]\n",
    "        self.hidden = [(self._one_hidden(l), self._one_hidden(l)) for l in range(self.n_layers)]"
   ]
  },
  {
   "cell_type": "code",
   "execution_count": 23,
   "metadata": {},
   "outputs": [],
   "source": [
    "ONEOVERSQRT2PI = 1.0 / math.sqrt(2*math.pi)\n",
    "\n",
    "class MDN(nn.Module):\n",
    "    \"\"\"A mixture density network layer\n",
    "    The input maps to the parameters of a MoG probability distribution, where\n",
    "    each Gaussian has O dimensions and diagonal covariance.\n",
    "    Arguments:\n",
    "        in_features (int): the number of dimensions in the input\n",
    "        out_features (int): the number of dimensions in the output\n",
    "        num_gaussians (int): the number of Gaussians per output dimensions\n",
    "    Input:\n",
    "        minibatch (BxD): B is the batch size and D is the number of input\n",
    "            dimensions.\n",
    "    Output:\n",
    "        (pi, sigma, mu) (BxG, BxGxO, BxGxO): B is the batch size, G is the\n",
    "            number of Gaussians, and O is the number of dimensions for each\n",
    "            Gaussian. Pi is a multinomial distribution of the Gaussians. Sigma\n",
    "            is the standard deviation of each Gaussian. Mu is the mean of each\n",
    "            Gaussian.\n",
    "    \"\"\"\n",
    "    def __init__(self, in_features, out_features, num_gaussians):\n",
    "        super(MDN, self).__init__()\n",
    "        self.in_features = in_features\n",
    "        self.out_features = out_features\n",
    "        self.num_gaussians = num_gaussians\n",
    "        self.pi = nn.Sequential(nn.Linear(in_features,512),nn.ReLU(inplace=True),nn.Linear(512, out_features*num_gaussians))\n",
    "\n",
    "        self.sigma = nn.Sequential(nn.Linear(in_features,512),nn.ReLU(inplace=True),nn.Linear(512, out_features*num_gaussians))\n",
    "        self.mu = nn.Sequential(nn.Linear(in_features,512),nn.ReLU(inplace=True),nn.Linear(512, out_features*num_gaussians))\n",
    "\n",
    "    def forward(self, minibatch):\n",
    "        pi = self.pi(minibatch).view(minibatch.shape[0],minibatch.shape[1],self.out_features,self.num_gaussians)\n",
    "        pi = torch.softmax(pi,dim=3)\n",
    "        sigma = torch.exp(self.sigma(minibatch))\n",
    "        sigma = sigma.view(minibatch.shape[0], minibatch.shape[1], self.out_features,self.num_gaussians)\n",
    "        mu = self.mu(minibatch)\n",
    "        mu = mu.view(minibatch.shape[0],minibatch.shape[1], self.out_features, self.num_gaussians)\n",
    "        return pi, sigma, mu\n",
    "\n",
    "def mdn_loss(pi, sigma, mu, target):\n",
    "    \"\"\"Calculates the error, given the MoG parameters and the target\n",
    "    The loss is the negative log likelihood of the data given the MoG\n",
    "    parameters.\n",
    "    \"\"\"\n",
    "    ntarget = target.unsqueeze(-1)\n",
    "    m = torch.distributions.Normal(loc=mu, scale=sigma)\n",
    "    loss = torch.exp(m.log_prob(ntarget))\n",
    "    #loss = torch.softmax(m.log_prob(ntarget),dim=2)\n",
    "    loss = torch.sum(loss * pi, dim=3)\n",
    "    #print((loss > 1).sum())\n",
    "    loss = -torch.log(loss+1e-8)\n",
    "    loss = loss[target != -2.0]\n",
    "    return loss.mean()"
   ]
  },
  {
   "cell_type": "code",
   "execution_count": 53,
   "metadata": {},
   "outputs": [],
   "source": [
    "def sample(pi, sigma, mu):\n",
    "    \"\"\"Draw samples from a MoG.\n",
    "    \"\"\"\n",
    "    dist = torch.distributions.Categorical(pi)\n",
    "    s = dist.sample().cuda()\n",
    "    mu = torch.gather(mu,3,s.unsqueeze(-1)).squeeze(-1)\n",
    "    sigma = torch.gather(sigma,3,s.unsqueeze(-1)).squeeze(-1)\n",
    "    dist_n = torch.distributions.Normal(mu,sigma)\n",
    "    return dist_n.sample().cuda()"
   ]
  },
  {
   "cell_type": "code",
   "execution_count": 25,
   "metadata": {},
   "outputs": [],
   "source": [
    "pi = torch.softmax(torch.randn(32,50,4,5),dim=3)\n",
    "sigma = torch.exp(torch.randn(32,50,4,5))\n",
    "mu = torch.randn(32,50,4,5)\n",
    "target = torch.randn(32,50,4)"
   ]
  },
  {
   "cell_type": "code",
   "execution_count": 26,
   "metadata": {},
   "outputs": [],
   "source": [
    "class SVGDecoder(nn.Module):\n",
    "    def __init__(self,num_tokens,vae_sd):\n",
    "        super().__init__()\n",
    "        self.vae = VAE()\n",
    "        self.vae.load_state_dict(vae_sd)\n",
    "        requires_grad(self.vae,False)\n",
    "        self.token_emb = nn.Embedding(num_tokens,4)\n",
    "        #self.rnn = nn.GRU(4+4+32+16,1024,4,batch_first=True,dropout=0.3)\n",
    "        #self.rnn = nn.LSTM(4+4+32+16,1024,4,batch_first=True,dropout=0.3)\n",
    "        self.rnn = AWD_LSTM(62,4+4+32+16,1024,4,0,input_p=0.0)\n",
    "        self.z_to_hidden = nn.Linear(32+16,1024)\n",
    "        self.token = nn.Linear(1024,num_tokens)\n",
    "#         #self.pen = nn.Linear(1024,4)\n",
    "        self.pen = MDN(1024,4,64)\n",
    "        self.mask = torch.tensor([[0.0,1.0,0.0,0.0,0.0,0.0,0.0,0.0,0.0,1.0]]).cuda()\n",
    "        \n",
    "    def get_preds(self, png, char_class, use_mean=False):\n",
    "        #z (bsx48)\n",
    "        z = self.vae.get_z(png,char_class).detach()\n",
    "        hs = self.z_to_hidden(z).unsqueeze(0).expand(4,-1,-1).contiguous()\n",
    "        cs = torch.zeros_like(hs)\n",
    "        tools = [torch.zeros(z.shape[0],1,dtype=torch.long).fill_(8).cuda()]\n",
    "        pens = [torch.zeros(z.shape[0],1,4).fill_(-2.0).cuda()]\n",
    "        i = 0\n",
    "        while i < 200:\n",
    "            r_in = torch.cat([self.token_emb(tools[-1]),pens[-1],z.unsqueeze(1)],dim=2)\n",
    "            output, (hs,cs) = self.rnn(r_in,(hs,cs),from_embeddings=True)\n",
    "            tool = self.token(output)\n",
    "            u = tool[tools[-1].squeeze() == 6]\n",
    "            tool[tools[-1].squeeze() == 6] = torch.where(self.mask.unsqueeze(0).expand_as(u)==1.0,u,torch.zeros_like(u).fill_(-1e9))\n",
    "            if use_mean:\n",
    "                pi,_,pen = self.pen(output)\n",
    "                pi = torch.argmax(pi,dim=3,keepdim=True)\n",
    "                pen = torch.gather(pen,3,pi).squeeze(-1)\n",
    "            else:            \n",
    "                pen = self.pen(output)\n",
    "                pen = sample(*pen)\n",
    "            tools.append(torch.argmax(tool,dim=2))\n",
    "            pens.append(pen)\n",
    "            i += 1\n",
    "            \n",
    "        return torch.cat(tools,dim=1), torch.cat(pens,dim=1)\n",
    "\n",
    "    def get_preds_mean(self, png, char_class):\n",
    "        #z (bsx48)\n",
    "        z = self.vae.get_z(png,char_class,False).detach()\n",
    "        hs = self.z_to_hidden(z).unsqueeze(0).expand(4,-1,-1).contiguous()\n",
    "        cs = torch.zeros_like(hs)\n",
    "        tools = [torch.zeros(z.shape[0],1,dtype=torch.long).fill_(8).cuda()]\n",
    "        pens = [torch.zeros(z.shape[0],1,4).fill_(-2.0).cuda()]\n",
    "        i = 0\n",
    "        while i < 200:\n",
    "            r_in = torch.cat([self.token_emb(tools[-1]),pens[-1],z.unsqueeze(1)],dim=2)\n",
    "            output, (hs,cs) = self.rnn(r_in,(hs,cs),from_embeddings=True)\n",
    "            tool = self.token(output)\n",
    "            u = tool[tools[-1].squeeze() == 6]\n",
    "            tool[tools[-1].squeeze() == 6] = torch.where(self.mask.unsqueeze(0).expand_as(u)==1.0,u,torch.zeros_like(u).fill_(-1e9))\n",
    "            pi,_,pen = self.pen(output)\n",
    "            pi = torch.argmax(pi,dim=3,keepdim=True)\n",
    "            pen = torch.gather(pen,3,pi).squeeze(-1)\n",
    "            tools.append(torch.argmax(tool,dim=2))\n",
    "            pens.append(pen)\n",
    "            i += 1\n",
    "        return torch.cat(tools,dim=1), torch.cat(pens,dim=1)\n",
    "    \n",
    "    def get_preds_from_output(self,tokens,pi,sigma,mu):\n",
    "        tokens = torch.argmax(tokens,dim=2)\n",
    "        pi = torch.argmax(pi,dim=3,keepdim=True)\n",
    "        mu = torch.gather(mu,3,pi).squeeze(-1)\n",
    "        return tokens,mu\n",
    "    \n",
    "    def forward(self, png, char_class,tokens, pen, return_preds=False):\n",
    "        z = self.vae.get_z(png,char_class).detach()\n",
    "        tokens = self.token_emb(tokens)\n",
    "        hs = self.z_to_hidden(z).unsqueeze(0).expand(4,-1,-1).contiguous()\n",
    "        r_in = torch.cat([tokens,pen,z.unsqueeze(1).expand(-1,tokens.shape[1],-1)],dim=2)\n",
    "        #self.rnn.flatten_parameters()\n",
    "        output, (hs,cs) = self.rnn(r_in,(hs,torch.zeros_like(hs)),from_embeddings=True)\n",
    "        \n",
    "        tokens = self.token(output)\n",
    "        #pens = self.pen(output)\n",
    "        #return tokens, pens\n",
    "        pi,sigma,mu = self.pen(output)\n",
    "        \n",
    "        if return_preds:\n",
    "            return tokens, (pi[:,:-1],sigma[:,:-1], mu[:,:-1]), self.get_preds_from_output(tokens,pi,sigma,mu)\n",
    "        return tokens, (pi[:,:-1],sigma[:,:-1], mu[:,:-1]), output"
   ]
  },
  {
   "cell_type": "code",
   "execution_count": 27,
   "metadata": {},
   "outputs": [],
   "source": [
    "class SVGDecoderLoss(nn.Module):\n",
    "    def forward(self,preds,target_tokens,target_pen):\n",
    "        tokens, pen = preds\n",
    "        mask = target_tokens != 0\n",
    "        loss_token = F.cross_entropy(tokens.transpose(1,2)[:,:,:-1],target_tokens,reduction=\"none\")[mask].mean()\n",
    "        #loss_token = 10*F.cross_entropy(tokens.transpose(1,2)[:,:,:-1],target_tokens)\n",
    "        loss_pen = mdn_loss(*pen,target_pen)\n",
    "        self.l_t = loss_token.item()\n",
    "        self.l_p = loss_pen.item()\n",
    "#         with torch.no_grad():\n",
    "#             self.l_mse = F.mse_loss(mpreds[1][:,:-1],target_pen,reduction=\"none\")[target_pen != -2.0].mean().item()\n",
    "        self.l_mse = 0.0\n",
    "        return loss_token + loss_pen\n",
    "\n",
    "class SVGDecoderTrainer(LearnerCallback):\n",
    "    _order=-20\n",
    "    def on_train_begin(self,**kwargs):\n",
    "        self.smoothCE, self.smoothMDN, self.smoothMSE = SmoothenValue(0.98), SmoothenValue(0.98), SmoothenValue(0.98)\n",
    "        self.learn.recorder.add_metric_names([\"ce\",\"mdn\", \"mse\"])\n",
    "        \n",
    "    def on_batch_begin(self, last_input, last_target, **kwargs):\n",
    "        return {\"last_input\": (last_input,last_target[2],last_target[0],last_target[1]), \"last_target\": (last_target[0][:,1:],last_target[1][:,1:])}\n",
    "    \n",
    "    def on_loss_begin(self, last_output, **kwargs):\n",
    "        self.out = last_output[2]\n",
    "        return {\"last_output\": last_output[:2]}\n",
    "    \n",
    "    def on_backward_begin(self,last_loss, **kwargs):\n",
    "        last_loss += 2.0 * self.out.float().pow(2).mean()\n",
    "        return {\"last_loss\": last_loss}\n",
    "       \n",
    "    def on_batch_end(self,**kwargs):\n",
    "        self.smoothCE.add_value(self.learn.loss_func.l_t)\n",
    "        self.smoothMDN.add_value(self.learn.loss_func.l_p)\n",
    "        self.smoothMSE.add_value(self.learn.loss_func.l_mse)\n",
    "        \n",
    "    def on_epoch_end(self, epoch, last_metrics, **kwargs):\n",
    "        self.learn.save(\"svg_awd_full\")\n",
    "        return add_metrics(last_metrics,[self.smoothCE.smooth,self.smoothMDN.smooth,self.smoothMSE.smooth])"
   ]
  },
  {
   "cell_type": "code",
   "execution_count": 62,
   "metadata": {},
   "outputs": [],
   "source": [
    "learnSVG = Learner(data,SVGDecoder(len(data.vocab),learnAE.model.state_dict()),loss_func=SVGDecoderLoss(),callback_fns=[SVGDecoderTrainer])"
   ]
  },
  {
   "cell_type": "code",
   "execution_count": null,
   "metadata": {},
   "outputs": [
    {
     "data": {
      "text/html": [
       "\n",
       "    <div>\n",
       "        <style>\n",
       "            /* Turns off some styling */\n",
       "            progress {\n",
       "                /* gets rid of default border in Firefox and Opera. */\n",
       "                border: none;\n",
       "                /* Needs to be in here for Safari polyfill so background images work as expected. */\n",
       "                background-size: auto;\n",
       "            }\n",
       "            .progress-bar-interrupted, .progress-bar-interrupted::-webkit-progress-bar {\n",
       "                background: #F44336;\n",
       "            }\n",
       "        </style>\n",
       "      <progress value='2' class='' max='120', style='width:300px; height:20px; vertical-align: middle;'></progress>\n",
       "      1.67% [2/120 11:10<10:59:14]\n",
       "    </div>\n",
       "    \n",
       "<table style='width:525px; margin-bottom:10px'>\n",
       "  <tr>\n",
       "    <th>epoch</th>\n",
       "    <th>train_loss</th>\n",
       "    <th>valid_loss</th>\n",
       "    <th>ce</th>\n",
       "    <th>mdn</th>\n",
       "    <th>mse</th>\n",
       "    <th>time</th>\n",
       "  </tr>\n",
       "  <tr>\n",
       "    <th>0</th>\n",
       "    <th>-0.523415</th>\n",
       "    <th>#na#</th>\n",
       "    <th>0.861071</th>\n",
       "    <th>-1.384485</th>\n",
       "    <th>0.000000</th>\n",
       "    <th>05:35</th>\n",
       "  </tr>\n",
       "  <tr>\n",
       "    <th>1</th>\n",
       "    <th>-0.586743</th>\n",
       "    <th>#na#</th>\n",
       "    <th>0.838944</th>\n",
       "    <th>-1.425687</th>\n",
       "    <th>0.000000</th>\n",
       "    <th>05:35</th>\n",
       "  </tr>\n",
       "</table>\n",
       "\n",
       "\n",
       "    <div>\n",
       "        <style>\n",
       "            /* Turns off some styling */\n",
       "            progress {\n",
       "                /* gets rid of default border in Firefox and Opera. */\n",
       "                border: none;\n",
       "                /* Needs to be in here for Safari polyfill so background images work as expected. */\n",
       "                background-size: auto;\n",
       "            }\n",
       "            .progress-bar-interrupted, .progress-bar-interrupted::-webkit-progress-bar {\n",
       "                background: #F44336;\n",
       "            }\n",
       "        </style>\n",
       "      <progress value='1135' class='' max='1719', style='width:300px; height:20px; vertical-align: middle;'></progress>\n",
       "      66.03% [1135/1719 03:41<01:54 -0.6206]\n",
       "    </div>\n",
       "    "
      ],
      "text/plain": [
       "<IPython.core.display.HTML object>"
      ]
     },
     "metadata": {},
     "output_type": "display_data"
    }
   ],
   "source": [
    "learnSVG.fit_one_cycle(120,3e-4)"
   ]
  },
  {
   "cell_type": "code",
   "execution_count": 180,
   "metadata": {},
   "outputs": [],
   "source": [
    "learnSVG.save(\"svg_awd\")"
   ]
  },
  {
   "cell_type": "code",
   "execution_count": 63,
   "metadata": {},
   "outputs": [
    {
     "name": "stderr",
     "output_type": "stream",
     "text": [
      "/opt/anaconda3/lib/python3.7/site-packages/torch/serialization.py:250: UserWarning: Couldn't retrieve source code for container of type RNNDropout. It won't be checked for correctness upon loading.\n",
      "  \"type \" + obj.__name__ + \". It won't be checked \"\n",
      "/opt/anaconda3/lib/python3.7/site-packages/torch/serialization.py:250: UserWarning: Couldn't retrieve source code for container of type SVGDecoderLoss. It won't be checked for correctness upon loading.\n",
      "  \"type \" + obj.__name__ + \". It won't be checked \"\n",
      "/opt/anaconda3/lib/python3.7/site-packages/torch/serialization.py:250: UserWarning: Couldn't retrieve source code for container of type SVGDecoder. It won't be checked for correctness upon loading.\n",
      "  \"type \" + obj.__name__ + \". It won't be checked \"\n",
      "/opt/anaconda3/lib/python3.7/site-packages/torch/serialization.py:250: UserWarning: Couldn't retrieve source code for container of type VAE. It won't be checked for correctness upon loading.\n",
      "  \"type \" + obj.__name__ + \". It won't be checked \"\n",
      "/opt/anaconda3/lib/python3.7/site-packages/torch/serialization.py:250: UserWarning: Couldn't retrieve source code for container of type UpBlock. It won't be checked for correctness upon loading.\n",
      "  \"type \" + obj.__name__ + \". It won't be checked \"\n",
      "/opt/anaconda3/lib/python3.7/site-packages/torch/serialization.py:250: UserWarning: Couldn't retrieve source code for container of type AWD_LSTM. It won't be checked for correctness upon loading.\n",
      "  \"type \" + obj.__name__ + \". It won't be checked \"\n",
      "/opt/anaconda3/lib/python3.7/site-packages/torch/serialization.py:250: UserWarning: Couldn't retrieve source code for container of type EmbeddingDropout. It won't be checked for correctness upon loading.\n",
      "  \"type \" + obj.__name__ + \". It won't be checked \"\n",
      "/opt/anaconda3/lib/python3.7/site-packages/torch/serialization.py:250: UserWarning: Couldn't retrieve source code for container of type WeightDropout. It won't be checked for correctness upon loading.\n",
      "  \"type \" + obj.__name__ + \". It won't be checked \"\n",
      "/opt/anaconda3/lib/python3.7/site-packages/torch/serialization.py:250: UserWarning: Couldn't retrieve source code for container of type MDN. It won't be checked for correctness upon loading.\n",
      "  \"type \" + obj.__name__ + \". It won't be checked \"\n"
     ]
    }
   ],
   "source": [
    "learnSVG.load(\"svg_awd_full\");"
   ]
  },
  {
   "cell_type": "code",
   "execution_count": 30,
   "metadata": {},
   "outputs": [],
   "source": [
    "def get_pred_path(x,labels,mean=False,i=0):\n",
    "    learnSVG.model.eval()\n",
    "    with torch.no_grad():\n",
    "        if mean:\n",
    "            tools, pens = learnSVG.model.get_preds_mean(x,labels)\n",
    "        else:\n",
    "            tools, pens = learnSVG.model.get_preds(x,labels)\n",
    "    out = []\n",
    "    for t,p in zip(tools[i,1:-1],pens[i,1:-1]):\n",
    "        t = data.vocab[t]\n",
    "        out.append(t)\n",
    "        out.append(\" \".join([str(int(np.rint(500*n.item()))) for n in p[:len(tool_dict[t])]]))\n",
    "    return \" \".join(out)"
   ]
  },
  {
   "cell_type": "code",
   "execution_count": 31,
   "metadata": {},
   "outputs": [],
   "source": [
    "def path_from_tensors(tools,pens,i=0):\n",
    "    p = \"\"\n",
    "    for t,pen in zip(tools[i,1:],pens[i,1:]):\n",
    "        tool = data.vocab[t]\n",
    "        if tool == \"END\": break\n",
    "        pen = [str(int(np.rint(x.item()))) for x in pen*500]\n",
    "        p = p + tool + \" \" + \" \".join(pen[:len(tool_dict[tool])]) + \" \"\n",
    "    return p"
   ]
  },
  {
   "cell_type": "code",
   "execution_count": 108,
   "metadata": {},
   "outputs": [],
   "source": [
    "x,y = next(iter(data.train_dl))\n",
    "labels = y[2]"
   ]
  },
  {
   "cell_type": "code",
   "execution_count": 109,
   "metadata": {},
   "outputs": [
    {
     "data": {
      "text/plain": [
       "'M 186 140 l 10 0 l -5 41 q 41 -46 90 -46 q 38 0 57 24 t 20 70 q 0 39 -13 79 t -41 68 t -73 28 q -36 0 -69 -14 l -15 106 l -11 2 z  M 298 368 q 26 -26 38 -64 t 11 -73 q 0 -42 -17 -64 t -49 -22 q -28 0 -49 13 t -43 38 l -26 184 q 32 14 67 14 q 42 0 68 -26 z  '"
      ]
     },
     "execution_count": 109,
     "metadata": {},
     "output_type": "execute_result"
    }
   ],
   "source": [
    "po = path_from_tensors(y[0],y[1])\n",
    "po"
   ]
  },
  {
   "cell_type": "code",
   "execution_count": 110,
   "metadata": {},
   "outputs": [
    {
     "data": {
      "image/png": "[encoded data removed]",
      "text/plain": [
       "<wand.image.Image: ce09ece 'SVG' (64x64)>"
      ]
     },
     "execution_count": 110,
     "metadata": {},
     "output_type": "execute_result"
    }
   ],
   "source": [
    "p = get_pred_path(x[[0]],labels[[0]])\n",
    "p = p[:p.find(\"END\")-1]\n",
    "#p\n",
    "render_path_wand(p,500,500)"
   ]
  },
  {
   "cell_type": "code",
   "execution_count": 111,
   "metadata": {},
   "outputs": [
    {
     "data": {
      "text/plain": [
       "'M 189 151 l 37 0 l -1 33 q 29 -41 38 -40 t 38 0 q 35 0 56 86 t 20 72 q -61 23 -14 87 t -43 64 t -76 23 q -34 0 -56 -10 l -16 105 l -43 4 z  M 23 0 z  M 30 0 z  M 28 0 z  M -7 0 z  M -43 0 z  M -1 0 z  M 0 0 z  M -2 4 z '"
      ]
     },
     "execution_count": 111,
     "metadata": {},
     "output_type": "execute_result"
    }
   ],
   "source": [
    "p_mean = get_pred_path(x[[0]],labels[[0]],mean=True)\n",
    "#p_mean = p_mean[:p_mean.find(\"z\")+1]\n",
    "p_mean = p_mean[:p_mean.find(\"END\")-1]\n",
    "#p_mean = p_mean[:len(po)]\n",
    "p_mean"
   ]
  },
  {
   "cell_type": "code",
   "execution_count": 112,
   "metadata": {},
   "outputs": [
    {
     "data": {
      "image/png": "[encoded data removed]",
      "text/plain": [
       "<wand.image.Image: b6fa580 'SVG' (64x64)>"
      ]
     },
     "execution_count": 112,
     "metadata": {},
     "output_type": "execute_result"
    }
   ],
   "source": [
    "render_path_wand(path_from_tensors(y[0],y[1]),500,500)"
   ]
  },
  {
   "cell_type": "code",
   "execution_count": 113,
   "metadata": {},
   "outputs": [
    {
     "data": {
      "image/png": "[encoded data removed]",
      "text/plain": [
       "<wand.image.Image: 77cdc6d 'SVG' (64x64)>"
      ]
     },
     "execution_count": 113,
     "metadata": {},
     "output_type": "execute_result"
    }
   ],
   "source": [
    "render_path_wand(p_mean,500,500)"
   ]
  },
  {
   "cell_type": "code",
   "execution_count": 203,
   "metadata": {},
   "outputs": [
    {
     "data": {
      "image/png": "[encoded data removed]",
      "text/plain": [
       "<Figure size 1440x1440 with 20 Axes>"
      ]
     },
     "metadata": {
      "needs_background": "light"
     },
     "output_type": "display_data"
    }
   ],
   "source": [
    "fig,axes = plt.subplots(10,2,figsize=(20,20))\n",
    "for i in range(10):\n",
    "    rp = path_from_tensors(y[0],y[1],i)\n",
    "    rp = render_path_wand(rp,500,500)\n",
    "    axes[i][0].imshow(rp)\n",
    "    p = get_pred_path(x[[i]],labels[[i]],mean=True)\n",
    "    ie = p.find(\"END\")\n",
    "    if ie is not None:\n",
    "        p = p[:ie-1]\n",
    "    else:\n",
    "        p = p[:p.find(\"z\")+1]\n",
    "\n",
    "    #p = p[:len(rp)]\n",
    "    img = render_path_wand(p,500,500)\n",
    "    axes[i][1].imshow(img)"
   ]
  },
  {
   "cell_type": "code",
   "execution_count": 204,
   "metadata": {},
   "outputs": [
    {
     "data": {
      "image/png": "[encoded data removed]",
      "text/plain": [
       "<Figure size 1440x1440 with 25 Axes>"
      ]
     },
     "metadata": {
      "needs_background": "light"
     },
     "output_type": "display_data"
    }
   ],
   "source": [
    "fig,axes = plt.subplots(5,5,figsize=(20,20))\n",
    "i = 0\n",
    "for ax in axes.flatten():\n",
    "    p = get_pred_path(x[[i]],labels[[i]],mean=False)\n",
    "    p = p[:p.find(\"END\")-1]\n",
    "    img = render_path_wand(p,500,500)\n",
    "    ax.imshow(img)"
   ]
  },
  {
   "cell_type": "code",
   "execution_count": 122,
   "metadata": {},
   "outputs": [],
   "source": [
    "class Agent(nn.Module):\n",
    "    def __init__(self,num_tools,encoder_sd=None,tool_emb_sd=None):\n",
    "        super().__init__()\n",
    "        self.cnn = nn.Sequential(\n",
    "            conv2d(1,32,5,1,2),\n",
    "            nn.InstanceNorm2d(32,affine=True),\n",
    "            nn.ReLU(),\n",
    "            conv2d(32,32,5,2,2),\n",
    "            nn.InstanceNorm2d(32,affine=True),\n",
    "            nn.ReLU(),\n",
    "            conv2d(32,64,5,1,2),\n",
    "            nn.InstanceNorm2d(64,affine=True),\n",
    "            nn.ReLU(),\n",
    "            conv2d(64,64,5,2,2),\n",
    "            nn.InstanceNorm2d(64,affine=True),\n",
    "            nn.ReLU(),\n",
    "            conv2d(64,64,3,2,1),\n",
    "            nn.InstanceNorm2d(64,affine=True),\n",
    "            nn.ReLU(),\n",
    "            conv2d(64,64,3,2,1),\n",
    "            nn.InstanceNorm2d(64,affine=True),\n",
    "            nn.ReLU())\n",
    "        \n",
    "        if encoder_sd is not None: self.cnn.load_state_dict(encoder_sd)\n",
    "        \n",
    "        self.flatten = nn.Sequential(AdaptiveConcatPool2d(1),Flatten())\n",
    "        self.tool_emb = nn.Embedding(num_tools,4)\n",
    "        if tool_emb_sd is not None: self.tool_emb.load_state_dict(tool_emb_sd)\n",
    "        requires_grad(self.tool_emb,False)\n",
    "        self.sv_to_hs = nn.Linear(128,128)\n",
    "        self.path_encoder = nn.LSTM(4+4,128,2,batch_first=True)\n",
    "        self.tool_sel = nn.Linear(128,1)\n",
    "        self.num_tools = num_tools\n",
    "        self.adjust_mean = nn.Linear(128,num_tools*4)\n",
    "        self.adjust_std = nn.Linear(128,num_tools*4)\n",
    "        self.template = torch.arange(0,201).unsqueeze(0).expand(64,-1).cuda()\n",
    "        \n",
    "    def forward(self, state, tools, pens, explore=True):\n",
    "        sv = self.flatten(self.cnn(state))\n",
    "        u = torch.cat([self.tool_emb(tools),pens],dim=2)\n",
    "        hs = self.sv_to_hs(sv).unsqueeze(0).expand(2,-1,-1).contiguous()\n",
    "        output,_ = self.path_encoder(u,(hs,torch.zeros_like(hs)))\n",
    "        \n",
    "        actions = torch.softmax(self.tool_sel(output).squeeze(-1),dim=1)\n",
    "        mean = 0.1*torch.tanh(self.adjust_mean(output).view(tools.shape[0],-1,self.num_tools,4))\n",
    "        std = 0.1*torch.sigmoid(self.adjust_std(output).view(tools.shape[0],-1,self.num_tools,4))\n",
    "        mask = (tools != 0) & (tools != 8) & (tools != 9) & (tools != 6)\n",
    "        first_end = torch.argmax(tools==9,dim=1,keepdim=True)\n",
    "\n",
    "        mask = mask & (self.template < first_end)\n",
    "        actions = torch.where(mask,actions,torch.zeros_like(actions))\n",
    "        \n",
    "        #action_probs,action = torch.max(actions,dim=1)\n",
    "        dist_action = torch.distributions.Categorical(actions)\n",
    "        action = dist_action.sample()\n",
    "        action_log_probs = dist_action.log_prob(action)\n",
    "        t = tools[torch.arange(tools.shape[0]),action]\n",
    "        mean = mean[torch.arange(mean.shape[0]),action,t]\n",
    "        std = std[torch.arange(std.shape[0]),action,t]\n",
    "        adjust = torch.zeros_like(pens)\n",
    "        if explore:\n",
    "            \n",
    "            dist = torch.distributions.Normal(mean,std)\n",
    "            d = dist.sample()\n",
    "            adjust[torch.arange(tools.shape[0]),action] = d\n",
    "            return (pens + adjust), action_log_probs, dist.log_prob(d), action\n",
    "        else:\n",
    "            d = mean\n",
    "            adjust[torch.arange(tools.shape[0]),action] = d\n",
    "            return (pens + adjust)"
   ]
  },
  {
   "cell_type": "code",
   "execution_count": 125,
   "metadata": {},
   "outputs": [],
   "source": [
    "class AgentInitTrainer(LearnerCallback):\n",
    "    def on_batch_begin(self, last_input, last_target, **kwargs):\n",
    "        state = [path_from_tensors(last_target[0],last_target[1],i) for i in range(last_target[0].shape[0])]\n",
    "        state = render_paths(state)\n",
    "        mask = (last_target[0][:,1:] != 0).unsqueeze(-1).expand(-1,-1,4) & (last_target[1][:,1:] != -2.0)\n",
    "        return {\"last_input\": (state, last_target[0][:,1:], last_target[1][:,1:]), \"last_target\": (last_target[1][:,1:],mask)}\n",
    "    \n",
    "def agent_init_loss(preds, target, mask):\n",
    "    npens,_,_= preds\n",
    "    return F.mse_loss(npens,target, reduction=\"none\")[mask].mean()"
   ]
  },
  {
   "cell_type": "code",
   "execution_count": 81,
   "metadata": {},
   "outputs": [],
   "source": [
    "learnAgentInit = Learner(data,Agent(len(data.vocab),learnAE.model.encoder.state_dict(),learnSVG.model.token_emb.state_dict()),loss_func=agent_init_loss,callback_fns=[AgentInitTrainer])"
   ]
  },
  {
   "cell_type": "code",
   "execution_count": 58,
   "metadata": {},
   "outputs": [],
   "source": [
    "def tensors_to_path_string(tools,pens):\n",
    "    paths = []\n",
    "    for i in range(tools.shape[0]):\n",
    "        out = []\n",
    "        for t,p in zip(tools[i],pens[i]):\n",
    "            t = data.vocab[t]\n",
    "            out.append(t)\n",
    "            out.append(\" \".join([str(int(np.rint(500*n.item()))) for n in p[:len(tool_dict[t])]]))\n",
    "        path = \" \".join(out)\n",
    "        path = path[:path.find(\"END\")-1]\n",
    "        paths.append(path)\n",
    "    return paths"
   ]
  },
  {
   "cell_type": "code",
   "execution_count": 139,
   "metadata": {},
   "outputs": [],
   "source": [
    "def get_pred_paths(x,labels,mean=True):\n",
    "    learnSVG.model.eval()\n",
    "    with torch.no_grad():\n",
    "        if mean:\n",
    "            tools, pens = learnSVG.model.get_preds_mean(x,labels)\n",
    "        else:\n",
    "            tools, pens = learnSVG.model.get_preds(x,labels)\n",
    "        \n",
    "    paths = tensors_to_path_string(tools[:,1:-1],pens[:,1:-1])\n",
    "    return paths,tools,pens"
   ]
  },
  {
   "cell_type": "code",
   "execution_count": 36,
   "metadata": {},
   "outputs": [],
   "source": [
    "def render_paths(paths):\n",
    "    return torch.stack([wand_to_tensor(render_path_wand(p,500,500)) for p in paths]).unsqueeze(1).cuda()"
   ]
  },
  {
   "cell_type": "code",
   "execution_count": 140,
   "metadata": {},
   "outputs": [],
   "source": [
    "#x,y = next(iter(data.train_dl))\n",
    "target_paths = [path_from_tensors(y[0],y[1],i) for i in range(x.shape[0])]\n",
    "targets = render_paths(target_paths)[[0]].expand(64,-1,-1,-1)\n",
    "\n",
    "paths, tools, pens = get_pred_paths(x,y[2])\n",
    "start_state = render_paths(paths)[[0]].expand(64,-1,-1,-1)\n",
    "start_state_tools = tools[[0]].expand(64,-1)\n",
    "start_state_pens = pens[[0]].expand(64,-1,-1)"
   ]
  },
  {
   "cell_type": "code",
   "execution_count": 141,
   "metadata": {},
   "outputs": [
    {
     "data": {
      "text/plain": [
       "<matplotlib.image.AxesImage at 0x7f5f78adfb00>"
      ]
     },
     "execution_count": 141,
     "metadata": {},
     "output_type": "execute_result"
    },
    {
     "data": {
      "image/png": "[encoded data removed]",
      "text/plain": [
       "<Figure size 432x288 with 1 Axes>"
      ]
     },
     "metadata": {
      "needs_background": "light"
     },
     "output_type": "display_data"
    }
   ],
   "source": [
    "plt.imshow(targets[0,0])"
   ]
  },
  {
   "cell_type": "code",
   "execution_count": 142,
   "metadata": {},
   "outputs": [
    {
     "data": {
      "text/plain": [
       "<matplotlib.image.AxesImage at 0x7f5f78a41358>"
      ]
     },
     "execution_count": 142,
     "metadata": {},
     "output_type": "execute_result"
    },
    {
     "data": {
      "image/png": "[encoded data removed]",
      "text/plain": [
       "<Figure size 432x288 with 1 Axes>"
      ]
     },
     "metadata": {
      "needs_background": "light"
     },
     "output_type": "display_data"
    }
   ],
   "source": [
    "plt.imshow(start_state[0,0])"
   ]
  },
  {
   "cell_type": "code",
   "execution_count": 145,
   "metadata": {},
   "outputs": [
    {
     "name": "stdout",
     "output_type": "stream",
     "text": [
      "Epoch 0: 0.056525424122810364 -0.6100371479988098\n"
     ]
    },
    {
     "data": {
      "image/png": "[encoded data removed]",
      "text/plain": [
       "<Figure size 432x288 with 1 Axes>"
      ]
     },
     "metadata": {
      "needs_background": "light"
     },
     "output_type": "display_data"
    },
    {
     "name": "stdout",
     "output_type": "stream",
     "text": [
      "Epoch 1: 0.1804703325033188 0.9626850485801697\n"
     ]
    },
    {
     "data": {
      "image/png": "[encoded data removed]",
      "text/plain": [
       "<Figure size 432x288 with 1 Axes>"
      ]
     },
     "metadata": {
      "needs_background": "light"
     },
     "output_type": "display_data"
    },
    {
     "name": "stdout",
     "output_type": "stream",
     "text": [
      "Epoch 2: 0.15729066729545593 0.6568151712417603\n"
     ]
    },
    {
     "data": {
      "image/png": "[encoded data removed]",
      "text/plain": [
       "<Figure size 432x288 with 1 Axes>"
      ]
     },
     "metadata": {
      "needs_background": "light"
     },
     "output_type": "display_data"
    },
    {
     "name": "stdout",
     "output_type": "stream",
     "text": [
      "Epoch 3: 0.21906180679798126 1.2876763343811035\n"
     ]
    },
    {
     "data": {
      "image/png": "[encoded data removed]",
      "text/plain": [
       "<Figure size 432x288 with 1 Axes>"
      ]
     },
     "metadata": {
      "needs_background": "light"
     },
     "output_type": "display_data"
    },
    {
     "name": "stdout",
     "output_type": "stream",
     "text": [
      "Epoch 4: 0.2435780167579651 -0.696641206741333\n"
     ]
    },
    {
     "data": {
      "image/png": "[encoded data removed]",
      "text/plain": [
       "<Figure size 432x288 with 1 Axes>"
      ]
     },
     "metadata": {
      "needs_background": "light"
     },
     "output_type": "display_data"
    },
    {
     "name": "stdout",
     "output_type": "stream",
     "text": [
      "Epoch 5: 0.2714958190917969 2.6189637184143066\n"
     ]
    },
    {
     "data": {
      "image/png": "[encoded data removed]",
      "text/plain": [
       "<Figure size 432x288 with 1 Axes>"
      ]
     },
     "metadata": {
      "needs_background": "light"
     },
     "output_type": "display_data"
    },
    {
     "name": "stdout",
     "output_type": "stream",
     "text": [
      "Epoch 6: 0.20458614826202393 1.3461644649505615\n"
     ]
    },
    {
     "data": {
      "image/png": "[encoded data removed]",
      "text/plain": [
       "<Figure size 432x288 with 1 Axes>"
      ]
     },
     "metadata": {
      "needs_background": "light"
     },
     "output_type": "display_data"
    },
    {
     "name": "stdout",
     "output_type": "stream",
     "text": [
      "Epoch 7: 0.3286011815071106 6.281794548034668\n"
     ]
    },
    {
     "data": {
      "image/png": "[encoded data removed]",
      "text/plain": [
       "<Figure size 432x288 with 1 Axes>"
      ]
     },
     "metadata": {
      "needs_background": "light"
     },
     "output_type": "display_data"
    },
    {
     "name": "stdout",
     "output_type": "stream",
     "text": [
      "Epoch 8: 0.1952843964099884 0.18929511308670044\n"
     ]
    },
    {
     "data": {
      "image/png": "[encoded data removed]",
      "text/plain": [
       "<Figure size 432x288 with 1 Axes>"
      ]
     },
     "metadata": {
      "needs_background": "light"
     },
     "output_type": "display_data"
    },
    {
     "name": "stdout",
     "output_type": "stream",
     "text": [
      "Epoch 9: 0.2680826187133789 0.2510419487953186\n"
     ]
    },
    {
     "data": {
      "image/png": "[encoded data removed]",
      "text/plain": [
       "<Figure size 432x288 with 1 Axes>"
      ]
     },
     "metadata": {
      "needs_background": "light"
     },
     "output_type": "display_data"
    }
   ],
   "source": [
    "baseline = F.mse_loss(start_state,targets,reduction=\"none\").view(start_state.shape[0],-1).mean(dim=1)\n",
    "agent = Agent(len(data.vocab),learnAE.model.encoder.state_dict(),learnSVG.model.token_emb.state_dict()).cuda()\n",
    "opt_agent = torch.optim.SGD(agent.parameters(),lr=1e-3)\n",
    "\n",
    "for epoch in range(10):\n",
    "    state, state_tools, state_pens = start_state, start_state_tools, start_state_pens\n",
    "    action_log_probs, pen_log_probs, rewards, actions = [], [], [], []\n",
    "    for t in range(4):\n",
    "        npens, action_probs, pen_probs, action = agent(state,state_tools,state_pens)\n",
    "        #print(state_pens-npens)\n",
    "        state_pens = npens\n",
    "        #print(tensors_to_path_string(state_tools[:,1:],state_pens[:,1:]))\n",
    "        state = render_paths(tensors_to_path_string(state_tools[:,1:],state_pens[:,1:]))\n",
    "        reward = baseline - F.mse_loss(state,targets,reduction=\"none\").view(state.shape[0],-1).mean(dim=1)\n",
    "        action_log_probs.append(action_probs)\n",
    "        pen_log_probs.append(pen_probs)\n",
    "        rewards.append(reward*10)\n",
    "        actions.append(action.detach())\n",
    "    \n",
    "    action_log_probs = torch.stack(action_log_probs,dim=1)\n",
    "    pen_log_probs = torch.stack(pen_log_probs,dim=1)\n",
    "    rewards = torch.stack(rewards,dim=1)\n",
    "    actions = torch.stack(actions,dim=1)\n",
    "    #print(rewards.shape)\n",
    "    ##print(rewards)\n",
    "    #rewards = (rewards - torch.mean(rewards)) / torch.std(rewards)\n",
    "    #print(action_log_probs.shape,pen_log_probs.shape,rewards.shape)\n",
    "    loss = -(rewards * action_log_probs).mean() + -(rewards.unsqueeze(-1) * pen_log_probs).mean()\n",
    "    opt_agent.zero_grad()\n",
    "    loss.backward()\n",
    "    print(f\"Epoch {epoch}: {loss.item()} {rewards[0].sum().item()}\")\n",
    "    opt_agent.step()\n",
    "    \n",
    "        \n",
    "    plt.imshow(state[0,0])\n",
    "    plt.show()"
   ]
  },
  {
   "cell_type": "code",
   "execution_count": 165,
   "metadata": {},
   "outputs": [],
   "source": [
    "class RectifyTransformer(nn.Module):\n",
    "    \"Transformer model: https://arxiv.org/abs/1706.03762.\"\n",
    "    def __init__(self, vocab_sz:int, ctx_len:int, n_layers:int, n_heads:int, d_model:int, d_head:int, d_inner:int,\n",
    "                 resid_p:float=0., attn_p:float=0., ff_p:float=0., embed_p:float=0., bias:bool=True, scale:bool=True,\n",
    "                 act:Activation=Activation.ReLU, double_drop:bool=True, attn_cls:Callable=MultiHeadAttention,\n",
    "                 learned_pos_enc:bool=True, mask:bool=True, tool_emb_sd=None):\n",
    "        super().__init__()\n",
    "        self.mask = mask\n",
    "        self.tool_emb = nn.Embedding(len(data.vocab),4)\n",
    "        if tool_emb_sd is not None:\n",
    "            self.tool_emb.load_state_dict(tool_emb_sd)\n",
    "        #self.encoder = nn.Embedding(vocab_sz, d_model)\n",
    "        self.pos_enc = nn.Embedding(ctx_len, d_model) if learned_pos_enc else PositionalEncoding(d_model)\n",
    "        self.drop_emb = nn.Dropout(embed_p)\n",
    "        self.layers = nn.ModuleList([DecoderLayer(n_heads, d_model, d_head, d_inner, resid_p=resid_p, attn_p=attn_p,\n",
    "                      ff_p=ff_p, bias=bias, scale=scale, act=act, double_drop=double_drop,\n",
    "                      attn_cls=attn_cls) for k in range(n_layers)])\n",
    "        self.out = nn.Linear(9,4)\n",
    "\n",
    "    def reset(self): pass\n",
    "\n",
    "    def forward(self, tools, pens):\n",
    "        bs, x_len, pen_size = pens.size()\n",
    "        pos = torch.arange(0, x_len, device=pens.device, dtype=pens.dtype)\n",
    "        tools = self.tool_emb(tools)\n",
    "        inp = torch.cat([pos.view(1,-1,1).expand(bs,-1,-1),tools,pens],dim=2)\n",
    "        mask = torch.triu(pens.new_ones(x_len, x_len), diagonal=1).byte()[None,None] if self.mask else None\n",
    "        #[None,:,:None] for einsum implementation of attention\n",
    "        for layer in self.layers: inp = layer(inp, mask=mask)\n",
    "        return pens + torch.tanh(self.out(inp))\n",
    "        #return ([inp],[inp]) #For the LinearDecoder\n",
    "        \n",
    "class RectifyTrainer(LearnerCallback):\n",
    "    def on_batch_begin(self, last_input, last_target, **kwargs):\n",
    "        learnSVG.model.eval()\n",
    "        with torch.no_grad():\n",
    "            tools, pens = learnSVG.model.get_preds(last_input,last_target[2])\n",
    "            \n",
    "        return {\"last_input\": (tools,pens), \"last_target\": last_target[1]}\n",
    "\n",
    "def rectify_loss(preds,target):\n",
    "    target = target[:,1:200]\n",
    "    mask = (target != -2.0)\n",
    "    loss = F.mse_loss(preds[:,1:target.shape[1]+1],target,reduction=\"none\")[mask].mean()\n",
    "    return loss"
   ]
  },
  {
   "cell_type": "code",
   "execution_count": 166,
   "metadata": {},
   "outputs": [],
   "source": [
    "t = RectifyTransformer(62,5,6,4,1+4+4,32,64,learned_pos_enc=False,tool_emb_sd=learnSVG.model.token_emb.state_dict())\n",
    "learnRectify = Learner(data,t,loss_func=rectify_loss,callback_fns=[RectifyTrainer])"
   ]
  },
  {
   "cell_type": "code",
   "execution_count": 167,
   "metadata": {},
   "outputs": [
    {
     "data": {
      "text/html": [
       "\n",
       "    <div>\n",
       "        <style>\n",
       "            /* Turns off some styling */\n",
       "            progress {\n",
       "                /* gets rid of default border in Firefox and Opera. */\n",
       "                border: none;\n",
       "                /* Needs to be in here for Safari polyfill so background images work as expected. */\n",
       "                background-size: auto;\n",
       "            }\n",
       "            .progress-bar-interrupted, .progress-bar-interrupted::-webkit-progress-bar {\n",
       "                background: #F44336;\n",
       "            }\n",
       "        </style>\n",
       "      <progress value='7' class='' max='20', style='width:300px; height:20px; vertical-align: middle;'></progress>\n",
       "      35.00% [7/20 02:59<05:33]\n",
       "    </div>\n",
       "    \n",
       "<table style='width:300px; margin-bottom:10px'>\n",
       "  <tr>\n",
       "    <th>epoch</th>\n",
       "    <th>train_loss</th>\n",
       "    <th>valid_loss</th>\n",
       "    <th>time</th>\n",
       "  </tr>\n",
       "  <tr>\n",
       "    <th>0</th>\n",
       "    <th>0.033348</th>\n",
       "    <th>#na#</th>\n",
       "    <th>00:25</th>\n",
       "  </tr>\n",
       "  <tr>\n",
       "    <th>1</th>\n",
       "    <th>0.025710</th>\n",
       "    <th>#na#</th>\n",
       "    <th>00:25</th>\n",
       "  </tr>\n",
       "  <tr>\n",
       "    <th>2</th>\n",
       "    <th>0.023460</th>\n",
       "    <th>#na#</th>\n",
       "    <th>00:25</th>\n",
       "  </tr>\n",
       "  <tr>\n",
       "    <th>3</th>\n",
       "    <th>0.022415</th>\n",
       "    <th>#na#</th>\n",
       "    <th>00:25</th>\n",
       "  </tr>\n",
       "  <tr>\n",
       "    <th>4</th>\n",
       "    <th>0.021936</th>\n",
       "    <th>#na#</th>\n",
       "    <th>00:25</th>\n",
       "  </tr>\n",
       "  <tr>\n",
       "    <th>5</th>\n",
       "    <th>0.021703</th>\n",
       "    <th>#na#</th>\n",
       "    <th>00:25</th>\n",
       "  </tr>\n",
       "  <tr>\n",
       "    <th>6</th>\n",
       "    <th>0.021709</th>\n",
       "    <th>#na#</th>\n",
       "    <th>00:25</th>\n",
       "  </tr>\n",
       "</table>\n",
       "\n",
       "\n",
       "    <div>\n",
       "        <style>\n",
       "            /* Turns off some styling */\n",
       "            progress {\n",
       "                /* gets rid of default border in Firefox and Opera. */\n",
       "                border: none;\n",
       "                /* Needs to be in here for Safari polyfill so background images work as expected. */\n",
       "                background-size: auto;\n",
       "            }\n",
       "            .progress-bar-interrupted, .progress-bar-interrupted::-webkit-progress-bar {\n",
       "                background: #F44336;\n",
       "            }\n",
       "        </style>\n",
       "      <progress value='0' class='progress-bar-interrupted' max='34', style='width:300px; height:20px; vertical-align: middle;'></progress>\n",
       "      Interrupted\n",
       "    </div>\n",
       "    "
      ],
      "text/plain": [
       "<IPython.core.display.HTML object>"
      ]
     },
     "metadata": {},
     "output_type": "display_data"
    },
    {
     "ename": "KeyboardInterrupt",
     "evalue": "",
     "output_type": "error",
     "traceback": [
      "\u001b[0;31m---------------------------------------------------------------------------\u001b[0m",
      "\u001b[0;31mKeyboardInterrupt\u001b[0m                         Traceback (most recent call last)",
      "\u001b[0;32m<ipython-input-167-e82c1f863b9c>\u001b[0m in \u001b[0;36m<module>\u001b[0;34m\u001b[0m\n\u001b[0;32m----> 1\u001b[0;31m \u001b[0mlearnRectify\u001b[0m\u001b[0;34m.\u001b[0m\u001b[0mfit\u001b[0m\u001b[0;34m(\u001b[0m\u001b[0;36m20\u001b[0m\u001b[0;34m,\u001b[0m\u001b[0;36m3e-3\u001b[0m\u001b[0;34m)\u001b[0m\u001b[0;34m\u001b[0m\u001b[0;34m\u001b[0m\u001b[0m\n\u001b[0m",
      "\u001b[0;32m/opt/anaconda3/lib/python3.7/site-packages/fastai/basic_train.py\u001b[0m in \u001b[0;36mfit\u001b[0;34m(self, epochs, lr, wd, callbacks)\u001b[0m\n\u001b[1;32m    194\u001b[0m         \u001b[0mcallbacks\u001b[0m \u001b[0;34m=\u001b[0m \u001b[0;34m[\u001b[0m\u001b[0mcb\u001b[0m\u001b[0;34m(\u001b[0m\u001b[0mself\u001b[0m\u001b[0;34m)\u001b[0m \u001b[0;32mfor\u001b[0m \u001b[0mcb\u001b[0m \u001b[0;32min\u001b[0m \u001b[0mself\u001b[0m\u001b[0;34m.\u001b[0m\u001b[0mcallback_fns\u001b[0m\u001b[0;34m]\u001b[0m \u001b[0;34m+\u001b[0m \u001b[0mlistify\u001b[0m\u001b[0;34m(\u001b[0m\u001b[0mcallbacks\u001b[0m\u001b[0;34m)\u001b[0m\u001b[0;34m\u001b[0m\u001b[0;34m\u001b[0m\u001b[0m\n\u001b[1;32m    195\u001b[0m         \u001b[0;32mif\u001b[0m \u001b[0mdefaults\u001b[0m\u001b[0;34m.\u001b[0m\u001b[0mextra_callbacks\u001b[0m \u001b[0;32mis\u001b[0m \u001b[0;32mnot\u001b[0m \u001b[0;32mNone\u001b[0m\u001b[0;34m:\u001b[0m \u001b[0mcallbacks\u001b[0m \u001b[0;34m+=\u001b[0m \u001b[0mdefaults\u001b[0m\u001b[0;34m.\u001b[0m\u001b[0mextra_callbacks\u001b[0m\u001b[0;34m\u001b[0m\u001b[0;34m\u001b[0m\u001b[0m\n\u001b[0;32m--> 196\u001b[0;31m         \u001b[0mfit\u001b[0m\u001b[0;34m(\u001b[0m\u001b[0mepochs\u001b[0m\u001b[0;34m,\u001b[0m \u001b[0mself\u001b[0m\u001b[0;34m,\u001b[0m \u001b[0mmetrics\u001b[0m\u001b[0;34m=\u001b[0m\u001b[0mself\u001b[0m\u001b[0;34m.\u001b[0m\u001b[0mmetrics\u001b[0m\u001b[0;34m,\u001b[0m \u001b[0mcallbacks\u001b[0m\u001b[0;34m=\u001b[0m\u001b[0mself\u001b[0m\u001b[0;34m.\u001b[0m\u001b[0mcallbacks\u001b[0m\u001b[0;34m+\u001b[0m\u001b[0mcallbacks\u001b[0m\u001b[0;34m)\u001b[0m\u001b[0;34m\u001b[0m\u001b[0;34m\u001b[0m\u001b[0m\n\u001b[0m\u001b[1;32m    197\u001b[0m \u001b[0;34m\u001b[0m\u001b[0m\n\u001b[1;32m    198\u001b[0m     \u001b[0;32mdef\u001b[0m \u001b[0mcreate_opt\u001b[0m\u001b[0;34m(\u001b[0m\u001b[0mself\u001b[0m\u001b[0;34m,\u001b[0m \u001b[0mlr\u001b[0m\u001b[0;34m:\u001b[0m\u001b[0mFloats\u001b[0m\u001b[0;34m,\u001b[0m \u001b[0mwd\u001b[0m\u001b[0;34m:\u001b[0m\u001b[0mFloats\u001b[0m\u001b[0;34m=\u001b[0m\u001b[0;36m0.\u001b[0m\u001b[0;34m)\u001b[0m\u001b[0;34m->\u001b[0m\u001b[0;32mNone\u001b[0m\u001b[0;34m:\u001b[0m\u001b[0;34m\u001b[0m\u001b[0;34m\u001b[0m\u001b[0m\n",
      "\u001b[0;32m/opt/anaconda3/lib/python3.7/site-packages/fastai/basic_train.py\u001b[0m in \u001b[0;36mfit\u001b[0;34m(epochs, learn, callbacks, metrics)\u001b[0m\n\u001b[1;32m     97\u001b[0m             \u001b[0mcb_handler\u001b[0m\u001b[0;34m.\u001b[0m\u001b[0mon_epoch_begin\u001b[0m\u001b[0;34m(\u001b[0m\u001b[0;34m)\u001b[0m\u001b[0;34m\u001b[0m\u001b[0;34m\u001b[0m\u001b[0m\n\u001b[1;32m     98\u001b[0m             \u001b[0;32mfor\u001b[0m \u001b[0mxb\u001b[0m\u001b[0;34m,\u001b[0m\u001b[0myb\u001b[0m \u001b[0;32min\u001b[0m \u001b[0mprogress_bar\u001b[0m\u001b[0;34m(\u001b[0m\u001b[0mlearn\u001b[0m\u001b[0;34m.\u001b[0m\u001b[0mdata\u001b[0m\u001b[0;34m.\u001b[0m\u001b[0mtrain_dl\u001b[0m\u001b[0;34m,\u001b[0m \u001b[0mparent\u001b[0m\u001b[0;34m=\u001b[0m\u001b[0mpbar\u001b[0m\u001b[0;34m)\u001b[0m\u001b[0;34m:\u001b[0m\u001b[0;34m\u001b[0m\u001b[0;34m\u001b[0m\u001b[0m\n\u001b[0;32m---> 99\u001b[0;31m                 \u001b[0mxb\u001b[0m\u001b[0;34m,\u001b[0m \u001b[0myb\u001b[0m \u001b[0;34m=\u001b[0m \u001b[0mcb_handler\u001b[0m\u001b[0;34m.\u001b[0m\u001b[0mon_batch_begin\u001b[0m\u001b[0;34m(\u001b[0m\u001b[0mxb\u001b[0m\u001b[0;34m,\u001b[0m \u001b[0myb\u001b[0m\u001b[0;34m)\u001b[0m\u001b[0;34m\u001b[0m\u001b[0;34m\u001b[0m\u001b[0m\n\u001b[0m\u001b[1;32m    100\u001b[0m                 \u001b[0mloss\u001b[0m \u001b[0;34m=\u001b[0m \u001b[0mloss_batch\u001b[0m\u001b[0;34m(\u001b[0m\u001b[0mlearn\u001b[0m\u001b[0;34m.\u001b[0m\u001b[0mmodel\u001b[0m\u001b[0;34m,\u001b[0m \u001b[0mxb\u001b[0m\u001b[0;34m,\u001b[0m \u001b[0myb\u001b[0m\u001b[0;34m,\u001b[0m \u001b[0mlearn\u001b[0m\u001b[0;34m.\u001b[0m\u001b[0mloss_func\u001b[0m\u001b[0;34m,\u001b[0m \u001b[0mlearn\u001b[0m\u001b[0;34m.\u001b[0m\u001b[0mopt\u001b[0m\u001b[0;34m,\u001b[0m \u001b[0mcb_handler\u001b[0m\u001b[0;34m)\u001b[0m\u001b[0;34m\u001b[0m\u001b[0;34m\u001b[0m\u001b[0m\n\u001b[1;32m    101\u001b[0m                 \u001b[0;32mif\u001b[0m \u001b[0mcb_handler\u001b[0m\u001b[0;34m.\u001b[0m\u001b[0mon_batch_end\u001b[0m\u001b[0;34m(\u001b[0m\u001b[0mloss\u001b[0m\u001b[0;34m)\u001b[0m\u001b[0;34m:\u001b[0m \u001b[0;32mbreak\u001b[0m\u001b[0;34m\u001b[0m\u001b[0;34m\u001b[0m\u001b[0m\n",
      "\u001b[0;32m/opt/anaconda3/lib/python3.7/site-packages/fastai/callback.py\u001b[0m in \u001b[0;36mon_batch_begin\u001b[0;34m(self, xb, yb, train)\u001b[0m\n\u001b[1;32m    276\u001b[0m         self.state_dict.update(dict(last_input=xb, last_target=yb, train=train, \n\u001b[1;32m    277\u001b[0m             stop_epoch=False, skip_step=False, skip_zero=False, skip_bwd=False))\n\u001b[0;32m--> 278\u001b[0;31m         \u001b[0mself\u001b[0m\u001b[0;34m(\u001b[0m\u001b[0;34m'batch_begin'\u001b[0m\u001b[0;34m,\u001b[0m \u001b[0mmets\u001b[0m \u001b[0;34m=\u001b[0m \u001b[0;32mnot\u001b[0m \u001b[0mself\u001b[0m\u001b[0;34m.\u001b[0m\u001b[0mstate_dict\u001b[0m\u001b[0;34m[\u001b[0m\u001b[0;34m'train'\u001b[0m\u001b[0;34m]\u001b[0m\u001b[0;34m)\u001b[0m\u001b[0;34m\u001b[0m\u001b[0;34m\u001b[0m\u001b[0m\n\u001b[0m\u001b[1;32m    279\u001b[0m         \u001b[0;32mreturn\u001b[0m \u001b[0mself\u001b[0m\u001b[0;34m.\u001b[0m\u001b[0mstate_dict\u001b[0m\u001b[0;34m[\u001b[0m\u001b[0;34m'last_input'\u001b[0m\u001b[0;34m]\u001b[0m\u001b[0;34m,\u001b[0m \u001b[0mself\u001b[0m\u001b[0;34m.\u001b[0m\u001b[0mstate_dict\u001b[0m\u001b[0;34m[\u001b[0m\u001b[0;34m'last_target'\u001b[0m\u001b[0;34m]\u001b[0m\u001b[0;34m\u001b[0m\u001b[0;34m\u001b[0m\u001b[0m\n\u001b[1;32m    280\u001b[0m \u001b[0;34m\u001b[0m\u001b[0m\n",
      "\u001b[0;32m/opt/anaconda3/lib/python3.7/site-packages/fastai/callback.py\u001b[0m in \u001b[0;36m__call__\u001b[0;34m(self, cb_name, call_mets, **kwargs)\u001b[0m\n\u001b[1;32m    248\u001b[0m         \u001b[0;32mif\u001b[0m \u001b[0mcall_mets\u001b[0m\u001b[0;34m:\u001b[0m\u001b[0;34m\u001b[0m\u001b[0;34m\u001b[0m\u001b[0m\n\u001b[1;32m    249\u001b[0m             \u001b[0;32mfor\u001b[0m \u001b[0mmet\u001b[0m \u001b[0;32min\u001b[0m \u001b[0mself\u001b[0m\u001b[0;34m.\u001b[0m\u001b[0mmetrics\u001b[0m\u001b[0;34m:\u001b[0m \u001b[0mself\u001b[0m\u001b[0;34m.\u001b[0m\u001b[0m_call_and_update\u001b[0m\u001b[0;34m(\u001b[0m\u001b[0mmet\u001b[0m\u001b[0;34m,\u001b[0m \u001b[0mcb_name\u001b[0m\u001b[0;34m,\u001b[0m \u001b[0;34m**\u001b[0m\u001b[0mkwargs\u001b[0m\u001b[0;34m)\u001b[0m\u001b[0;34m\u001b[0m\u001b[0;34m\u001b[0m\u001b[0m\n\u001b[0;32m--> 250\u001b[0;31m         \u001b[0;32mfor\u001b[0m \u001b[0mcb\u001b[0m \u001b[0;32min\u001b[0m \u001b[0mself\u001b[0m\u001b[0;34m.\u001b[0m\u001b[0mcallbacks\u001b[0m\u001b[0;34m:\u001b[0m \u001b[0mself\u001b[0m\u001b[0;34m.\u001b[0m\u001b[0m_call_and_update\u001b[0m\u001b[0;34m(\u001b[0m\u001b[0mcb\u001b[0m\u001b[0;34m,\u001b[0m \u001b[0mcb_name\u001b[0m\u001b[0;34m,\u001b[0m \u001b[0;34m**\u001b[0m\u001b[0mkwargs\u001b[0m\u001b[0;34m)\u001b[0m\u001b[0;34m\u001b[0m\u001b[0;34m\u001b[0m\u001b[0m\n\u001b[0m\u001b[1;32m    251\u001b[0m \u001b[0;34m\u001b[0m\u001b[0m\n\u001b[1;32m    252\u001b[0m     \u001b[0;32mdef\u001b[0m \u001b[0mset_dl\u001b[0m\u001b[0;34m(\u001b[0m\u001b[0mself\u001b[0m\u001b[0;34m,\u001b[0m \u001b[0mdl\u001b[0m\u001b[0;34m:\u001b[0m\u001b[0mDataLoader\u001b[0m\u001b[0;34m)\u001b[0m\u001b[0;34m:\u001b[0m\u001b[0;34m\u001b[0m\u001b[0;34m\u001b[0m\u001b[0m\n",
      "\u001b[0;32m/opt/anaconda3/lib/python3.7/site-packages/fastai/callback.py\u001b[0m in \u001b[0;36m_call_and_update\u001b[0;34m(self, cb, cb_name, **kwargs)\u001b[0m\n\u001b[1;32m    238\u001b[0m     \u001b[0;32mdef\u001b[0m \u001b[0m_call_and_update\u001b[0m\u001b[0;34m(\u001b[0m\u001b[0mself\u001b[0m\u001b[0;34m,\u001b[0m \u001b[0mcb\u001b[0m\u001b[0;34m,\u001b[0m \u001b[0mcb_name\u001b[0m\u001b[0;34m,\u001b[0m \u001b[0;34m**\u001b[0m\u001b[0mkwargs\u001b[0m\u001b[0;34m)\u001b[0m\u001b[0;34m->\u001b[0m\u001b[0;32mNone\u001b[0m\u001b[0;34m:\u001b[0m\u001b[0;34m\u001b[0m\u001b[0;34m\u001b[0m\u001b[0m\n\u001b[1;32m    239\u001b[0m         \u001b[0;34m\"Call `cb_name` on `cb` and update the inner state.\"\u001b[0m\u001b[0;34m\u001b[0m\u001b[0;34m\u001b[0m\u001b[0m\n\u001b[0;32m--> 240\u001b[0;31m         \u001b[0mnew\u001b[0m \u001b[0;34m=\u001b[0m \u001b[0mifnone\u001b[0m\u001b[0;34m(\u001b[0m\u001b[0mgetattr\u001b[0m\u001b[0;34m(\u001b[0m\u001b[0mcb\u001b[0m\u001b[0;34m,\u001b[0m \u001b[0;34mf'on_{cb_name}'\u001b[0m\u001b[0;34m)\u001b[0m\u001b[0;34m(\u001b[0m\u001b[0;34m**\u001b[0m\u001b[0mself\u001b[0m\u001b[0;34m.\u001b[0m\u001b[0mstate_dict\u001b[0m\u001b[0;34m,\u001b[0m \u001b[0;34m**\u001b[0m\u001b[0mkwargs\u001b[0m\u001b[0;34m)\u001b[0m\u001b[0;34m,\u001b[0m \u001b[0mdict\u001b[0m\u001b[0;34m(\u001b[0m\u001b[0;34m)\u001b[0m\u001b[0;34m)\u001b[0m\u001b[0;34m\u001b[0m\u001b[0;34m\u001b[0m\u001b[0m\n\u001b[0m\u001b[1;32m    241\u001b[0m         \u001b[0;32mfor\u001b[0m \u001b[0mk\u001b[0m\u001b[0;34m,\u001b[0m\u001b[0mv\u001b[0m \u001b[0;32min\u001b[0m \u001b[0mnew\u001b[0m\u001b[0;34m.\u001b[0m\u001b[0mitems\u001b[0m\u001b[0;34m(\u001b[0m\u001b[0;34m)\u001b[0m\u001b[0;34m:\u001b[0m\u001b[0;34m\u001b[0m\u001b[0;34m\u001b[0m\u001b[0m\n\u001b[1;32m    242\u001b[0m             \u001b[0;32mif\u001b[0m \u001b[0mk\u001b[0m \u001b[0;32mnot\u001b[0m \u001b[0;32min\u001b[0m \u001b[0mself\u001b[0m\u001b[0;34m.\u001b[0m\u001b[0mstate_dict\u001b[0m\u001b[0;34m:\u001b[0m\u001b[0;34m\u001b[0m\u001b[0;34m\u001b[0m\u001b[0m\n",
      "\u001b[0;32m<ipython-input-165-f987fdd709be>\u001b[0m in \u001b[0;36mon_batch_begin\u001b[0;34m(self, last_input, last_target, **kwargs)\u001b[0m\n\u001b[1;32m     35\u001b[0m         \u001b[0mlearnSVG\u001b[0m\u001b[0;34m.\u001b[0m\u001b[0mmodel\u001b[0m\u001b[0;34m.\u001b[0m\u001b[0meval\u001b[0m\u001b[0;34m(\u001b[0m\u001b[0;34m)\u001b[0m\u001b[0;34m\u001b[0m\u001b[0;34m\u001b[0m\u001b[0m\n\u001b[1;32m     36\u001b[0m         \u001b[0;32mwith\u001b[0m \u001b[0mtorch\u001b[0m\u001b[0;34m.\u001b[0m\u001b[0mno_grad\u001b[0m\u001b[0;34m(\u001b[0m\u001b[0;34m)\u001b[0m\u001b[0;34m:\u001b[0m\u001b[0;34m\u001b[0m\u001b[0;34m\u001b[0m\u001b[0m\n\u001b[0;32m---> 37\u001b[0;31m             \u001b[0mtools\u001b[0m\u001b[0;34m,\u001b[0m \u001b[0mpens\u001b[0m \u001b[0;34m=\u001b[0m \u001b[0mlearnSVG\u001b[0m\u001b[0;34m.\u001b[0m\u001b[0mmodel\u001b[0m\u001b[0;34m.\u001b[0m\u001b[0mget_preds\u001b[0m\u001b[0;34m(\u001b[0m\u001b[0mlast_input\u001b[0m\u001b[0;34m,\u001b[0m\u001b[0mlast_target\u001b[0m\u001b[0;34m[\u001b[0m\u001b[0;36m2\u001b[0m\u001b[0;34m]\u001b[0m\u001b[0;34m)\u001b[0m\u001b[0;34m\u001b[0m\u001b[0;34m\u001b[0m\u001b[0m\n\u001b[0m\u001b[1;32m     38\u001b[0m \u001b[0;34m\u001b[0m\u001b[0m\n\u001b[1;32m     39\u001b[0m         \u001b[0;32mreturn\u001b[0m \u001b[0;34m{\u001b[0m\u001b[0;34m\"last_input\"\u001b[0m\u001b[0;34m:\u001b[0m \u001b[0;34m(\u001b[0m\u001b[0mtools\u001b[0m\u001b[0;34m,\u001b[0m\u001b[0mpens\u001b[0m\u001b[0;34m)\u001b[0m\u001b[0;34m,\u001b[0m \u001b[0;34m\"last_target\"\u001b[0m\u001b[0;34m:\u001b[0m \u001b[0mlast_target\u001b[0m\u001b[0;34m[\u001b[0m\u001b[0;36m1\u001b[0m\u001b[0;34m]\u001b[0m\u001b[0;34m}\u001b[0m\u001b[0;34m\u001b[0m\u001b[0;34m\u001b[0m\u001b[0m\n",
      "\u001b[0;32m<ipython-input-28-bbfb0e34fdf2>\u001b[0m in \u001b[0;36mget_preds\u001b[0;34m(self, png, char_class)\u001b[0m\n\u001b[1;32m     25\u001b[0m         \u001b[0;32mwhile\u001b[0m \u001b[0mi\u001b[0m \u001b[0;34m<\u001b[0m \u001b[0;36m200\u001b[0m\u001b[0;34m:\u001b[0m\u001b[0;34m\u001b[0m\u001b[0;34m\u001b[0m\u001b[0m\n\u001b[1;32m     26\u001b[0m             \u001b[0mr_in\u001b[0m \u001b[0;34m=\u001b[0m \u001b[0mtorch\u001b[0m\u001b[0;34m.\u001b[0m\u001b[0mcat\u001b[0m\u001b[0;34m(\u001b[0m\u001b[0;34m[\u001b[0m\u001b[0mself\u001b[0m\u001b[0;34m.\u001b[0m\u001b[0mtoken_emb\u001b[0m\u001b[0;34m(\u001b[0m\u001b[0mtools\u001b[0m\u001b[0;34m[\u001b[0m\u001b[0;34m-\u001b[0m\u001b[0;36m1\u001b[0m\u001b[0;34m]\u001b[0m\u001b[0;34m)\u001b[0m\u001b[0;34m,\u001b[0m\u001b[0mpens\u001b[0m\u001b[0;34m[\u001b[0m\u001b[0;34m-\u001b[0m\u001b[0;36m1\u001b[0m\u001b[0;34m]\u001b[0m\u001b[0;34m,\u001b[0m\u001b[0mz\u001b[0m\u001b[0;34m.\u001b[0m\u001b[0munsqueeze\u001b[0m\u001b[0;34m(\u001b[0m\u001b[0;36m1\u001b[0m\u001b[0;34m)\u001b[0m\u001b[0;34m]\u001b[0m\u001b[0;34m,\u001b[0m\u001b[0mdim\u001b[0m\u001b[0;34m=\u001b[0m\u001b[0;36m2\u001b[0m\u001b[0;34m)\u001b[0m\u001b[0;34m\u001b[0m\u001b[0;34m\u001b[0m\u001b[0m\n\u001b[0;32m---> 27\u001b[0;31m             \u001b[0moutput\u001b[0m\u001b[0;34m,\u001b[0m \u001b[0;34m(\u001b[0m\u001b[0mhs\u001b[0m\u001b[0;34m,\u001b[0m\u001b[0mcs\u001b[0m\u001b[0;34m)\u001b[0m \u001b[0;34m=\u001b[0m \u001b[0mself\u001b[0m\u001b[0;34m.\u001b[0m\u001b[0mrnn\u001b[0m\u001b[0;34m(\u001b[0m\u001b[0mr_in\u001b[0m\u001b[0;34m,\u001b[0m\u001b[0;34m(\u001b[0m\u001b[0mhs\u001b[0m\u001b[0;34m,\u001b[0m\u001b[0mcs\u001b[0m\u001b[0;34m)\u001b[0m\u001b[0;34m,\u001b[0m\u001b[0mfrom_embeddings\u001b[0m\u001b[0;34m=\u001b[0m\u001b[0;32mTrue\u001b[0m\u001b[0;34m)\u001b[0m\u001b[0;34m\u001b[0m\u001b[0;34m\u001b[0m\u001b[0m\n\u001b[0m\u001b[1;32m     28\u001b[0m             \u001b[0mtool\u001b[0m \u001b[0;34m=\u001b[0m \u001b[0mself\u001b[0m\u001b[0;34m.\u001b[0m\u001b[0mtoken\u001b[0m\u001b[0;34m(\u001b[0m\u001b[0moutput\u001b[0m\u001b[0;34m)\u001b[0m\u001b[0;34m\u001b[0m\u001b[0;34m\u001b[0m\u001b[0m\n\u001b[1;32m     29\u001b[0m             \u001b[0mu\u001b[0m \u001b[0;34m=\u001b[0m \u001b[0mtool\u001b[0m\u001b[0;34m[\u001b[0m\u001b[0mtools\u001b[0m\u001b[0;34m[\u001b[0m\u001b[0;34m-\u001b[0m\u001b[0;36m1\u001b[0m\u001b[0;34m]\u001b[0m\u001b[0;34m.\u001b[0m\u001b[0msqueeze\u001b[0m\u001b[0;34m(\u001b[0m\u001b[0;34m)\u001b[0m \u001b[0;34m==\u001b[0m \u001b[0;36m6\u001b[0m\u001b[0;34m]\u001b[0m\u001b[0;34m\u001b[0m\u001b[0;34m\u001b[0m\u001b[0m\n",
      "\u001b[0;32m/opt/anaconda3/lib/python3.7/site-packages/torch/nn/modules/module.py\u001b[0m in \u001b[0;36m__call__\u001b[0;34m(self, *input, **kwargs)\u001b[0m\n\u001b[1;32m    487\u001b[0m             \u001b[0mresult\u001b[0m \u001b[0;34m=\u001b[0m \u001b[0mself\u001b[0m\u001b[0;34m.\u001b[0m\u001b[0m_slow_forward\u001b[0m\u001b[0;34m(\u001b[0m\u001b[0;34m*\u001b[0m\u001b[0minput\u001b[0m\u001b[0;34m,\u001b[0m \u001b[0;34m**\u001b[0m\u001b[0mkwargs\u001b[0m\u001b[0;34m)\u001b[0m\u001b[0;34m\u001b[0m\u001b[0;34m\u001b[0m\u001b[0m\n\u001b[1;32m    488\u001b[0m         \u001b[0;32melse\u001b[0m\u001b[0;34m:\u001b[0m\u001b[0;34m\u001b[0m\u001b[0;34m\u001b[0m\u001b[0m\n\u001b[0;32m--> 489\u001b[0;31m             \u001b[0mresult\u001b[0m \u001b[0;34m=\u001b[0m \u001b[0mself\u001b[0m\u001b[0;34m.\u001b[0m\u001b[0mforward\u001b[0m\u001b[0;34m(\u001b[0m\u001b[0;34m*\u001b[0m\u001b[0minput\u001b[0m\u001b[0;34m,\u001b[0m \u001b[0;34m**\u001b[0m\u001b[0mkwargs\u001b[0m\u001b[0;34m)\u001b[0m\u001b[0;34m\u001b[0m\u001b[0;34m\u001b[0m\u001b[0m\n\u001b[0m\u001b[1;32m    490\u001b[0m         \u001b[0;32mfor\u001b[0m \u001b[0mhook\u001b[0m \u001b[0;32min\u001b[0m \u001b[0mself\u001b[0m\u001b[0;34m.\u001b[0m\u001b[0m_forward_hooks\u001b[0m\u001b[0;34m.\u001b[0m\u001b[0mvalues\u001b[0m\u001b[0;34m(\u001b[0m\u001b[0;34m)\u001b[0m\u001b[0;34m:\u001b[0m\u001b[0;34m\u001b[0m\u001b[0;34m\u001b[0m\u001b[0m\n\u001b[1;32m    491\u001b[0m             \u001b[0mhook_result\u001b[0m \u001b[0;34m=\u001b[0m \u001b[0mhook\u001b[0m\u001b[0;34m(\u001b[0m\u001b[0mself\u001b[0m\u001b[0;34m,\u001b[0m \u001b[0minput\u001b[0m\u001b[0;34m,\u001b[0m \u001b[0mresult\u001b[0m\u001b[0;34m)\u001b[0m\u001b[0;34m\u001b[0m\u001b[0;34m\u001b[0m\u001b[0m\n",
      "\u001b[0;32m<ipython-input-24-2544f29e9465>\u001b[0m in \u001b[0;36mforward\u001b[0;34m(self, input, hs, from_embeddings)\u001b[0m\n\u001b[1;32m     95\u001b[0m         \u001b[0mnew_hidden\u001b[0m\u001b[0;34m,\u001b[0m\u001b[0mraw_outputs\u001b[0m\u001b[0;34m,\u001b[0m\u001b[0moutputs\u001b[0m \u001b[0;34m=\u001b[0m \u001b[0;34m[\u001b[0m\u001b[0;34m]\u001b[0m\u001b[0;34m,\u001b[0m\u001b[0;34m[\u001b[0m\u001b[0;34m]\u001b[0m\u001b[0;34m,\u001b[0m\u001b[0;34m[\u001b[0m\u001b[0;34m]\u001b[0m\u001b[0;34m\u001b[0m\u001b[0;34m\u001b[0m\u001b[0m\n\u001b[1;32m     96\u001b[0m         \u001b[0;32mfor\u001b[0m \u001b[0ml\u001b[0m\u001b[0;34m,\u001b[0m \u001b[0;34m(\u001b[0m\u001b[0mrnn\u001b[0m\u001b[0;34m,\u001b[0m\u001b[0mhid_dp\u001b[0m\u001b[0;34m)\u001b[0m \u001b[0;32min\u001b[0m \u001b[0menumerate\u001b[0m\u001b[0;34m(\u001b[0m\u001b[0mzip\u001b[0m\u001b[0;34m(\u001b[0m\u001b[0mself\u001b[0m\u001b[0;34m.\u001b[0m\u001b[0mrnns\u001b[0m\u001b[0;34m,\u001b[0m \u001b[0mself\u001b[0m\u001b[0;34m.\u001b[0m\u001b[0mhidden_dps\u001b[0m\u001b[0;34m)\u001b[0m\u001b[0;34m)\u001b[0m\u001b[0;34m:\u001b[0m\u001b[0;34m\u001b[0m\u001b[0;34m\u001b[0m\u001b[0m\n\u001b[0;32m---> 97\u001b[0;31m             \u001b[0mraw_output\u001b[0m\u001b[0;34m,\u001b[0m \u001b[0mnew_h\u001b[0m \u001b[0;34m=\u001b[0m \u001b[0mrnn\u001b[0m\u001b[0;34m(\u001b[0m\u001b[0mraw_output\u001b[0m\u001b[0;34m,\u001b[0m \u001b[0;34m(\u001b[0m\u001b[0mhs\u001b[0m\u001b[0;34m[\u001b[0m\u001b[0;36m0\u001b[0m\u001b[0;34m]\u001b[0m\u001b[0;34m[\u001b[0m\u001b[0;34m[\u001b[0m\u001b[0ml\u001b[0m\u001b[0;34m]\u001b[0m\u001b[0;34m]\u001b[0m\u001b[0;34m,\u001b[0m\u001b[0mhs\u001b[0m\u001b[0;34m[\u001b[0m\u001b[0;36m1\u001b[0m\u001b[0;34m]\u001b[0m\u001b[0;34m[\u001b[0m\u001b[0;34m[\u001b[0m\u001b[0ml\u001b[0m\u001b[0;34m]\u001b[0m\u001b[0;34m]\u001b[0m\u001b[0;34m)\u001b[0m\u001b[0;34m)\u001b[0m\u001b[0;34m\u001b[0m\u001b[0;34m\u001b[0m\u001b[0m\n\u001b[0m\u001b[1;32m     98\u001b[0m             \u001b[0mnew_hidden\u001b[0m\u001b[0;34m.\u001b[0m\u001b[0mappend\u001b[0m\u001b[0;34m(\u001b[0m\u001b[0mnew_h\u001b[0m\u001b[0;34m)\u001b[0m\u001b[0;34m\u001b[0m\u001b[0;34m\u001b[0m\u001b[0m\n\u001b[1;32m     99\u001b[0m             \u001b[0mraw_outputs\u001b[0m\u001b[0;34m.\u001b[0m\u001b[0mappend\u001b[0m\u001b[0;34m(\u001b[0m\u001b[0mraw_output\u001b[0m\u001b[0;34m)\u001b[0m\u001b[0;34m\u001b[0m\u001b[0;34m\u001b[0m\u001b[0m\n",
      "\u001b[0;32m/opt/anaconda3/lib/python3.7/site-packages/torch/nn/modules/module.py\u001b[0m in \u001b[0;36m__call__\u001b[0;34m(self, *input, **kwargs)\u001b[0m\n\u001b[1;32m    487\u001b[0m             \u001b[0mresult\u001b[0m \u001b[0;34m=\u001b[0m \u001b[0mself\u001b[0m\u001b[0;34m.\u001b[0m\u001b[0m_slow_forward\u001b[0m\u001b[0;34m(\u001b[0m\u001b[0;34m*\u001b[0m\u001b[0minput\u001b[0m\u001b[0;34m,\u001b[0m \u001b[0;34m**\u001b[0m\u001b[0mkwargs\u001b[0m\u001b[0;34m)\u001b[0m\u001b[0;34m\u001b[0m\u001b[0;34m\u001b[0m\u001b[0m\n\u001b[1;32m    488\u001b[0m         \u001b[0;32melse\u001b[0m\u001b[0;34m:\u001b[0m\u001b[0;34m\u001b[0m\u001b[0;34m\u001b[0m\u001b[0m\n\u001b[0;32m--> 489\u001b[0;31m             \u001b[0mresult\u001b[0m \u001b[0;34m=\u001b[0m \u001b[0mself\u001b[0m\u001b[0;34m.\u001b[0m\u001b[0mforward\u001b[0m\u001b[0;34m(\u001b[0m\u001b[0;34m*\u001b[0m\u001b[0minput\u001b[0m\u001b[0;34m,\u001b[0m \u001b[0;34m**\u001b[0m\u001b[0mkwargs\u001b[0m\u001b[0;34m)\u001b[0m\u001b[0;34m\u001b[0m\u001b[0;34m\u001b[0m\u001b[0m\n\u001b[0m\u001b[1;32m    490\u001b[0m         \u001b[0;32mfor\u001b[0m \u001b[0mhook\u001b[0m \u001b[0;32min\u001b[0m \u001b[0mself\u001b[0m\u001b[0;34m.\u001b[0m\u001b[0m_forward_hooks\u001b[0m\u001b[0;34m.\u001b[0m\u001b[0mvalues\u001b[0m\u001b[0;34m(\u001b[0m\u001b[0;34m)\u001b[0m\u001b[0;34m:\u001b[0m\u001b[0;34m\u001b[0m\u001b[0;34m\u001b[0m\u001b[0m\n\u001b[1;32m    491\u001b[0m             \u001b[0mhook_result\u001b[0m \u001b[0;34m=\u001b[0m \u001b[0mhook\u001b[0m\u001b[0;34m(\u001b[0m\u001b[0mself\u001b[0m\u001b[0;34m,\u001b[0m \u001b[0minput\u001b[0m\u001b[0;34m,\u001b[0m \u001b[0mresult\u001b[0m\u001b[0;34m)\u001b[0m\u001b[0;34m\u001b[0m\u001b[0;34m\u001b[0m\u001b[0m\n",
      "\u001b[0;32m<ipython-input-24-2544f29e9465>\u001b[0m in \u001b[0;36mforward\u001b[0;34m(self, *args)\u001b[0m\n\u001b[1;32m     38\u001b[0m             \u001b[0;31m#To avoid the warning that comes because the weights aren't flattened.\u001b[0m\u001b[0;34m\u001b[0m\u001b[0;34m\u001b[0m\u001b[0;34m\u001b[0m\u001b[0m\n\u001b[1;32m     39\u001b[0m             \u001b[0mwarnings\u001b[0m\u001b[0;34m.\u001b[0m\u001b[0msimplefilter\u001b[0m\u001b[0;34m(\u001b[0m\u001b[0;34m\"ignore\"\u001b[0m\u001b[0;34m)\u001b[0m\u001b[0;34m\u001b[0m\u001b[0;34m\u001b[0m\u001b[0m\n\u001b[0;32m---> 40\u001b[0;31m             \u001b[0;32mreturn\u001b[0m \u001b[0mself\u001b[0m\u001b[0;34m.\u001b[0m\u001b[0mmodule\u001b[0m\u001b[0;34m.\u001b[0m\u001b[0mforward\u001b[0m\u001b[0;34m(\u001b[0m\u001b[0;34m*\u001b[0m\u001b[0margs\u001b[0m\u001b[0;34m)\u001b[0m\u001b[0;34m\u001b[0m\u001b[0;34m\u001b[0m\u001b[0m\n\u001b[0m\u001b[1;32m     41\u001b[0m \u001b[0;34m\u001b[0m\u001b[0m\n\u001b[1;32m     42\u001b[0m     \u001b[0;32mdef\u001b[0m \u001b[0mreset\u001b[0m\u001b[0;34m(\u001b[0m\u001b[0mself\u001b[0m\u001b[0;34m)\u001b[0m\u001b[0;34m:\u001b[0m\u001b[0;34m\u001b[0m\u001b[0;34m\u001b[0m\u001b[0m\n",
      "\u001b[0;32m/opt/anaconda3/lib/python3.7/site-packages/torch/nn/modules/rnn.py\u001b[0m in \u001b[0;36mforward\u001b[0;34m(self, input, hx)\u001b[0m\n\u001b[1;32m    177\u001b[0m         \u001b[0;32mif\u001b[0m \u001b[0mbatch_sizes\u001b[0m \u001b[0;32mis\u001b[0m \u001b[0;32mNone\u001b[0m\u001b[0;34m:\u001b[0m\u001b[0;34m\u001b[0m\u001b[0;34m\u001b[0m\u001b[0m\n\u001b[1;32m    178\u001b[0m             result = _impl(input, hx, self._flat_weights, self.bias, self.num_layers,\n\u001b[0;32m--> 179\u001b[0;31m                            self.dropout, self.training, self.bidirectional, self.batch_first)\n\u001b[0m\u001b[1;32m    180\u001b[0m         \u001b[0;32melse\u001b[0m\u001b[0;34m:\u001b[0m\u001b[0;34m\u001b[0m\u001b[0;34m\u001b[0m\u001b[0m\n\u001b[1;32m    181\u001b[0m             result = _impl(input, batch_sizes, hx, self._flat_weights, self.bias,\n",
      "\u001b[0;31mKeyboardInterrupt\u001b[0m: "
     ]
    }
   ],
   "source": [
    "learnRectify.fit(20,3e-3)"
   ]
  },
  {
   "cell_type": "code",
   "execution_count": 160,
   "metadata": {},
   "outputs": [
    {
     "data": {
      "text/plain": [
       "torch.Size([32, 50, 4])"
      ]
     },
     "execution_count": 160,
     "metadata": {},
     "output_type": "execute_result"
    }
   ],
   "source": [
    "t(torch.randint(0,len(data.vocab),(32,50)),torch.randn(32,50,4)).shape"
   ]
  },
  {
   "cell_type": "code",
   "execution_count": 54,
   "metadata": {},
   "outputs": [],
   "source": [
    "class ConvBlock(nn.Module):\n",
    "    def __init__(self,in_size,out_size,stride=1,final_relu=True):\n",
    "        super().__init__()\n",
    "        self.out_size = out_size\n",
    "        self.final_relu = final_relu\n",
    "        self.conv = nn.Sequential(\n",
    "                       conv2d(in_size,out_size,ks=(3,1),stride=(stride,1),padding=(1,0),bias=False),\n",
    "                       nn.ReLU(inplace=True),\n",
    "                       conv2d(out_size,out_size,ks=(3,1),stride=1,padding=(1,0),bias=False))\n",
    "        self.shortcut = conv2d(in_size,out_size,ks=(3,1),stride=(stride,1),padding=(1,0),bias=False)\n",
    "        \n",
    "    def forward(self, x):\n",
    "        u = self.conv(x)\n",
    "        \n",
    "        if x.shape[1] != self.out_size:\n",
    "            x = self.shortcut(x)\n",
    "            \n",
    "        x = x + u\n",
    "        if self.final_relu:\n",
    "            x = F.relu(x)\n",
    "        return x\n",
    "\n",
    "\n",
    "class RectifyNet(nn.Module):\n",
    "    def __init__(self):\n",
    "        super().__init__()\n",
    "        blocks = [1,8,16,8,1]\n",
    "        self.conv = nn.Sequential(*[ConvBlock(i,o,1,final_relu=(o!=1)) for i,o in zip(blocks,blocks[1:])])\n",
    "        \n",
    "    def forward(self, pens):\n",
    "        #pens bs x seq x 4\n",
    "        #tokens bs x seq\n",
    "        \n",
    "        u = pens.unsqueeze(1)\n",
    "        u = self.conv(u)\n",
    "            \n",
    "        return u.squeeze(1)\n",
    "\n",
    "    \n",
    "class UpBlock(nn.Module):\n",
    "    def __init__(self,up_in,c_in):\n",
    "        super().__init__()\n",
    "        self.conv_up = conv2d_trans(up_in,c_in,ks=(3,1),stride=(2,1),padding=(1,0))\n",
    "        self.conv = nn.Sequential(conv_layer(c_in*2,c_in),conv_layer(c_in,c_in,use_activ=False))\n",
    "        \n",
    "    def forward(self, x, c):\n",
    "        u = self.conv_up(x)\n",
    "        u = torch.cat([u,c],dim=1)\n",
    "        return self.conv(u)\n",
    "        \n",
    "    \n",
    "class RectifyUNet(nn.Module):\n",
    "    def __init__(self):\n",
    "        super().__init__()\n",
    "        encoder_blocks = [1,8,16,32]\n",
    "        self.encoder = nn.ModuleList([ConvBlock(i,o,2) for i,o in zip(encoder_blocks,encoder_blocks[1:])])\n",
    "        \n",
    "        self.middle_conv = nn.Sequential(conv_layer(32,64),conv_layer(64,32))\n",
    "        \n",
    "        decoder_blocks = [32,16,8,1]\n",
    "        self.decoder = nn.ModuleList([UpBlock(i,o) for i,o in zip(decoder_blocks,decoder_blocks[1:])])\n",
    "        \n",
    "        \n",
    "    def forward(self, pens): \n",
    "        u = pens.unsqueeze(1)\n",
    "        outputs = [u]\n",
    "        for l in self.encoder:\n",
    "            u = l(u)\n",
    "            outputs.append(u)\n",
    "            \n",
    "        u = self.middle_conv(u)\n",
    "        \n",
    "        for o,l in zip(reversed(outputs[:-1]),self.decoder):\n",
    "            u = l(u,o)\n",
    "            \n",
    "        return pens + u.squeeze(1)\n",
    "\n",
    "class RectifyRNN(nn.Module):\n",
    "    def __init__(self,tool_size,tool_emb_sd=None):\n",
    "        super().__init__()\n",
    "        self.tool_emb = nn.Embedding(tool_size,4)\n",
    "        if tool_emb_sd is not None: self.tool_emb.load_state_dict(tool_emb_sd)\n",
    "        self.rnn = nn.LSTM(8,128,3,batch_first=True)\n",
    "        #self.out = nn.Sequential(nn.Linear(128,32),nn.ReLU(),nn.Linear(32,4))\n",
    "        self.out = MDN(128,4,32)\n",
    "                \n",
    "    def forward(self, tools, pens):\n",
    "        u = torch.cat([self.tool_emb(tools),pens],dim=2)\n",
    "        output,_ = self.rnn(u)\n",
    "        pen = self.out(output)\n",
    "        return pen\n",
    "        \n",
    "class RectifyTrainer(LearnerCallback):\n",
    "    _order = -20\n",
    "    \n",
    "    def on_train_begin(self, **kwargs):\n",
    "        self.smoothMSE = SmoothenValue(0.98)\n",
    "        self.learn.recorder.add_metric_names([\"mse\"])\n",
    "    \n",
    "    def on_batch_begin(self, last_input, last_target, **kwargs):\n",
    "        learnSVG.model.eval()\n",
    "        with torch.no_grad():\n",
    "            tools, pens = learnSVG.model.get_preds(last_input,last_target[2])\n",
    "            \n",
    "        return {\"last_input\": (tools,pens), \"last_target\": last_target[1]}\n",
    "    \n",
    "    def on_batch_end(self, last_output, last_target, **kwargs):\n",
    "        s = sample(*last_output)\n",
    "        target = last_target[:,1:200]\n",
    "        mask = (target != -2.0)\n",
    "        mse = F.mse_loss(s[:,1:target.shape[1]+1],target,reduction=\"none\")[mask].mean()\n",
    "        self.smoothMSE.add_value(mse.item())\n",
    "        \n",
    "    def on_epoch_end(self, last_metrics, **kwargs):\n",
    "        return add_metrics(last_metrics,[self.smoothMSE.smooth])\n",
    "\n",
    "# def rectify_loss(preds,target):\n",
    "#     target = target[:,1:200]\n",
    "#     mask = (target != -2.0)\n",
    "#     loss = F.mse_loss(preds[:,1:target.shape[1]+1],target,reduction=\"none\")[mask].mean()\n",
    "#     return loss\n",
    "\n",
    "def rectify_loss(preds,target):\n",
    "    target = target[:,1:200]\n",
    "    preds = [p[:,1:target.shape[1]+1] for p in preds]\n",
    "    return mdn_loss(*preds,target)"
   ]
  },
  {
   "cell_type": "code",
   "execution_count": 55,
   "metadata": {},
   "outputs": [],
   "source": [
    "learnRectify = Learner(data,RectifyRNN(len(data.vocab),learnSVG.model.token_emb.state_dict()),loss_func=rectify_loss,callback_fns=[RectifyTrainer])"
   ]
  },
  {
   "cell_type": "code",
   "execution_count": 56,
   "metadata": {},
   "outputs": [
    {
     "data": {
      "text/html": [
       "\n",
       "    <div>\n",
       "        <style>\n",
       "            /* Turns off some styling */\n",
       "            progress {\n",
       "                /* gets rid of default border in Firefox and Opera. */\n",
       "                border: none;\n",
       "                /* Needs to be in here for Safari polyfill so background images work as expected. */\n",
       "                background-size: auto;\n",
       "            }\n",
       "            .progress-bar-interrupted, .progress-bar-interrupted::-webkit-progress-bar {\n",
       "                background: #F44336;\n",
       "            }\n",
       "        </style>\n",
       "      <progress value='10' class='' max='50', style='width:300px; height:20px; vertical-align: middle;'></progress>\n",
       "      20.00% [10/50 04:12<16:48]\n",
       "    </div>\n",
       "    \n",
       "<table style='width:375px; margin-bottom:10px'>\n",
       "  <tr>\n",
       "    <th>epoch</th>\n",
       "    <th>train_loss</th>\n",
       "    <th>valid_loss</th>\n",
       "    <th>mse</th>\n",
       "    <th>time</th>\n",
       "  </tr>\n",
       "  <tr>\n",
       "    <th>0</th>\n",
       "    <th>-0.577804</th>\n",
       "    <th>#na#</th>\n",
       "    <th>0.153025</th>\n",
       "    <th>00:24</th>\n",
       "  </tr>\n",
       "  <tr>\n",
       "    <th>1</th>\n",
       "    <th>-0.767839</th>\n",
       "    <th>#na#</th>\n",
       "    <th>0.083858</th>\n",
       "    <th>00:24</th>\n",
       "  </tr>\n",
       "  <tr>\n",
       "    <th>2</th>\n",
       "    <th>-0.857364</th>\n",
       "    <th>#na#</th>\n",
       "    <th>0.060303</th>\n",
       "    <th>00:25</th>\n",
       "  </tr>\n",
       "  <tr>\n",
       "    <th>3</th>\n",
       "    <th>-0.889007</th>\n",
       "    <th>#na#</th>\n",
       "    <th>0.050394</th>\n",
       "    <th>00:25</th>\n",
       "  </tr>\n",
       "  <tr>\n",
       "    <th>4</th>\n",
       "    <th>-0.911556</th>\n",
       "    <th>#na#</th>\n",
       "    <th>0.045317</th>\n",
       "    <th>00:25</th>\n",
       "  </tr>\n",
       "  <tr>\n",
       "    <th>5</th>\n",
       "    <th>-0.934760</th>\n",
       "    <th>#na#</th>\n",
       "    <th>0.042454</th>\n",
       "    <th>00:25</th>\n",
       "  </tr>\n",
       "  <tr>\n",
       "    <th>6</th>\n",
       "    <th>-0.947730</th>\n",
       "    <th>#na#</th>\n",
       "    <th>0.041969</th>\n",
       "    <th>00:25</th>\n",
       "  </tr>\n",
       "  <tr>\n",
       "    <th>7</th>\n",
       "    <th>-0.977621</th>\n",
       "    <th>#na#</th>\n",
       "    <th>0.041316</th>\n",
       "    <th>00:25</th>\n",
       "  </tr>\n",
       "  <tr>\n",
       "    <th>8</th>\n",
       "    <th>-0.972721</th>\n",
       "    <th>#na#</th>\n",
       "    <th>0.042033</th>\n",
       "    <th>00:25</th>\n",
       "  </tr>\n",
       "  <tr>\n",
       "    <th>9</th>\n",
       "    <th>-0.963477</th>\n",
       "    <th>#na#</th>\n",
       "    <th>0.041098</th>\n",
       "    <th>00:25</th>\n",
       "  </tr>\n",
       "</table>\n",
       "\n",
       "\n",
       "    <div>\n",
       "        <style>\n",
       "            /* Turns off some styling */\n",
       "            progress {\n",
       "                /* gets rid of default border in Firefox and Opera. */\n",
       "                border: none;\n",
       "                /* Needs to be in here for Safari polyfill so background images work as expected. */\n",
       "                background-size: auto;\n",
       "            }\n",
       "            .progress-bar-interrupted, .progress-bar-interrupted::-webkit-progress-bar {\n",
       "                background: #F44336;\n",
       "            }\n",
       "        </style>\n",
       "      <progress value='0' class='progress-bar-interrupted' max='34', style='width:300px; height:20px; vertical-align: middle;'></progress>\n",
       "      Interrupted\n",
       "    </div>\n",
       "    "
      ],
      "text/plain": [
       "<IPython.core.display.HTML object>"
      ]
     },
     "metadata": {},
     "output_type": "display_data"
    },
    {
     "ename": "KeyboardInterrupt",
     "evalue": "",
     "output_type": "error",
     "traceback": [
      "\u001b[0;31m---------------------------------------------------------------------------\u001b[0m",
      "\u001b[0;31mKeyboardInterrupt\u001b[0m                         Traceback (most recent call last)",
      "\u001b[0;32m<ipython-input-56-f33a41197cb2>\u001b[0m in \u001b[0;36m<module>\u001b[0;34m\u001b[0m\n\u001b[0;32m----> 1\u001b[0;31m \u001b[0mlearnRectify\u001b[0m\u001b[0;34m.\u001b[0m\u001b[0mfit\u001b[0m\u001b[0;34m(\u001b[0m\u001b[0;36m50\u001b[0m\u001b[0;34m,\u001b[0m\u001b[0;36m3e-3\u001b[0m\u001b[0;34m)\u001b[0m\u001b[0;34m\u001b[0m\u001b[0;34m\u001b[0m\u001b[0m\n\u001b[0m",
      "\u001b[0;32m/opt/anaconda3/lib/python3.7/site-packages/fastai/basic_train.py\u001b[0m in \u001b[0;36mfit\u001b[0;34m(self, epochs, lr, wd, callbacks)\u001b[0m\n\u001b[1;32m    194\u001b[0m         \u001b[0mcallbacks\u001b[0m \u001b[0;34m=\u001b[0m \u001b[0;34m[\u001b[0m\u001b[0mcb\u001b[0m\u001b[0;34m(\u001b[0m\u001b[0mself\u001b[0m\u001b[0;34m)\u001b[0m \u001b[0;32mfor\u001b[0m \u001b[0mcb\u001b[0m \u001b[0;32min\u001b[0m \u001b[0mself\u001b[0m\u001b[0;34m.\u001b[0m\u001b[0mcallback_fns\u001b[0m\u001b[0;34m]\u001b[0m \u001b[0;34m+\u001b[0m \u001b[0mlistify\u001b[0m\u001b[0;34m(\u001b[0m\u001b[0mcallbacks\u001b[0m\u001b[0;34m)\u001b[0m\u001b[0;34m\u001b[0m\u001b[0;34m\u001b[0m\u001b[0m\n\u001b[1;32m    195\u001b[0m         \u001b[0;32mif\u001b[0m \u001b[0mdefaults\u001b[0m\u001b[0;34m.\u001b[0m\u001b[0mextra_callbacks\u001b[0m \u001b[0;32mis\u001b[0m \u001b[0;32mnot\u001b[0m \u001b[0;32mNone\u001b[0m\u001b[0;34m:\u001b[0m \u001b[0mcallbacks\u001b[0m \u001b[0;34m+=\u001b[0m \u001b[0mdefaults\u001b[0m\u001b[0;34m.\u001b[0m\u001b[0mextra_callbacks\u001b[0m\u001b[0;34m\u001b[0m\u001b[0;34m\u001b[0m\u001b[0m\n\u001b[0;32m--> 196\u001b[0;31m         \u001b[0mfit\u001b[0m\u001b[0;34m(\u001b[0m\u001b[0mepochs\u001b[0m\u001b[0;34m,\u001b[0m \u001b[0mself\u001b[0m\u001b[0;34m,\u001b[0m \u001b[0mmetrics\u001b[0m\u001b[0;34m=\u001b[0m\u001b[0mself\u001b[0m\u001b[0;34m.\u001b[0m\u001b[0mmetrics\u001b[0m\u001b[0;34m,\u001b[0m \u001b[0mcallbacks\u001b[0m\u001b[0;34m=\u001b[0m\u001b[0mself\u001b[0m\u001b[0;34m.\u001b[0m\u001b[0mcallbacks\u001b[0m\u001b[0;34m+\u001b[0m\u001b[0mcallbacks\u001b[0m\u001b[0;34m)\u001b[0m\u001b[0;34m\u001b[0m\u001b[0;34m\u001b[0m\u001b[0m\n\u001b[0m\u001b[1;32m    197\u001b[0m \u001b[0;34m\u001b[0m\u001b[0m\n\u001b[1;32m    198\u001b[0m     \u001b[0;32mdef\u001b[0m \u001b[0mcreate_opt\u001b[0m\u001b[0;34m(\u001b[0m\u001b[0mself\u001b[0m\u001b[0;34m,\u001b[0m \u001b[0mlr\u001b[0m\u001b[0;34m:\u001b[0m\u001b[0mFloats\u001b[0m\u001b[0;34m,\u001b[0m \u001b[0mwd\u001b[0m\u001b[0;34m:\u001b[0m\u001b[0mFloats\u001b[0m\u001b[0;34m=\u001b[0m\u001b[0;36m0.\u001b[0m\u001b[0;34m)\u001b[0m\u001b[0;34m->\u001b[0m\u001b[0;32mNone\u001b[0m\u001b[0;34m:\u001b[0m\u001b[0;34m\u001b[0m\u001b[0;34m\u001b[0m\u001b[0m\n",
      "\u001b[0;32m/opt/anaconda3/lib/python3.7/site-packages/fastai/basic_train.py\u001b[0m in \u001b[0;36mfit\u001b[0;34m(epochs, learn, callbacks, metrics)\u001b[0m\n\u001b[1;32m     97\u001b[0m             \u001b[0mcb_handler\u001b[0m\u001b[0;34m.\u001b[0m\u001b[0mon_epoch_begin\u001b[0m\u001b[0;34m(\u001b[0m\u001b[0;34m)\u001b[0m\u001b[0;34m\u001b[0m\u001b[0;34m\u001b[0m\u001b[0m\n\u001b[1;32m     98\u001b[0m             \u001b[0;32mfor\u001b[0m \u001b[0mxb\u001b[0m\u001b[0;34m,\u001b[0m\u001b[0myb\u001b[0m \u001b[0;32min\u001b[0m \u001b[0mprogress_bar\u001b[0m\u001b[0;34m(\u001b[0m\u001b[0mlearn\u001b[0m\u001b[0;34m.\u001b[0m\u001b[0mdata\u001b[0m\u001b[0;34m.\u001b[0m\u001b[0mtrain_dl\u001b[0m\u001b[0;34m,\u001b[0m \u001b[0mparent\u001b[0m\u001b[0;34m=\u001b[0m\u001b[0mpbar\u001b[0m\u001b[0;34m)\u001b[0m\u001b[0;34m:\u001b[0m\u001b[0;34m\u001b[0m\u001b[0;34m\u001b[0m\u001b[0m\n\u001b[0;32m---> 99\u001b[0;31m                 \u001b[0mxb\u001b[0m\u001b[0;34m,\u001b[0m \u001b[0myb\u001b[0m \u001b[0;34m=\u001b[0m \u001b[0mcb_handler\u001b[0m\u001b[0;34m.\u001b[0m\u001b[0mon_batch_begin\u001b[0m\u001b[0;34m(\u001b[0m\u001b[0mxb\u001b[0m\u001b[0;34m,\u001b[0m \u001b[0myb\u001b[0m\u001b[0;34m)\u001b[0m\u001b[0;34m\u001b[0m\u001b[0;34m\u001b[0m\u001b[0m\n\u001b[0m\u001b[1;32m    100\u001b[0m                 \u001b[0mloss\u001b[0m \u001b[0;34m=\u001b[0m \u001b[0mloss_batch\u001b[0m\u001b[0;34m(\u001b[0m\u001b[0mlearn\u001b[0m\u001b[0;34m.\u001b[0m\u001b[0mmodel\u001b[0m\u001b[0;34m,\u001b[0m \u001b[0mxb\u001b[0m\u001b[0;34m,\u001b[0m \u001b[0myb\u001b[0m\u001b[0;34m,\u001b[0m \u001b[0mlearn\u001b[0m\u001b[0;34m.\u001b[0m\u001b[0mloss_func\u001b[0m\u001b[0;34m,\u001b[0m \u001b[0mlearn\u001b[0m\u001b[0;34m.\u001b[0m\u001b[0mopt\u001b[0m\u001b[0;34m,\u001b[0m \u001b[0mcb_handler\u001b[0m\u001b[0;34m)\u001b[0m\u001b[0;34m\u001b[0m\u001b[0;34m\u001b[0m\u001b[0m\n\u001b[1;32m    101\u001b[0m                 \u001b[0;32mif\u001b[0m \u001b[0mcb_handler\u001b[0m\u001b[0;34m.\u001b[0m\u001b[0mon_batch_end\u001b[0m\u001b[0;34m(\u001b[0m\u001b[0mloss\u001b[0m\u001b[0;34m)\u001b[0m\u001b[0;34m:\u001b[0m \u001b[0;32mbreak\u001b[0m\u001b[0;34m\u001b[0m\u001b[0;34m\u001b[0m\u001b[0m\n",
      "\u001b[0;32m/opt/anaconda3/lib/python3.7/site-packages/fastai/callback.py\u001b[0m in \u001b[0;36mon_batch_begin\u001b[0;34m(self, xb, yb, train)\u001b[0m\n\u001b[1;32m    276\u001b[0m         self.state_dict.update(dict(last_input=xb, last_target=yb, train=train, \n\u001b[1;32m    277\u001b[0m             stop_epoch=False, skip_step=False, skip_zero=False, skip_bwd=False))\n\u001b[0;32m--> 278\u001b[0;31m         \u001b[0mself\u001b[0m\u001b[0;34m(\u001b[0m\u001b[0;34m'batch_begin'\u001b[0m\u001b[0;34m,\u001b[0m \u001b[0mmets\u001b[0m \u001b[0;34m=\u001b[0m \u001b[0;32mnot\u001b[0m \u001b[0mself\u001b[0m\u001b[0;34m.\u001b[0m\u001b[0mstate_dict\u001b[0m\u001b[0;34m[\u001b[0m\u001b[0;34m'train'\u001b[0m\u001b[0;34m]\u001b[0m\u001b[0;34m)\u001b[0m\u001b[0;34m\u001b[0m\u001b[0;34m\u001b[0m\u001b[0m\n\u001b[0m\u001b[1;32m    279\u001b[0m         \u001b[0;32mreturn\u001b[0m \u001b[0mself\u001b[0m\u001b[0;34m.\u001b[0m\u001b[0mstate_dict\u001b[0m\u001b[0;34m[\u001b[0m\u001b[0;34m'last_input'\u001b[0m\u001b[0;34m]\u001b[0m\u001b[0;34m,\u001b[0m \u001b[0mself\u001b[0m\u001b[0;34m.\u001b[0m\u001b[0mstate_dict\u001b[0m\u001b[0;34m[\u001b[0m\u001b[0;34m'last_target'\u001b[0m\u001b[0;34m]\u001b[0m\u001b[0;34m\u001b[0m\u001b[0;34m\u001b[0m\u001b[0m\n\u001b[1;32m    280\u001b[0m \u001b[0;34m\u001b[0m\u001b[0m\n",
      "\u001b[0;32m/opt/anaconda3/lib/python3.7/site-packages/fastai/callback.py\u001b[0m in \u001b[0;36m__call__\u001b[0;34m(self, cb_name, call_mets, **kwargs)\u001b[0m\n\u001b[1;32m    248\u001b[0m         \u001b[0;32mif\u001b[0m \u001b[0mcall_mets\u001b[0m\u001b[0;34m:\u001b[0m\u001b[0;34m\u001b[0m\u001b[0;34m\u001b[0m\u001b[0m\n\u001b[1;32m    249\u001b[0m             \u001b[0;32mfor\u001b[0m \u001b[0mmet\u001b[0m \u001b[0;32min\u001b[0m \u001b[0mself\u001b[0m\u001b[0;34m.\u001b[0m\u001b[0mmetrics\u001b[0m\u001b[0;34m:\u001b[0m \u001b[0mself\u001b[0m\u001b[0;34m.\u001b[0m\u001b[0m_call_and_update\u001b[0m\u001b[0;34m(\u001b[0m\u001b[0mmet\u001b[0m\u001b[0;34m,\u001b[0m \u001b[0mcb_name\u001b[0m\u001b[0;34m,\u001b[0m \u001b[0;34m**\u001b[0m\u001b[0mkwargs\u001b[0m\u001b[0;34m)\u001b[0m\u001b[0;34m\u001b[0m\u001b[0;34m\u001b[0m\u001b[0m\n\u001b[0;32m--> 250\u001b[0;31m         \u001b[0;32mfor\u001b[0m \u001b[0mcb\u001b[0m \u001b[0;32min\u001b[0m \u001b[0mself\u001b[0m\u001b[0;34m.\u001b[0m\u001b[0mcallbacks\u001b[0m\u001b[0;34m:\u001b[0m \u001b[0mself\u001b[0m\u001b[0;34m.\u001b[0m\u001b[0m_call_and_update\u001b[0m\u001b[0;34m(\u001b[0m\u001b[0mcb\u001b[0m\u001b[0;34m,\u001b[0m \u001b[0mcb_name\u001b[0m\u001b[0;34m,\u001b[0m \u001b[0;34m**\u001b[0m\u001b[0mkwargs\u001b[0m\u001b[0;34m)\u001b[0m\u001b[0;34m\u001b[0m\u001b[0;34m\u001b[0m\u001b[0m\n\u001b[0m\u001b[1;32m    251\u001b[0m \u001b[0;34m\u001b[0m\u001b[0m\n\u001b[1;32m    252\u001b[0m     \u001b[0;32mdef\u001b[0m \u001b[0mset_dl\u001b[0m\u001b[0;34m(\u001b[0m\u001b[0mself\u001b[0m\u001b[0;34m,\u001b[0m \u001b[0mdl\u001b[0m\u001b[0;34m:\u001b[0m\u001b[0mDataLoader\u001b[0m\u001b[0;34m)\u001b[0m\u001b[0;34m:\u001b[0m\u001b[0;34m\u001b[0m\u001b[0;34m\u001b[0m\u001b[0m\n",
      "\u001b[0;32m/opt/anaconda3/lib/python3.7/site-packages/fastai/callback.py\u001b[0m in \u001b[0;36m_call_and_update\u001b[0;34m(self, cb, cb_name, **kwargs)\u001b[0m\n\u001b[1;32m    238\u001b[0m     \u001b[0;32mdef\u001b[0m \u001b[0m_call_and_update\u001b[0m\u001b[0;34m(\u001b[0m\u001b[0mself\u001b[0m\u001b[0;34m,\u001b[0m \u001b[0mcb\u001b[0m\u001b[0;34m,\u001b[0m \u001b[0mcb_name\u001b[0m\u001b[0;34m,\u001b[0m \u001b[0;34m**\u001b[0m\u001b[0mkwargs\u001b[0m\u001b[0;34m)\u001b[0m\u001b[0;34m->\u001b[0m\u001b[0;32mNone\u001b[0m\u001b[0;34m:\u001b[0m\u001b[0;34m\u001b[0m\u001b[0;34m\u001b[0m\u001b[0m\n\u001b[1;32m    239\u001b[0m         \u001b[0;34m\"Call `cb_name` on `cb` and update the inner state.\"\u001b[0m\u001b[0;34m\u001b[0m\u001b[0;34m\u001b[0m\u001b[0m\n\u001b[0;32m--> 240\u001b[0;31m         \u001b[0mnew\u001b[0m \u001b[0;34m=\u001b[0m \u001b[0mifnone\u001b[0m\u001b[0;34m(\u001b[0m\u001b[0mgetattr\u001b[0m\u001b[0;34m(\u001b[0m\u001b[0mcb\u001b[0m\u001b[0;34m,\u001b[0m \u001b[0;34mf'on_{cb_name}'\u001b[0m\u001b[0;34m)\u001b[0m\u001b[0;34m(\u001b[0m\u001b[0;34m**\u001b[0m\u001b[0mself\u001b[0m\u001b[0;34m.\u001b[0m\u001b[0mstate_dict\u001b[0m\u001b[0;34m,\u001b[0m \u001b[0;34m**\u001b[0m\u001b[0mkwargs\u001b[0m\u001b[0;34m)\u001b[0m\u001b[0;34m,\u001b[0m \u001b[0mdict\u001b[0m\u001b[0;34m(\u001b[0m\u001b[0;34m)\u001b[0m\u001b[0;34m)\u001b[0m\u001b[0;34m\u001b[0m\u001b[0;34m\u001b[0m\u001b[0m\n\u001b[0m\u001b[1;32m    241\u001b[0m         \u001b[0;32mfor\u001b[0m \u001b[0mk\u001b[0m\u001b[0;34m,\u001b[0m\u001b[0mv\u001b[0m \u001b[0;32min\u001b[0m \u001b[0mnew\u001b[0m\u001b[0;34m.\u001b[0m\u001b[0mitems\u001b[0m\u001b[0;34m(\u001b[0m\u001b[0;34m)\u001b[0m\u001b[0;34m:\u001b[0m\u001b[0;34m\u001b[0m\u001b[0;34m\u001b[0m\u001b[0m\n\u001b[1;32m    242\u001b[0m             \u001b[0;32mif\u001b[0m \u001b[0mk\u001b[0m \u001b[0;32mnot\u001b[0m \u001b[0;32min\u001b[0m \u001b[0mself\u001b[0m\u001b[0;34m.\u001b[0m\u001b[0mstate_dict\u001b[0m\u001b[0;34m:\u001b[0m\u001b[0;34m\u001b[0m\u001b[0;34m\u001b[0m\u001b[0m\n",
      "\u001b[0;32m<ipython-input-54-016b1d97a762>\u001b[0m in \u001b[0;36mon_batch_begin\u001b[0;34m(self, last_input, last_target, **kwargs)\u001b[0m\n\u001b[1;32m    101\u001b[0m         \u001b[0mlearnSVG\u001b[0m\u001b[0;34m.\u001b[0m\u001b[0mmodel\u001b[0m\u001b[0;34m.\u001b[0m\u001b[0meval\u001b[0m\u001b[0;34m(\u001b[0m\u001b[0;34m)\u001b[0m\u001b[0;34m\u001b[0m\u001b[0;34m\u001b[0m\u001b[0m\n\u001b[1;32m    102\u001b[0m         \u001b[0;32mwith\u001b[0m \u001b[0mtorch\u001b[0m\u001b[0;34m.\u001b[0m\u001b[0mno_grad\u001b[0m\u001b[0;34m(\u001b[0m\u001b[0;34m)\u001b[0m\u001b[0;34m:\u001b[0m\u001b[0;34m\u001b[0m\u001b[0;34m\u001b[0m\u001b[0m\n\u001b[0;32m--> 103\u001b[0;31m             \u001b[0mtools\u001b[0m\u001b[0;34m,\u001b[0m \u001b[0mpens\u001b[0m \u001b[0;34m=\u001b[0m \u001b[0mlearnSVG\u001b[0m\u001b[0;34m.\u001b[0m\u001b[0mmodel\u001b[0m\u001b[0;34m.\u001b[0m\u001b[0mget_preds\u001b[0m\u001b[0;34m(\u001b[0m\u001b[0mlast_input\u001b[0m\u001b[0;34m,\u001b[0m\u001b[0mlast_target\u001b[0m\u001b[0;34m[\u001b[0m\u001b[0;36m2\u001b[0m\u001b[0;34m]\u001b[0m\u001b[0;34m)\u001b[0m\u001b[0;34m\u001b[0m\u001b[0;34m\u001b[0m\u001b[0m\n\u001b[0m\u001b[1;32m    104\u001b[0m \u001b[0;34m\u001b[0m\u001b[0m\n\u001b[1;32m    105\u001b[0m         \u001b[0;32mreturn\u001b[0m \u001b[0;34m{\u001b[0m\u001b[0;34m\"last_input\"\u001b[0m\u001b[0;34m:\u001b[0m \u001b[0;34m(\u001b[0m\u001b[0mtools\u001b[0m\u001b[0;34m,\u001b[0m\u001b[0mpens\u001b[0m\u001b[0;34m)\u001b[0m\u001b[0;34m,\u001b[0m \u001b[0;34m\"last_target\"\u001b[0m\u001b[0;34m:\u001b[0m \u001b[0mlast_target\u001b[0m\u001b[0;34m[\u001b[0m\u001b[0;36m1\u001b[0m\u001b[0;34m]\u001b[0m\u001b[0;34m}\u001b[0m\u001b[0;34m\u001b[0m\u001b[0;34m\u001b[0m\u001b[0m\n",
      "\u001b[0;32m<ipython-input-26-d33e98849a73>\u001b[0m in \u001b[0;36mget_preds\u001b[0;34m(self, png, char_class, use_mean)\u001b[0m\n\u001b[1;32m     28\u001b[0m             \u001b[0mtool\u001b[0m \u001b[0;34m=\u001b[0m \u001b[0mself\u001b[0m\u001b[0;34m.\u001b[0m\u001b[0mtoken\u001b[0m\u001b[0;34m(\u001b[0m\u001b[0moutput\u001b[0m\u001b[0;34m)\u001b[0m\u001b[0;34m\u001b[0m\u001b[0;34m\u001b[0m\u001b[0m\n\u001b[1;32m     29\u001b[0m             \u001b[0mu\u001b[0m \u001b[0;34m=\u001b[0m \u001b[0mtool\u001b[0m\u001b[0;34m[\u001b[0m\u001b[0mtools\u001b[0m\u001b[0;34m[\u001b[0m\u001b[0;34m-\u001b[0m\u001b[0;36m1\u001b[0m\u001b[0;34m]\u001b[0m\u001b[0;34m.\u001b[0m\u001b[0msqueeze\u001b[0m\u001b[0;34m(\u001b[0m\u001b[0;34m)\u001b[0m \u001b[0;34m==\u001b[0m \u001b[0;36m6\u001b[0m\u001b[0;34m]\u001b[0m\u001b[0;34m\u001b[0m\u001b[0;34m\u001b[0m\u001b[0m\n\u001b[0;32m---> 30\u001b[0;31m             \u001b[0mtool\u001b[0m\u001b[0;34m[\u001b[0m\u001b[0mtools\u001b[0m\u001b[0;34m[\u001b[0m\u001b[0;34m-\u001b[0m\u001b[0;36m1\u001b[0m\u001b[0;34m]\u001b[0m\u001b[0;34m.\u001b[0m\u001b[0msqueeze\u001b[0m\u001b[0;34m(\u001b[0m\u001b[0;34m)\u001b[0m \u001b[0;34m==\u001b[0m \u001b[0;36m6\u001b[0m\u001b[0;34m]\u001b[0m \u001b[0;34m=\u001b[0m \u001b[0mtorch\u001b[0m\u001b[0;34m.\u001b[0m\u001b[0mwhere\u001b[0m\u001b[0;34m(\u001b[0m\u001b[0mself\u001b[0m\u001b[0;34m.\u001b[0m\u001b[0mmask\u001b[0m\u001b[0;34m.\u001b[0m\u001b[0munsqueeze\u001b[0m\u001b[0;34m(\u001b[0m\u001b[0;36m0\u001b[0m\u001b[0;34m)\u001b[0m\u001b[0;34m.\u001b[0m\u001b[0mexpand_as\u001b[0m\u001b[0;34m(\u001b[0m\u001b[0mu\u001b[0m\u001b[0;34m)\u001b[0m\u001b[0;34m==\u001b[0m\u001b[0;36m1.0\u001b[0m\u001b[0;34m,\u001b[0m\u001b[0mu\u001b[0m\u001b[0;34m,\u001b[0m\u001b[0mtorch\u001b[0m\u001b[0;34m.\u001b[0m\u001b[0mzeros_like\u001b[0m\u001b[0;34m(\u001b[0m\u001b[0mu\u001b[0m\u001b[0;34m)\u001b[0m\u001b[0;34m.\u001b[0m\u001b[0mfill_\u001b[0m\u001b[0;34m(\u001b[0m\u001b[0;34m-\u001b[0m\u001b[0;36m1e9\u001b[0m\u001b[0;34m)\u001b[0m\u001b[0;34m)\u001b[0m\u001b[0;34m\u001b[0m\u001b[0;34m\u001b[0m\u001b[0m\n\u001b[0m\u001b[1;32m     31\u001b[0m             \u001b[0;32mif\u001b[0m \u001b[0muse_mean\u001b[0m\u001b[0;34m:\u001b[0m\u001b[0;34m\u001b[0m\u001b[0;34m\u001b[0m\u001b[0m\n\u001b[1;32m     32\u001b[0m                 \u001b[0mpi\u001b[0m\u001b[0;34m,\u001b[0m\u001b[0m_\u001b[0m\u001b[0;34m,\u001b[0m\u001b[0mpen\u001b[0m \u001b[0;34m=\u001b[0m \u001b[0mself\u001b[0m\u001b[0;34m.\u001b[0m\u001b[0mpen\u001b[0m\u001b[0;34m(\u001b[0m\u001b[0moutput\u001b[0m\u001b[0;34m)\u001b[0m\u001b[0;34m\u001b[0m\u001b[0;34m\u001b[0m\u001b[0m\n",
      "\u001b[0;31mKeyboardInterrupt\u001b[0m: "
     ]
    }
   ],
   "source": [
    "learnRectify.fit(50,3e-3)"
   ]
  },
  {
   "cell_type": "code",
   "execution_count": 159,
   "metadata": {},
   "outputs": [],
   "source": [
    "def get_pred_path_rect(x,labels,mean=False):\n",
    "    learnSVG.model.eval()\n",
    "    with torch.no_grad():\n",
    "        if mean:\n",
    "            tools, pens = learnSVG.model.get_preds_mean(x,labels)\n",
    "        else:\n",
    "            tools, pens = learnSVG.model.get_preds(x,labels)\n",
    "    pens = learnRectify.model(pens)\n",
    "    out = []\n",
    "    for t,p in zip(tools[0,1:-1],pens[0,1:-1]):\n",
    "        t = data.vocab[t]\n",
    "        out.append(t)\n",
    "        out.append(\" \".join([str(int(np.rint(500*n.item()))) for n in p[:len(tool_dict[t])]]))\n",
    "    return \" \".join(out)"
   ]
  },
  {
   "cell_type": "code",
   "execution_count": 160,
   "metadata": {},
   "outputs": [],
   "source": [
    "def get_pred_path_both(x,labels,mean=False,i=0):\n",
    "    learnSVG.model.eval()\n",
    "    with torch.no_grad():\n",
    "        if mean:\n",
    "            tools, pens = learnSVG.model.get_preds_mean(x,labels)\n",
    "        else:\n",
    "            tools, pens = learnSVG.model.get_preds(x,labels)\n",
    "\n",
    "    out = []\n",
    "    for t,p in zip(tools[i,1:-1],pens[i,1:-1]):\n",
    "        t = data.vocab[t]\n",
    "        out.append(t)\n",
    "        out.append(\" \".join([str(int(np.rint(500*n.item()))) for n in p[:len(tool_dict[t])]]))\n",
    "    norect = \" \".join(out)\n",
    "    \n",
    "    pens2 = learnRectify.model(pens)\n",
    "    out = []\n",
    "    for t,p in zip(tools[i,1:-1],pens2[i,1:-1]):\n",
    "        t = data.vocab[t]\n",
    "        out.append(t)\n",
    "        out.append(\" \".join([str(int(np.rint(500*n.item()))) for n in p[:len(tool_dict[t])]]))\n",
    "    rect = \" \".join(out)\n",
    "    return norect, rect"
   ]
  },
  {
   "cell_type": "code",
   "execution_count": 161,
   "metadata": {},
   "outputs": [],
   "source": [
    "x,y = next(iter(data.train_dl))\n",
    "labels = y[2]"
   ]
  },
  {
   "cell_type": "code",
   "execution_count": 162,
   "metadata": {},
   "outputs": [
    {
     "data": {
      "image/png": "[encoded data removed]",
      "text/plain": [
       "<Figure size 1440x1440 with 30 Axes>"
      ]
     },
     "metadata": {
      "needs_background": "light"
     },
     "output_type": "display_data"
    }
   ],
   "source": [
    "fig, axes = plt.subplots(10,3,figsize=(20,20))\n",
    "for i in range(10):\n",
    "    orig = render_path_wand(path_from_tensors(y[0],y[1],i),500,500)\n",
    "    norect,rect = get_pred_path_both(x,labels,mean=True,i=i)\n",
    "    #norect = norect[:len(orig)]\n",
    "    #rect = rect[:len(orig)]\n",
    "    norect = norect[:norect.find(\"END\")-1]\n",
    "    rect = rect[:rect.find(\"END\")-1]\n",
    "    norect = render_path_wand(norect,500,500)\n",
    "    rect = render_path_wand(rect,500,500)\n",
    "    axes[i,0].imshow(orig)\n",
    "    axes[i,1].imshow(norect)\n",
    "    axes[i,2].imshow(rect)"
   ]
  },
  {
   "cell_type": "code",
   "execution_count": 36,
   "metadata": {},
   "outputs": [
    {
     "data": {
      "text/plain": [
       "'M 291 330 q -8 45 -34 74 t -49 48 t -67 29 l -17 -53 q 23 -9 35 -20 t 19 -27 t 9 -36 l 41 -298 l 89 0 z  PAD  z  PAD '"
      ]
     },
     "execution_count": 36,
     "metadata": {},
     "output_type": "execute_result"
    }
   ],
   "source": [
    "p_mean = get_pred_path_rect(x[[0]],labels[[0]],mean=True)\n",
    "#p_mean = p_mean[:p_mean.find(\"z\")+1]\n",
    "p_mean = p_mean[:p_mean.find(\"END\")-1]\n",
    "#p_mean = p_mean[:len(po)]\n",
    "p_mean"
   ]
  },
  {
   "cell_type": "code",
   "execution_count": 37,
   "metadata": {},
   "outputs": [
    {
     "ename": "NameError",
     "evalue": "name 'path_from_tensors' is not defined",
     "output_type": "error",
     "traceback": [
      "\u001b[0;31m---------------------------------------------------------------------------\u001b[0m",
      "\u001b[0;31mNameError\u001b[0m                                 Traceback (most recent call last)",
      "\u001b[0;32m<ipython-input-37-9c011d6b68c9>\u001b[0m in \u001b[0;36m<module>\u001b[0;34m\u001b[0m\n\u001b[0;32m----> 1\u001b[0;31m \u001b[0mrender_path_wand\u001b[0m\u001b[0;34m(\u001b[0m\u001b[0mpath_from_tensors\u001b[0m\u001b[0;34m(\u001b[0m\u001b[0my\u001b[0m\u001b[0;34m[\u001b[0m\u001b[0;36m0\u001b[0m\u001b[0;34m]\u001b[0m\u001b[0;34m,\u001b[0m\u001b[0my\u001b[0m\u001b[0;34m[\u001b[0m\u001b[0;36m1\u001b[0m\u001b[0;34m]\u001b[0m\u001b[0;34m)\u001b[0m\u001b[0;34m,\u001b[0m\u001b[0;36m500\u001b[0m\u001b[0;34m,\u001b[0m\u001b[0;36m500\u001b[0m\u001b[0;34m)\u001b[0m\u001b[0;34m\u001b[0m\u001b[0;34m\u001b[0m\u001b[0m\n\u001b[0m",
      "\u001b[0;31mNameError\u001b[0m: name 'path_from_tensors' is not defined"
     ]
    }
   ],
   "source": [
    "render_path_wand(path_from_tensors(y[0],y[1]),500,500)"
   ]
  },
  {
   "cell_type": "code",
   "execution_count": 314,
   "metadata": {},
   "outputs": [
    {
     "data": {
      "image/png": "[encoded data removed]",
      "text/plain": [
       "<wand.image.Image: 455fcb5 'SVG' (128x128)>"
      ]
     },
     "execution_count": 314,
     "metadata": {},
     "output_type": "execute_result"
    }
   ],
   "source": [
    "render_path_wand(p_mean,500,500)"
   ]
  },
  {
   "cell_type": "code",
   "execution_count": 49,
   "metadata": {},
   "outputs": [],
   "source": [
    "class SVGDiscriminator(nn.Module):\n",
    "    def __init__(self,num_tokens):\n",
    "        super().__init__()\n",
    "        self.token_emb = nn.Embedding(num_tokens,4)\n",
    "        #self.rnn = nn.GRU(4+4,1024,4,batch_first=True,dropout=0.3)\n",
    "        self.rnn = nn.LSTM(4+4,1024,4,batch_first=True,dropout=0.3)\n",
    "        self.out = nn.Sequential(nn.Linear(1024,128),nn.ReLU(),nn.Linear(128,1))\n",
    "               \n",
    "        \n",
    "    def forward(self, tokens, pen):\n",
    "        tokens = self.token_emb(tokens)\n",
    "        r_in = torch.cat([tokens,pen],dim=2)\n",
    "        #self.rnn.flatten_parameters()\n",
    "        output, (hs,cs) = self.rnn(r_in)\n",
    "        \n",
    "        return self.out(output[:,-1])\n",
    "    \n",
    "class NGAN(nn.Module):\n",
    "    def __init__(self,generator,discriminator,num_classes=None):\n",
    "        super().__init__()\n",
    "        self.gen = generator\n",
    "        self.disc = discriminator\n",
    "        \n",
    "    def forward(self, png, char_class,tokens, pen, return_preds=False):\n",
    "        return self.gen(png, char_class,tokens, pen, return_preds)\n",
    "    \n",
    "def noop_loss(preds,target): return torch.tensor(0.0)"
   ]
  },
  {
   "cell_type": "code",
   "execution_count": 55,
   "metadata": {},
   "outputs": [],
   "source": [
    "def clean_preds(p_tokens,p_pen,r_tokens,r_pen):\n",
    "    p_tokens[:,:-1][r_tokens == 0] = 0\n",
    "    p_pen[:,:-1][r_pen == -2.0] = -2.0\n",
    "    return p_tokens,p_pen\n",
    "\n",
    "class SVGGanTrainer(LearnerCallback):\n",
    "    _order=-20\n",
    "    \n",
    "    def on_train_begin(self, **kwargs):\n",
    "        self.learn.opt = self.learn.opt.new([nn.Sequential(*flatten_model(self.learn.model.disc))])\n",
    "        self.opt_disc = self.learn.opt\n",
    "        self.opt_gen = self.learn.opt.new([nn.Sequential(*flatten_model(self.learn.model.gen))])\n",
    "        self.opt_gen.lr = 3e-4\n",
    "        self.smoothenerG,self.smoothenerD,self.smoothenerMix,self.smoothenerReal = SmoothenValue(0.98),SmoothenValue(0.98),SmoothenValue(0.98),SmoothenValue(0.98)\n",
    "        self.sublosses = [\"g_d\",\"gen_rec\"]\n",
    "        self.smoothDict = {sl: SmoothenValue(0.98) for sl in self.sublosses}\n",
    "        self.recorder.add_metric_names(['gen_loss', 'disc_loss'] + self.sublosses)\n",
    "        self.m_labels = torch.eye(10).cuda()\n",
    "        self.it = 0\n",
    "        self.gen_loss = SVGDecoderLoss()\n",
    "        #self.gen_copy = UpAE().cuda()\n",
    "        #self.gen_copy.load_state_dict(self.learn.model.gen.state_dict())\n",
    "        \n",
    "    def on_batch_begin(self, last_input, last_target, **kwargs):\n",
    "        requires_grad(self.learn.model.gen,False)\n",
    "        requires_grad(self.learn.model.disc,True)\n",
    "        self.learn.model.train()\n",
    "        self.last_input = last_input\n",
    "        self.last_target = last_target\n",
    "        return {\"last_input\": (last_input, last_target[2], last_target[0], last_target[1],True),\"last_target\": 0}\n",
    "    \n",
    "    def on_backward_begin(self, train, last_input, last_output, last_target, **kwargs):\n",
    "        if not train: return\n",
    "        self.learn.model.disc.train()\n",
    "        _,_,preds = last_output\n",
    "        p_tokens,p_pen = clean_preds(*preds,self.last_target[0][:,1:],self.last_target[1][:,1:])\n",
    "        fake_preds = self.learn.model.disc(p_tokens,p_pen)\n",
    "        real_preds = self.learn.model.disc(self.last_target[0][:,1:],self.last_target[1][:,1:])\n",
    "        \n",
    "        losses = [F.relu(1.0-real_preds).mean(),F.relu(1.0+fake_preds).mean()]\n",
    "        loss = sum(losses)\n",
    "        self.opt_disc.zero_grad()\n",
    "        loss.backward()\n",
    "        self.opt_disc.step()\n",
    "        self.smoothenerD.add_value(loss.item())\n",
    "        return {\"last_loss\": loss, \"skip_bwd\": True}\n",
    "    \n",
    "    def on_backward_end(self, **kwargs):\n",
    "        return {\"skip_step\": True}\n",
    "        \n",
    "    def on_batch_end(self, train, last_input, last_target, **kwargs):\n",
    "        if not train: return\n",
    "        #if self.it % 2 != 0: return\n",
    "        requires_grad(self.learn.model.gen,True)\n",
    "        requires_grad(self.learn.model.disc,False)\n",
    "        self.learn.model.gen.train()\n",
    "        \n",
    "        tokens,pen,preds = self.learn.model.gen(*last_input)\n",
    "        p_tokens,p_pen = clean_preds(*preds,self.last_target[0][:,1:],self.last_target[1][:,1:])\n",
    "        lt = torch.argmax(self.last_target[0][0] == 0)\n",
    "        self.last_mix = path_from_tensors(p_tokens[:,:lt],p_pen[:,:lt])\n",
    "        fake_preds = self.learn.model.disc(p_tokens,p_pen)\n",
    "        \n",
    "        losses = [F.relu(1.0-fake_preds).mean(),self.gen_loss((tokens,pen),self.last_target[0][:,1:],self.last_target[1][:,1:])]\n",
    "        loss = sum(losses)\n",
    "        \n",
    "    \n",
    "        for l,sm in zip(losses,self.sublosses):\n",
    "            self.smoothDict[sm].add_value(l.item())\n",
    "            \n",
    "        self.smoothenerG.add_value(loss.item())\n",
    "        self.opt_gen.zero_grad()\n",
    "        loss.backward()\n",
    "        self.opt_gen.step()\n",
    "        self.it += 1\n",
    "        \n",
    "        #self.gen_copy.load_state_dict(self.learn.model.gen.state_dict())\n",
    "\n",
    "        \n",
    "    def on_epoch_end(self, pbar, epoch, last_metrics, **kwargs):\n",
    "        if epoch % 1 == 0:\n",
    "            img = render_path_wand(self.last_mix,500,500)\n",
    "            img.save(filename=\"gan_output.png\")\n",
    "            img = open_image(\"gan_output.png\")\n",
    "            if not hasattr(self,\"imgs\"):\n",
    "                self.imgs = []\n",
    "                self.titles = []\n",
    "            self.imgs.append(img)\n",
    "            self.titles.append(f\"Epoch {epoch}\")\n",
    "            pbar.show_imgs(self.imgs,self.titles)\n",
    "\n",
    "        return add_metrics(last_metrics, [getattr(self.smoothenerG,'smooth',None),getattr(self.smoothenerD,'smooth',None)] + [self.smoothDict[sl].smooth for sl in self.sublosses])"
   ]
  },
  {
   "cell_type": "code",
   "execution_count": 56,
   "metadata": {},
   "outputs": [],
   "source": [
    "gen = SVGDecoder(len(data.vocab),learnAE.model.state_dict())\n",
    "disc = SVGDiscriminator(len(data.vocab))\n",
    "gan = NGAN(gen,disc)\n",
    "learnGAN= Learner(data,gan,loss_func=noop_loss,callback_fns=[SVGGanTrainer],opt_func = partial(optim.Adam, betas = (0.,0.99)), wd=0.)"
   ]
  },
  {
   "cell_type": "code",
   "execution_count": null,
   "metadata": {},
   "outputs": [
    {
     "data": {
      "text/html": [
       "\n",
       "    <div>\n",
       "        <style>\n",
       "            /* Turns off some styling */\n",
       "            progress {\n",
       "                /* gets rid of default border in Firefox and Opera. */\n",
       "                border: none;\n",
       "                /* Needs to be in here for Safari polyfill so background images work as expected. */\n",
       "                background-size: auto;\n",
       "            }\n",
       "            .progress-bar-interrupted, .progress-bar-interrupted::-webkit-progress-bar {\n",
       "                background: #F44336;\n",
       "            }\n",
       "        </style>\n",
       "      <progress value='0' class='' max='10', style='width:300px; height:20px; vertical-align: middle;'></progress>\n",
       "      0.00% [0/10 00:00<00:00]\n",
       "    </div>\n",
       "    \n",
       "<table style='width:600px; margin-bottom:10px'>\n",
       "  <tr>\n",
       "    <th>epoch</th>\n",
       "    <th>train_loss</th>\n",
       "    <th>valid_loss</th>\n",
       "    <th>gen_loss</th>\n",
       "    <th>disc_loss</th>\n",
       "    <th>g_d</th>\n",
       "    <th>gen_rec</th>\n",
       "    <th>time</th>\n",
       "  </tr>\n",
       "</table>\n",
       "\n",
       "\n",
       "    <div>\n",
       "        <style>\n",
       "            /* Turns off some styling */\n",
       "            progress {\n",
       "                /* gets rid of default border in Firefox and Opera. */\n",
       "                border: none;\n",
       "                /* Needs to be in here for Safari polyfill so background images work as expected. */\n",
       "                background-size: auto;\n",
       "            }\n",
       "            .progress-bar-interrupted, .progress-bar-interrupted::-webkit-progress-bar {\n",
       "                background: #F44336;\n",
       "            }\n",
       "        </style>\n",
       "      <progress value='17' class='' max='17', style='width:300px; height:20px; vertical-align: middle;'></progress>\n",
       "      100.00% [17/17 00:10<00:00 0.0000]\n",
       "    </div>\n",
       "    "
      ],
      "text/plain": [
       "<IPython.core.display.HTML object>"
      ]
     },
     "metadata": {},
     "output_type": "display_data"
    }
   ],
   "source": [
    "learnGAN.fit(10,3-3)"
   ]
  }
 ],
 "metadata": {
  "kernelspec": {
   "display_name": "Python 3",
   "language": "python",
   "name": "python3"
  },
  "language_info": {
   "codemirror_mode": {
    "name": "ipython",
    "version": 3
   },
   "file_extension": ".py",
   "mimetype": "text/x-python",
   "name": "python",
   "nbconvert_exporter": "python",
   "pygments_lexer": "ipython3",
   "version": "3.7.2"
  }
 },
 "nbformat": 4,
 "nbformat_minor": 2
}
