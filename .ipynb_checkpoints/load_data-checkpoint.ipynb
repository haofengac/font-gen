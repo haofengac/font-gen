{
 "cells": [
  {
   "cell_type": "code",
   "execution_count": 86,
   "metadata": {},
   "outputs": [
    {
     "name": "stderr",
     "output_type": "stream",
     "text": [
      "\r",
      "  0%|          | 0/503 [00:00<?, ?it/s]"
     ]
    },
    {
     "name": "stdout",
     "output_type": "stream",
     "text": [
      "reading font family paths...\n",
      "reading font family metadata...\n"
     ]
    },
    {
     "name": "stderr",
     "output_type": "stream",
     "text": [
      "100%|██████████| 503/503 [00:36<00:00, 13.66it/s]\n"
     ]
    }
   ],
   "source": [
    "import os\n",
    "from tqdm import tqdm\n",
    "from tools.util import read_metadata\n",
    "\n",
    "data_dir = '/shared/haofeng/fonts/google-fonts'\n",
    "# FIXME: now only keep serif and sans\n",
    "types_keep = ['SERIF', 'SANS_SERIF']\n",
    "\n",
    "print('reading font family paths...')\n",
    "family_paths = [os.path.join(font_type, i)\n",
    "              for font_type in types_keep\n",
    "              for i in os.listdir(os.path.join(data_dir, font_type))\n",
    "              if not i.startswith('.')\n",
    "             ]\n",
    "print('reading font family metadata...')\n",
    "normal_fonts = {}\n",
    "italic_fonts = {}\n",
    "for family in tqdm(family_paths):\n",
    "    meta = read_metadata(os.path.join(data_dir, family, 'METADATA.pb'))\n",
    "    for font in meta.fonts:\n",
    "        if font.style == 'normal':\n",
    "            if not family in normal_fonts.keys():\n",
    "                normal_fonts[family] = {}\n",
    "            normal_fonts[family][font.weight] = os.path.splitext(font.filename)[0]\n",
    "        if font.style == 'italic':\n",
    "            if not family in italic_fonts.keys():\n",
    "                italic_fonts[family] = {}\n",
    "            italic_fonts[family][font.weight] = os.path.splitext(font.filename)[0]\n"
   ]
  },
  {
   "cell_type": "code",
   "execution_count": 89,
   "metadata": {},
   "outputs": [
    {
     "name": "stdout",
     "output_type": "stream",
     "text": [
      "Summary:\n",
      "\n",
      "# Fonts:\n",
      "503 font families, 1433 normal fonts, 579 italic fonts\n",
      "\n",
      "Weight:\n",
      " - Normal\n",
      "  100: 53\n",
      "   200: 81\n",
      "   300: 141\n",
      "   400: 496\n",
      "   500: 127\n",
      "   600: 130\n",
      "   700: 259\n",
      "   800: 76\n",
      "   900: 70\n",
      "\n",
      " - Italic\n",
      "  100: 31\n",
      "   200: 39\n",
      "   300: 58\n",
      "   400: 151\n",
      "   500: 58\n",
      "   600: 56\n",
      "   700: 115\n",
      "   800: 35\n",
      "   900: 36\n",
      "\n"
     ]
    }
   ],
   "source": [
    "\n",
    "print('Summary:\\n')\n",
    "print('# Fonts:')\n",
    "print('{} font families, {} normal fonts, {} italic fonts'.format(len(normal_fonts.keys()),\n",
    "                                          len([j for i in normal_fonts.values() for j in i.keys()]), \n",
    "                                          len([j for i in italic_fonts.values() for j in i.keys()])))\n",
    "\n",
    "normal_weight_dict = {}\n",
    "for family in normal_fonts.keys():\n",
    "    for w in normal_fonts[family].keys():\n",
    "        if not w in normal_weight_dict.keys():\n",
    "            normal_weight_dict[w] = 0\n",
    "        normal_weight_dict[w] += 1\n",
    "\n",
    "italic_weight_dict = {}\n",
    "for family in italic_fonts.keys():\n",
    "    for w in italic_fonts[family].keys():\n",
    "        if not w in italic_weight_dict.keys():\n",
    "            italic_weight_dict[w] = 0\n",
    "        italic_weight_dict[w] += 1\n",
    "\n",
    "print('\\nWeight:')\n",
    "print(' - Normal')\n",
    "print(*['  {}: {}\\n'.format(k, v) for k, v in sorted(normal_weight_dict.items())])\n",
    "\n",
    "print(' - Italic')\n",
    "print(*['  {}: {}\\n'.format(k, v) for k, v in sorted(italic_weight_dict.items())])\n",
    "\n"
   ]
  },
  {
   "cell_type": "code",
   "execution_count": 90,
   "metadata": {},
   "outputs": [],
   "source": [
    "# check all alphanumeric characters exist\n",
    "\n",
    "numbers = [\n",
    "             'zero', 'one', 'two', 'three', 'four',\n",
    "             'five', 'six', 'seven', 'eight', 'nine']\n",
    "lowers = [\n",
    "             'a', 'b', 'c', 'd', 'e', 'f', 'g', 'h', 'i', 'j',\n",
    "             'k', 'l', 'm', 'n', 'o', 'p', 'q', 'r', 's', 't',\n",
    "             'u', 'v', 'w', 'x', 'y', 'z']\n",
    "uppers = [\n",
    "             '$A', '$B', '$C', '$D', '$E', '$F', '$G', '$H', '$I', '$J',\n",
    "             '$K', '$L', '$M', '$N', '$O', '$P', '$Q', '$R', '$S', '$T',\n",
    "             '$U', '$V', '$W', '$X', '$Y', '$Z']\n",
    "\n",
    "alphanumerics = numbers + lowers + uppers\n",
    "\n"
   ]
  },
  {
   "cell_type": "markdown",
   "metadata": {},
   "source": [
    "\n",
    "    "
   ]
  },
  {
   "cell_type": "code",
   "execution_count": 79,
   "metadata": {},
   "outputs": [
    {
     "ename": "ModuleNotFoundError",
     "evalue": "No module named 'svgutils'",
     "output_type": "error",
     "traceback": [
      "\u001b[0;31m---------------------------------------------------------------------------\u001b[0m",
      "\u001b[0;31mModuleNotFoundError\u001b[0m                       Traceback (most recent call last)",
      "\u001b[0;32m<ipython-input-79-6d6316375c19>\u001b[0m in \u001b[0;36m<module>\u001b[0;34m\u001b[0m\n\u001b[1;32m      1\u001b[0m \u001b[0;32mfrom\u001b[0m \u001b[0mIPython\u001b[0m\u001b[0;34m.\u001b[0m\u001b[0mdisplay\u001b[0m \u001b[0;32mimport\u001b[0m \u001b[0mSVG\u001b[0m\u001b[0;34m,\u001b[0m \u001b[0mHTML\u001b[0m\u001b[0;34m,\u001b[0m \u001b[0mdisplay\u001b[0m\u001b[0;34m\u001b[0m\u001b[0;34m\u001b[0m\u001b[0m\n\u001b[0;32m----> 2\u001b[0;31m \u001b[0;32mimport\u001b[0m \u001b[0msvgutils\u001b[0m \u001b[0;32mas\u001b[0m \u001b[0msg\u001b[0m\u001b[0;34m\u001b[0m\u001b[0;34m\u001b[0m\u001b[0m\n\u001b[0m\u001b[1;32m      3\u001b[0m \u001b[0;34m\u001b[0m\u001b[0m\n\u001b[1;32m      4\u001b[0m \u001b[0;32mdef\u001b[0m \u001b[0mshow_svg\u001b[0m\u001b[0;34m(\u001b[0m\u001b[0mpath\u001b[0m\u001b[0;34m)\u001b[0m\u001b[0;34m:\u001b[0m\u001b[0;34m\u001b[0m\u001b[0;34m\u001b[0m\u001b[0m\n\u001b[1;32m      5\u001b[0m     \u001b[0mfig\u001b[0m \u001b[0;34m=\u001b[0m \u001b[0msg\u001b[0m\u001b[0;34m.\u001b[0m\u001b[0mSVGFigure\u001b[0m\u001b[0;34m(\u001b[0m\u001b[0;34m\"5cm\"\u001b[0m\u001b[0;34m,\u001b[0m \u001b[0;34m\"5cm\"\u001b[0m\u001b[0;34m)\u001b[0m\u001b[0;34m\u001b[0m\u001b[0;34m\u001b[0m\u001b[0m\n",
      "\u001b[0;31mModuleNotFoundError\u001b[0m: No module named 'svgutils'"
     ]
    }
   ],
   "source": [
    "from IPython.display import SVG, HTML, display\n",
    "import svgutils as sg\n",
    "\n",
    "def show_svg(path):\n",
    "    fig = sg.SVGFigure(\"5cm\", \"5cm\")\n",
    "    fig1 = sg.fromfile(path)\n",
    "    fig2 = sg.fromfile(path)\n",
    "    plot1 = fig1.getroot()\n",
    "    plot2 = fig2.getroot()\n",
    "    plot2.moveto(280, 0, scale=0.5)\n",
    "\n",
    "    svg = sg.compose.SVG(path)\n",
    "    originalSVG = sg.compose.SVG(path)\n",
    "    figure = sg.compose.Figure(svg.height, svg.width, originalSVG)\n",
    "    display(SVG(filename=path))\n",
    "\n",
    "def display_lowers(font_path):\n",
    "    name = font_path.split('/')[-1]\n",
    "    for a in lowers:\n",
    "        path = os.path.join(font_path, '{}_{}.svg'.format(a, name))\n",
    "        if os.path.exists(path):\n",
    "            show_svg(path)\n",
    "\n",
    "\n",
    "def display_uppers(font_path):\n",
    "    name = font_path.split('/')[-1]\n",
    "    for a in uppers:\n",
    "        path = os.path.join(font_path, '{}_{}.svg'.format(a, name))\n",
    "        if os.path.exists(path):\n",
    "            show_svg(path)\n",
    "            print(path)\n",
    "            break\n",
    "    \n",
    "    \n",
    "def display_numbers(font_path):\n",
    "    name = font_path.split('/')[-1]\n",
    "    for a in numbers:\n",
    "        path = os.path.join(font_path, '{}_{}.svg'.format(a, name))\n",
    "        if os.path.exists(path):\n",
    "            show_svg(path)\n",
    "    \n",
    "    \n",
    "def display_all(font_name):\n",
    "    display_lower_case(font_name)\n",
    "    display_upper_case(font_name)\n",
    "    display_numbers(font_name)\n",
    "    \n",
    "    \n",
    "def display_character(c, font_paths):\n",
    "    for font_path in font_paths:\n",
    "        name = font_path.split('/')[-1]\n",
    "        path = os.path.join(font_path, '{}_{}.svg'.format(c, name))\n",
    "        if os.path.exists(path):\n",
    "            show_svg(path)"
   ]
  },
  {
   "cell_type": "code",
   "execution_count": null,
   "metadata": {},
   "outputs": [],
   "source": [
    "display_uppers(os.path.join(data_dir, list(normal_fonts.keys())[0], list(normal_fonts.values())[0][400]))"
   ]
  },
  {
   "cell_type": "code",
   "execution_count": 80,
   "metadata": {},
   "outputs": [
    {
     "name": "stderr",
     "output_type": "stream",
     "text": [
      "\r",
      "  0%|          | 0/503 [00:00<?, ?it/s]"
     ]
    },
    {
     "name": "stdout",
     "output_type": "stream",
     "text": [
      "checking normal fonts...\n"
     ]
    },
    {
     "name": "stderr",
     "output_type": "stream",
     "text": [
      "100%|██████████| 503/503 [05:33<00:00,  1.51it/s]\n",
      "  0%|          | 0/153 [00:00<?, ?it/s]"
     ]
    },
    {
     "name": "stdout",
     "output_type": "stream",
     "text": [
      "checking italic fonts...\n"
     ]
    },
    {
     "name": "stderr",
     "output_type": "stream",
     "text": [
      "100%|██████████| 153/153 [01:28<00:00,  1.96it/s]\n"
     ]
    }
   ],
   "source": [
    "# check missing characters\n",
    "\n",
    "print('checking normal fonts...')\n",
    "missing_dict = {a: [] for a in alphanumerics}\n",
    "for family in tqdm(normal_fonts.keys()):\n",
    "    family_dir = os.path.join(data_dir, family)\n",
    "    for weight in normal_fonts[family].keys():\n",
    "        name = normal_fonts[family][weight]\n",
    "        svgs = os.listdir(os.path.join(family_dir, name))\n",
    "        for a in alphanumerics:\n",
    "            if not '{}_{}.svg'.format(a, name) in svgs:\n",
    "                missing_dict[a] += [name]\n",
    "\n",
    "print('checking italic fonts...')\n",
    "italic_missing_dict = {a: [] for a in alphanumerics}\n",
    "for family in tqdm(italic_fonts.keys()):\n",
    "    family_dir = os.path.join(data_dir, family)\n",
    "    for weight in italic_fonts[family].keys():\n",
    "        name = italic_fonts[family][weight]\n",
    "        svgs = os.listdir(os.path.join(family_dir, name))\n",
    "        for a in alphanumerics:\n",
    "            if not '{}_{}.svg'.format(a, name) in svgs:\n",
    "                italic_missing_dict[a] += [name]\n",
    "            "
   ]
  },
  {
   "cell_type": "code",
   "execution_count": 81,
   "metadata": {},
   "outputs": [],
   "source": [
    "missing_normal_fonts = set([j for i in missing_dict.values() for j in i])\n",
    "missing_italic_fonts = set([j for i in italic_missing_dict.values() for j in i])"
   ]
  },
  {
   "cell_type": "code",
   "execution_count": 82,
   "metadata": {},
   "outputs": [
    {
     "data": {
      "text/plain": [
       "(129, 46)"
      ]
     },
     "execution_count": 82,
     "metadata": {},
     "output_type": "execute_result"
    }
   ],
   "source": [
    "len(missing_normal_fonts), len(missing_italic_fonts)"
   ]
  },
  {
   "cell_type": "code",
   "execution_count": 94,
   "metadata": {},
   "outputs": [],
   "source": [
    "filtered_normal_fonts = {}\n",
    "for f, vf in normal_fonts.items():\n",
    "    for w, fn in vf.items():\n",
    "        if fn not in missing_normal_fonts:\n",
    "            if not f in filtered_normal_fonts.keys():\n",
    "                filtered_normal_fonts[f] = {}\n",
    "            filtered_normal_fonts[f][w] = fn\n",
    "            \n",
    "filtered_italic_fonts = {}\n",
    "for f, vf in italic_fonts.items():\n",
    "    for w, fn in vf.items():\n",
    "        if fn not in missing_italic_fonts:\n",
    "            if not f in filtered_italic_fonts.keys():\n",
    "                filtered_italic_fonts[f] = {}\n",
    "            filtered_italic_fonts[f][w] = fn"
   ]
  },
  {
   "cell_type": "code",
   "execution_count": 99,
   "metadata": {},
   "outputs": [
    {
     "name": "stderr",
     "output_type": "stream",
     "text": [
      "\r",
      "  0%|          | 0/432 [00:00<?, ?it/s]"
     ]
    },
    {
     "name": "stdout",
     "output_type": "stream",
     "text": [
      "copying normal fonts...\n"
     ]
    },
    {
     "name": "stderr",
     "output_type": "stream",
     "text": [
      "  1%|          | 4/432 [00:52<1:43:12, 14.47s/it]"
     ]
    },
    {
     "ename": "KeyboardInterrupt",
     "evalue": "",
     "output_type": "error",
     "traceback": [
      "\u001b[0;31m---------------------------------------------------------------------------\u001b[0m",
      "\u001b[0;31mKeyboardInterrupt\u001b[0m                         Traceback (most recent call last)",
      "\u001b[0;32m<ipython-input-99-fc260c1cbc85>\u001b[0m in \u001b[0;36m<module>\u001b[0;34m\u001b[0m\n\u001b[1;32m     21\u001b[0m             \u001b[0mmakedirs\u001b[0m\u001b[0;34m(\u001b[0m\u001b[0;34m[\u001b[0m\u001b[0mnew_base_path\u001b[0m\u001b[0;34m]\u001b[0m\u001b[0;34m)\u001b[0m\u001b[0;34m\u001b[0m\u001b[0;34m\u001b[0m\u001b[0m\n\u001b[1;32m     22\u001b[0m             \u001b[0mnew_path\u001b[0m \u001b[0;34m=\u001b[0m \u001b[0mos\u001b[0m\u001b[0;34m.\u001b[0m\u001b[0mpath\u001b[0m\u001b[0;34m.\u001b[0m\u001b[0mjoin\u001b[0m\u001b[0;34m(\u001b[0m\u001b[0mnew_base_path\u001b[0m\u001b[0;34m,\u001b[0m \u001b[0;34m'{}.svg'\u001b[0m\u001b[0;34m.\u001b[0m\u001b[0mformat\u001b[0m\u001b[0;34m(\u001b[0m\u001b[0ma\u001b[0m\u001b[0;34m)\u001b[0m\u001b[0;34m)\u001b[0m\u001b[0;34m\u001b[0m\u001b[0;34m\u001b[0m\u001b[0m\n\u001b[0;32m---> 23\u001b[0;31m             \u001b[0mshutil\u001b[0m\u001b[0;34m.\u001b[0m\u001b[0mcopyfile\u001b[0m\u001b[0;34m(\u001b[0m\u001b[0mpath\u001b[0m\u001b[0;34m,\u001b[0m \u001b[0mnew_path\u001b[0m\u001b[0;34m)\u001b[0m\u001b[0;34m\u001b[0m\u001b[0;34m\u001b[0m\u001b[0m\n\u001b[0m\u001b[1;32m     24\u001b[0m \u001b[0;34m\u001b[0m\u001b[0m\n\u001b[1;32m     25\u001b[0m \u001b[0;32mfor\u001b[0m \u001b[0mf\u001b[0m\u001b[0;34m,\u001b[0m \u001b[0mvf\u001b[0m \u001b[0;32min\u001b[0m \u001b[0mtqdm\u001b[0m\u001b[0;34m(\u001b[0m\u001b[0mfiltered_italic_fonts\u001b[0m\u001b[0;34m.\u001b[0m\u001b[0mitems\u001b[0m\u001b[0;34m(\u001b[0m\u001b[0;34m)\u001b[0m\u001b[0;34m)\u001b[0m\u001b[0;34m:\u001b[0m\u001b[0;34m\u001b[0m\u001b[0;34m\u001b[0m\u001b[0m\n",
      "\u001b[0;32m~/anaconda3/lib/python3.7/shutil.py\u001b[0m in \u001b[0;36mcopyfile\u001b[0;34m(src, dst, follow_symlinks)\u001b[0m\n\u001b[1;32m    120\u001b[0m         \u001b[0;32mwith\u001b[0m \u001b[0mopen\u001b[0m\u001b[0;34m(\u001b[0m\u001b[0msrc\u001b[0m\u001b[0;34m,\u001b[0m \u001b[0;34m'rb'\u001b[0m\u001b[0;34m)\u001b[0m \u001b[0;32mas\u001b[0m \u001b[0mfsrc\u001b[0m\u001b[0;34m:\u001b[0m\u001b[0;34m\u001b[0m\u001b[0;34m\u001b[0m\u001b[0m\n\u001b[1;32m    121\u001b[0m             \u001b[0;32mwith\u001b[0m \u001b[0mopen\u001b[0m\u001b[0;34m(\u001b[0m\u001b[0mdst\u001b[0m\u001b[0;34m,\u001b[0m \u001b[0;34m'wb'\u001b[0m\u001b[0;34m)\u001b[0m \u001b[0;32mas\u001b[0m \u001b[0mfdst\u001b[0m\u001b[0;34m:\u001b[0m\u001b[0;34m\u001b[0m\u001b[0;34m\u001b[0m\u001b[0m\n\u001b[0;32m--> 122\u001b[0;31m                 \u001b[0mcopyfileobj\u001b[0m\u001b[0;34m(\u001b[0m\u001b[0mfsrc\u001b[0m\u001b[0;34m,\u001b[0m \u001b[0mfdst\u001b[0m\u001b[0;34m)\u001b[0m\u001b[0;34m\u001b[0m\u001b[0;34m\u001b[0m\u001b[0m\n\u001b[0m\u001b[1;32m    123\u001b[0m     \u001b[0;32mreturn\u001b[0m \u001b[0mdst\u001b[0m\u001b[0;34m\u001b[0m\u001b[0;34m\u001b[0m\u001b[0m\n\u001b[1;32m    124\u001b[0m \u001b[0;34m\u001b[0m\u001b[0m\n",
      "\u001b[0;31mKeyboardInterrupt\u001b[0m: "
     ]
    }
   ],
   "source": [
    "import shutil\n",
    "\n",
    "def makedirs(dirs):\n",
    "    for dr in dirs:\n",
    "        if not os.path.exists(dr):\n",
    "            os.makedirs(dr)\n",
    "\n",
    "# copy to new folder\n",
    "new_data_dir = '/shared/haofeng/fonts/google-fonts-data'\n",
    "normal_dir = os.path.join(new_data_dir, 'normal')\n",
    "italic_dir = os.path.join(new_data_dir, 'italic')\n",
    "\n",
    "print('copying normal fonts...')\n",
    "for f, vf in tqdm(filtered_normal_fonts.items()):\n",
    "    for w, fn in vf.items():\n",
    "        for a in alphanumerics:\n",
    "            path = os.path.join(data_dir, f, fn, '{}_{}.svg'.format(a, fn))\n",
    "            new_base_path = os.path.join(normal_dir, f, str(w), 'svg')\n",
    "            makedirs([new_base_path])\n",
    "            new_path = os.path.join(new_base_path, '{}.svg'.format(a))\n",
    "            shutil.copyfile(path, new_path)\n",
    "            \n",
    "for f, vf in tqdm(filtered_italic_fonts.items()):\n",
    "    for w, fn in vf.items():\n",
    "        for a in alphanumerics:\n",
    "            path = os.path.join(data_dir, f, fn, '{}_{}.svg'.format(a, fn))\n",
    "            new_base_path = os.path.join(italic_dir, f, str(w), 'svg')\n",
    "            makedirs([new_base_path])\n",
    "            new_path = os.path.join(new_base_path, '{}.svg'.format(a))\n",
    "            shutil.copyfile(path, new_path)"
   ]
  },
  {
   "cell_type": "code",
   "execution_count": null,
   "metadata": {},
   "outputs": [],
   "source": []
  }
 ],
 "metadata": {
  "kernelspec": {
   "display_name": "Python (font)",
   "language": "python",
   "name": "font"
  },
  "language_info": {
   "codemirror_mode": {
    "name": "ipython",
    "version": 3
   },
   "file_extension": ".py",
   "mimetype": "text/x-python",
   "name": "python",
   "nbconvert_exporter": "python",
   "pygments_lexer": "ipython3",
   "version": "3.7.3"
  }
 },
 "nbformat": 4,
 "nbformat_minor": 2
}
