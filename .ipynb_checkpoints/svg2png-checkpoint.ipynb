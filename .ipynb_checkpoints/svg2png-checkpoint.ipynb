{
 "cells": [
  {
   "cell_type": "code",
   "execution_count": 1,
   "metadata": {},
   "outputs": [],
   "source": [
    "from IPython.display import SVG, HTML, display, Image\n",
    "import svgutils as sg\n",
    "\n",
    "def show_svg(path):\n",
    "    display(SVG(filename=path))\n",
    "\n"
   ]
  },
  {
   "cell_type": "code",
   "execution_count": 2,
   "metadata": {},
   "outputs": [],
   "source": [
    "from cairosvg.surface import PNGSurface\n",
    "import os\n",
    "from PIL import Image\n",
    "import matplotlib.pyplot as plt\n",
    "import io\n",
    "import numpy as np\n",
    "\n",
    "def svg2png(in_path, width, height, out_path):\n",
    "    with open(in_path, 'rb') as svg_file:\n",
    "        png = PNGSurface.convert(\n",
    "            bytestring=svg_file.read(),\n",
    "            width=width,\n",
    "            height=height\n",
    "            )\n",
    "    image = np.array(Image.open(io.BytesIO(png)))[:, :, -1]\n",
    "    image = Image.fromarray(image)\n",
    "    w, h = image.size\n",
    "    ratio = w / float(h)\n",
    "    new_im = Image.new(\"L\", (64, 64))\n",
    "    new_size =  (w * 64 // h, 64)\n",
    "    image = image.resize(new_size, Image.ANTIALIAS)\n",
    "    new_im.paste(image.convert('L'), ((64-new_size[0])//2, (64-new_size[1])//2))\n",
    "    plt.imsave(out_path, new_im)\n"
   ]
  },
  {
   "cell_type": "code",
   "execution_count": 3,
   "metadata": {},
   "outputs": [
    {
     "name": "stdout",
     "output_type": "stream",
     "text": [
      "/shared/haofeng/fonts/google-fonts-data/italic/SANS_SERIF/alegreyasanssc/500/svg/seven.svg 113646\n"
     ]
    }
   ],
   "source": [
    "import glob2\n",
    "\n",
    "base_path = '/shared/haofeng/fonts/google-fonts-data'\n",
    "paths = glob2.glob(os.path.join(base_path, '**/*.svg'))\n"
   ]
  },
  {
   "cell_type": "code",
   "execution_count": 13,
   "metadata": {},
   "outputs": [
    {
     "name": "stdout",
     "output_type": "stream",
     "text": [
      "/shared/haofeng/fonts/google-fonts-data/italic/SANS_SERIF/alegreyasanssc/500/svg/seven.svg 113646\n",
      "/shared/haofeng/fonts/google-fonts-data/italic/SANS_SERIF/alegreyasanssc/500/png/seven.png\n"
     ]
    },
    {
     "data": {
      "image/png": "[encoded data removed]",
      "text/plain": [
       "<Figure size 432x288 with 1 Axes>"
      ]
     },
     "metadata": {
      "needs_background": "light"
     },
     "output_type": "display_data"
    }
   ],
   "source": [
    "from tqdm import tqdm\n",
    "\n",
    "for filename in tqdm(paths):\n",
    "    png_dir = os.path.join(*(filename.split('/')[:-2] + ['png']))\n",
    "    if filename.startswith('/'):\n",
    "        png_dir = '/' + png_dir\n",
    "    if not os.path.exists(png_dir):\n",
    "        os.makedirs(png_dir)\n",
    "    png_path = os.path.join(png_dir, filename.split('/')[-1].split('.')[0] + '.png')\n",
    "    svg2png(filename, 64, 64, png_path)\n"
   ]
  },
  {
   "cell_type": "code",
   "execution_count": null,
   "metadata": {},
   "outputs": [],
   "source": [
    "\n",
    "\n"
   ]
  },
  {
   "cell_type": "code",
   "execution_count": null,
   "metadata": {},
   "outputs": [],
   "source": []
  },
  {
   "cell_type": "code",
   "execution_count": null,
   "metadata": {},
   "outputs": [],
   "source": []
  }
 ],
 "metadata": {
  "kernelspec": {
   "display_name": "Python [conda env:font] *",
   "language": "python",
   "name": "conda-env-font-py"
  },
  "language_info": {
   "codemirror_mode": {
    "name": "ipython",
    "version": 3
   },
   "file_extension": ".py",
   "mimetype": "text/x-python",
   "name": "python",
   "nbconvert_exporter": "python",
   "pygments_lexer": "ipython3",
   "version": "3.7.3"
  }
 },
 "nbformat": 4,
 "nbformat_minor": 2
}
